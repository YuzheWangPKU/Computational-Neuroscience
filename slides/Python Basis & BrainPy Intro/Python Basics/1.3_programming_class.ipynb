{
 "cells": [
  {
   "cell_type": "markdown",
   "id": "07b291af",
   "metadata": {},
   "source": [
    "# class: Python一切皆对象"
   ]
  },
  {
   "cell_type": "markdown",
   "id": "0dc9d453",
   "metadata": {},
   "source": [
    "在python中，一切皆对象。数字、字符串、元组、列表、字典、函数、方法、类、模块等等都是对象，包括你的代码。"
   ]
  },
  {
   "cell_type": "markdown",
   "id": "3a20a3f6",
   "metadata": {},
   "source": [
    "## 介绍"
   ]
  },
  {
   "cell_type": "markdown",
   "id": "44fdd6f8",
   "metadata": {},
   "source": [
    "Python 的所有对象都有三个特性："
   ]
  },
  {
   "cell_type": "markdown",
   "id": "f4fd7c02",
   "metadata": {},
   "source": [
    "- **身份**：每个对象都有一个唯一的身份标识自己，任何对象的身份都可以使用内建函数 id() 来得到，可以简单的认为这个值是该对象的内存地址。"
   ]
  },
  {
   "cell_type": "code",
   "execution_count": 1,
   "id": "e57a6138",
   "metadata": {},
   "outputs": [
    {
     "data": {
      "text/plain": [
       "140736164144928"
      ]
     },
     "execution_count": 1,
     "metadata": {},
     "output_type": "execute_result"
    }
   ],
   "source": [
    "a = -1\n",
    "id(a)"
   ]
  },
  {
   "cell_type": "markdown",
   "id": "c4ae7098",
   "metadata": {},
   "source": [
    "- **类型**：对象的类型决定了对象可以保存什么类型的值，有哪些属性和方法，可以进行哪些操作，遵循怎样的规则。可以使用内建函数 `type()` 来查看对象的类型。"
   ]
  },
  {
   "cell_type": "code",
   "execution_count": 2,
   "id": "7cb1ea75",
   "metadata": {},
   "outputs": [
    {
     "data": {
      "text/plain": [
       "int"
      ]
     },
     "execution_count": 2,
     "metadata": {},
     "output_type": "execute_result"
    }
   ],
   "source": [
    "type(a)"
   ]
  },
  {
   "cell_type": "code",
   "execution_count": 3,
   "id": "54540665",
   "metadata": {},
   "outputs": [
    {
     "data": {
      "text/plain": [
       "type"
      ]
     },
     "execution_count": 3,
     "metadata": {},
     "output_type": "execute_result"
    }
   ],
   "source": [
    "type(type(a))"
   ]
  },
  {
   "cell_type": "markdown",
   "id": "4b78a92b",
   "metadata": {},
   "source": [
    "- **值**：对象所表示的数据"
   ]
  },
  {
   "cell_type": "code",
   "execution_count": 4,
   "id": "c5f07d9f",
   "metadata": {},
   "outputs": [
    {
     "data": {
      "text/plain": [
       "1"
      ]
     },
     "execution_count": 4,
     "metadata": {},
     "output_type": "execute_result"
    }
   ],
   "source": [
    "a"
   ]
  },
  {
   "cell_type": "markdown",
   "id": "e6d56469",
   "metadata": {},
   "source": [
    "- **对象的属性**：大部分 Python 对象有属性、值或方法，使用句点（.）标记法来访问属性。最常见的属性是函数和方法，一些 Python 对象也有数据属性，如：类、模块、文件等"
   ]
  },
  {
   "cell_type": "code",
   "execution_count": 5,
   "id": "81991aa0",
   "metadata": {},
   "outputs": [
    {
     "data": {
      "text/plain": [
       "1"
      ]
     },
     "execution_count": 5,
     "metadata": {},
     "output_type": "execute_result"
    }
   ],
   "source": [
    "a.real"
   ]
  },
  {
   "cell_type": "code",
   "execution_count": 8,
   "id": "ce9dae36",
   "metadata": {},
   "outputs": [
    {
     "data": {
      "text/plain": [
       "1"
      ]
     },
     "execution_count": 8,
     "metadata": {},
     "output_type": "execute_result"
    }
   ],
   "source": [
    "a.bit_length()"
   ]
  },
  {
   "cell_type": "code",
   "execution_count": 10,
   "id": "e46cac91",
   "metadata": {},
   "outputs": [
    {
     "data": {
      "text/plain": [
       "1"
      ]
     },
     "execution_count": 10,
     "metadata": {},
     "output_type": "execute_result"
    }
   ],
   "source": [
    "a.__abs__()"
   ]
  },
  {
   "cell_type": "markdown",
   "id": "03a83b6c",
   "metadata": {},
   "source": [
    "所谓的类，就像是一个模板；所谓对象，就像是通过模板生成的具体的事物。类一般具有比较大的共性，对象一般是具体的，带有自己的特性。\n",
    "\n",
    "类与对象的关系，例如人类和人，鸟类和麻雀，交通工具和自行车。其中人类、鸟类、交通工具类都是一种类型称呼，它们中的任何一种都具有像模板一样的共性。例如人类的共性是能说话、有感情、双脚走路、能思考等等，而根据这个人类模板生成一个人，这个具体的人是人类的实例，是一个人类对象，每一个具体的人都有自己的说话方式、感情模式、性格、走路方式、思考能力等等。\n",
    "\n",
    "类与类的关系。有的类的范畴太大，模板太抽象，它们可以稍微细化一点，例如人类可以划分为男性人类和女性人类，交通工具类可以划分为烧油的、电动的、脚踏的。一个大类按照不同的种类划分，可以得到不同标准的小类。无论如何划分，小类总是根据大类的模板生成的，具有大类的共性，又具有自己的个性。"
   ]
  },
  {
   "cell_type": "markdown",
   "id": "d021717e",
   "metadata": {},
   "source": [
    "## 如何创建class"
   ]
  },
  {
   "cell_type": "code",
   "execution_count": 2,
   "id": "d87a1ae7",
   "metadata": {},
   "outputs": [],
   "source": [
    "class Employee(object):  # 类\n",
    "    \n",
    "    empCount = 0  # 类变量\n",
    "\n",
    "    def __init__(self, name, salary):\n",
    "        # self 代表类的实例，self 在定义类的方法时是必须有的，\n",
    "        # 虽然在调用时不必传入相应的参数。  \n",
    "\n",
    "        # 属性  \n",
    "        self.name = name\n",
    "        self.salary = salary\n",
    "\n",
    "        Employee.empCount += 1\n",
    "\n",
    "    # 方法\n",
    "    def displayCount(self):\n",
    "        print(\"Total Employee %d\" % Employee.empCount)\n",
    "\n",
    "    def displayEmployee(self):\n",
    "        print(\"Name : \", self.name,  \", Salary: \", self.salary)"
   ]
  },
  {
   "cell_type": "markdown",
   "id": "e32aa07e",
   "metadata": {},
   "source": [
    "- 类变量\n",
    "- 属性\n",
    "- 私有属性\n",
    "- 方法\n",
    "- 私有方法"
   ]
  },
  {
   "cell_type": "markdown",
   "id": "7a5dea9d",
   "metadata": {},
   "source": [
    "Python内所有的操作都是基于对象的操作。"
   ]
  },
  {
   "cell_type": "markdown",
   "id": "1e2f2c37",
   "metadata": {},
   "source": [
    "**初始化**"
   ]
  },
  {
   "cell_type": "code",
   "execution_count": 4,
   "id": "8e886b7a",
   "metadata": {},
   "outputs": [],
   "source": [
    "em = Employee(name='test', salary=1000)"
   ]
  },
  {
   "cell_type": "code",
   "execution_count": 3,
   "id": "709833a5",
   "metadata": {
    "scrolled": true
   },
   "outputs": [
    {
     "data": {
      "text/plain": [
       "<slot wrapper '__init__' of 'object' objects>"
      ]
     },
     "execution_count": 3,
     "metadata": {},
     "output_type": "execute_result"
    }
   ],
   "source": [
    "a = 'this is a string'\n",
    "\n",
    "str.__init__"
   ]
  },
  {
   "cell_type": "code",
   "execution_count": 5,
   "id": "7059daa8",
   "metadata": {},
   "outputs": [
    {
     "data": {
      "text/plain": [
       "<slot wrapper '__init__' of 'object' objects>"
      ]
     },
     "execution_count": 5,
     "metadata": {},
     "output_type": "execute_result"
    }
   ],
   "source": [
    "b = 10\n",
    "\n",
    "int.__init__"
   ]
  },
  {
   "cell_type": "markdown",
   "id": "cd00c47b",
   "metadata": {},
   "source": [
    "## 如何使用class"
   ]
  },
  {
   "cell_type": "markdown",
   "id": "2d3e9668",
   "metadata": {},
   "source": [
    "### 属性与方法"
   ]
  },
  {
   "cell_type": "markdown",
   "id": "8828b341",
   "metadata": {},
   "source": [
    "**属性与方法**"
   ]
  },
  {
   "cell_type": "code",
   "execution_count": 14,
   "id": "6510843a",
   "metadata": {},
   "outputs": [
    {
     "data": {
      "text/plain": [
       "11"
      ]
     },
     "execution_count": 14,
     "metadata": {},
     "output_type": "execute_result"
    }
   ],
   "source": [
    "b + 1"
   ]
  },
  {
   "cell_type": "code",
   "execution_count": 15,
   "id": "3223a5fe",
   "metadata": {},
   "outputs": [
    {
     "data": {
      "text/plain": [
       "11"
      ]
     },
     "execution_count": 15,
     "metadata": {},
     "output_type": "execute_result"
    }
   ],
   "source": [
    "b.__add__(1)"
   ]
  },
  {
   "cell_type": "code",
   "execution_count": 16,
   "id": "d13a19ef",
   "metadata": {},
   "outputs": [
    {
     "data": {
      "text/plain": [
       "9"
      ]
     },
     "execution_count": 16,
     "metadata": {},
     "output_type": "execute_result"
    }
   ],
   "source": [
    "b - 1"
   ]
  },
  {
   "cell_type": "code",
   "execution_count": 17,
   "id": "57805920",
   "metadata": {},
   "outputs": [
    {
     "data": {
      "text/plain": [
       "9"
      ]
     },
     "execution_count": 17,
     "metadata": {},
     "output_type": "execute_result"
    }
   ],
   "source": [
    "b.__sub__(1)"
   ]
  },
  {
   "cell_type": "code",
   "execution_count": 19,
   "id": "15775970",
   "metadata": {
    "scrolled": false
   },
   "outputs": [
    {
     "data": {
      "text/plain": [
       "20"
      ]
     },
     "execution_count": 19,
     "metadata": {},
     "output_type": "execute_result"
    }
   ],
   "source": [
    "b * 2"
   ]
  },
  {
   "cell_type": "code",
   "execution_count": 18,
   "id": "a12bc048",
   "metadata": {
    "scrolled": true
   },
   "outputs": [
    {
     "data": {
      "text/plain": [
       "20"
      ]
     },
     "execution_count": 18,
     "metadata": {},
     "output_type": "execute_result"
    }
   ],
   "source": [
    "b.__mul__(2)"
   ]
  },
  {
   "cell_type": "code",
   "execution_count": 8,
   "id": "a7450706",
   "metadata": {},
   "outputs": [
    {
     "data": {
      "text/plain": [
       "2.5"
      ]
     },
     "execution_count": 8,
     "metadata": {},
     "output_type": "execute_result"
    }
   ],
   "source": [
    "b / 4"
   ]
  },
  {
   "cell_type": "code",
   "execution_count": 21,
   "id": "e4e0094e",
   "metadata": {
    "scrolled": true
   },
   "outputs": [
    {
     "data": {
      "text/plain": [
       "2.5"
      ]
     },
     "execution_count": 21,
     "metadata": {},
     "output_type": "execute_result"
    }
   ],
   "source": [
    "b.__truediv__(4)"
   ]
  },
  {
   "cell_type": "code",
   "execution_count": 32,
   "id": "2fa609e2",
   "metadata": {},
   "outputs": [
    {
     "data": {
      "text/plain": [
       "10"
      ]
     },
     "execution_count": 32,
     "metadata": {},
     "output_type": "execute_result"
    }
   ],
   "source": [
    "abs(b)"
   ]
  },
  {
   "cell_type": "code",
   "execution_count": 33,
   "id": "da5a5eea",
   "metadata": {},
   "outputs": [
    {
     "data": {
      "text/plain": [
       "10"
      ]
     },
     "execution_count": 33,
     "metadata": {},
     "output_type": "execute_result"
    }
   ],
   "source": [
    "b.__abs__()"
   ]
  },
  {
   "cell_type": "code",
   "execution_count": 31,
   "id": "a89ccd68",
   "metadata": {},
   "outputs": [
    {
     "data": {
      "text/plain": [
       "<str_iterator at 0x131043a3760>"
      ]
     },
     "execution_count": 31,
     "metadata": {},
     "output_type": "execute_result"
    }
   ],
   "source": [
    "iter(a)"
   ]
  },
  {
   "cell_type": "code",
   "execution_count": 30,
   "id": "f0faecbb",
   "metadata": {},
   "outputs": [
    {
     "data": {
      "text/plain": [
       "<str_iterator at 0x13104371790>"
      ]
     },
     "execution_count": 30,
     "metadata": {},
     "output_type": "execute_result"
    }
   ],
   "source": [
    "a.__iter__()"
   ]
  },
  {
   "cell_type": "markdown",
   "id": "cf0ea3ff",
   "metadata": {},
   "source": [
    "**属性**"
   ]
  },
  {
   "cell_type": "code",
   "execution_count": 23,
   "id": "b5673efd",
   "metadata": {},
   "outputs": [
    {
     "data": {
      "text/plain": [
       "10"
      ]
     },
     "execution_count": 23,
     "metadata": {},
     "output_type": "execute_result"
    }
   ],
   "source": [
    "b.real"
   ]
  },
  {
   "cell_type": "code",
   "execution_count": 24,
   "id": "1754b488",
   "metadata": {},
   "outputs": [
    {
     "data": {
      "text/plain": [
       "0"
      ]
     },
     "execution_count": 24,
     "metadata": {},
     "output_type": "execute_result"
    }
   ],
   "source": [
    "b.imag"
   ]
  },
  {
   "cell_type": "markdown",
   "id": "f59c1a6c",
   "metadata": {},
   "source": [
    "**方法**"
   ]
  },
  {
   "cell_type": "code",
   "execution_count": 27,
   "id": "38a37068",
   "metadata": {},
   "outputs": [
    {
     "data": {
      "text/plain": [
       "4"
      ]
     },
     "execution_count": 27,
     "metadata": {},
     "output_type": "execute_result"
    }
   ],
   "source": [
    "b.bit_length()"
   ]
  },
  {
   "cell_type": "markdown",
   "id": "71f3154a",
   "metadata": {},
   "source": [
    "**An example**"
   ]
  },
  {
   "cell_type": "code",
   "execution_count": 2,
   "id": "12b3243c",
   "metadata": {},
   "outputs": [],
   "source": [
    "class Area:\n",
    "    def __init__(self, h, w):\n",
    "        self.h = h\n",
    "        self.w = w\n",
    "\n",
    "    def __add__(self, oc):\n",
    "        return Area(self.h + oc.h, self.w + oc.w)\n",
    "    \n",
    "    def __truediv__(self, oc):\n",
    "        return Area(self.h / oc.h, self.w / oc.w)\n",
    "    \n",
    "    def __mul__(self, oc):\n",
    "        return Area(self.h * oc.h, self.w * oc.w)\n",
    "    \n",
    "    def __sub__(self, oc):\n",
    "        return Area(self.h - oc.h, self.w - oc.w)\n",
    "    \n",
    "    def __repr__(self):\n",
    "        return 'Area({}, {})'.format(self.h, self.w)\n",
    "    \n",
    "    def size(self):\n",
    "        return self.h * self.w"
   ]
  },
  {
   "cell_type": "code",
   "execution_count": 3,
   "id": "71e1ce03",
   "metadata": {},
   "outputs": [],
   "source": [
    "c1 = Area(10, 20)\n",
    "c2 = Area(5, 4)"
   ]
  },
  {
   "cell_type": "code",
   "execution_count": 4,
   "id": "1d8d6b7d",
   "metadata": {},
   "outputs": [
    {
     "data": {
      "text/plain": [
       "Area(15, 24)"
      ]
     },
     "execution_count": 4,
     "metadata": {},
     "output_type": "execute_result"
    }
   ],
   "source": [
    "c1 + c2"
   ]
  },
  {
   "cell_type": "code",
   "execution_count": 5,
   "id": "07af2eae",
   "metadata": {},
   "outputs": [
    {
     "data": {
      "text/plain": [
       "Area(5, 16)"
      ]
     },
     "execution_count": 5,
     "metadata": {},
     "output_type": "execute_result"
    }
   ],
   "source": [
    "c1 - c2"
   ]
  },
  {
   "cell_type": "code",
   "execution_count": 6,
   "id": "c95d9986",
   "metadata": {},
   "outputs": [
    {
     "data": {
      "text/plain": [
       "Area(2.0, 5.0)"
      ]
     },
     "execution_count": 6,
     "metadata": {},
     "output_type": "execute_result"
    }
   ],
   "source": [
    "c1 / c2"
   ]
  },
  {
   "cell_type": "code",
   "execution_count": 7,
   "id": "bfb73f8c",
   "metadata": {},
   "outputs": [
    {
     "data": {
      "text/plain": [
       "Area(50, 80)"
      ]
     },
     "execution_count": 7,
     "metadata": {},
     "output_type": "execute_result"
    }
   ],
   "source": [
    "c1 * c2"
   ]
  },
  {
   "cell_type": "code",
   "execution_count": 8,
   "id": "c147f6fc",
   "metadata": {},
   "outputs": [
    {
     "data": {
      "text/plain": [
       "(200, 20)"
      ]
     },
     "execution_count": 8,
     "metadata": {},
     "output_type": "execute_result"
    }
   ],
   "source": [
    "c1.size()"
   ]
  },
  {
   "cell_type": "markdown",
   "id": "c6bbb3ae",
   "metadata": {},
   "source": [
    "### 继承"
   ]
  },
  {
   "cell_type": "markdown",
   "id": "fb241adf",
   "metadata": {},
   "source": [
    "面向对象的编程带来的主要好处之一是代码的重用，实现这种重用的方法之一是通过继承机制。\n",
    "\n",
    "通过继承创建的新类称为子类或派生类，被继承的类称为基类、父类或超类。\n",
    "\n",
    "继承语法\n",
    "\n",
    "```python\n",
    "class 派生类名(基类名)\n",
    "    ...\n",
    "    \n",
    "```\n",
    "    \n",
    "在python中继承中的一些特点：\n",
    "\n",
    "1. 如果在子类中需要父类的构造方法就需要显式的调用父类的构造方法，或者不重写父类的构造方法。详细说明可查看： python 子类继承父类构造函数说明。\n",
    "2. 在调用基类的方法时，需要加上基类的类名前缀，且需要带上 self 参数变量。区别在于类中调用普通函数时并不需要带上 self 参数\n",
    "3. Python 总是首先查找对应类型的方法，如果它不能在派生类中找到对应的方法，它才开始到基类中逐个查找。（先在本类中查找调用的方法，找不到才去基类中找）。"
   ]
  },
  {
   "cell_type": "code",
   "execution_count": 56,
   "id": "32f79897",
   "metadata": {},
   "outputs": [],
   "source": [
    "class Volume(Area):\n",
    "    def __init__(self, h, w, d):\n",
    "        super(Volume, self).__init__(h=h, w=w)\n",
    "        self.d = d\n",
    "\n",
    "    def __add__(self, oc):\n",
    "        return Volume(self.h + oc.h, self.w + oc.w, self.d + oc.d)\n",
    "    \n",
    "    def __truediv__(self, oc):\n",
    "        return Volume(self.h / oc.h, self.w / oc.w, self.d / oc.d)\n",
    "    \n",
    "    def __mul__(self, oc):\n",
    "        return Volume(self.h * oc.h, self.w * oc.w, self.d * oc.d)\n",
    "    \n",
    "    def __sub__(self, oc):\n",
    "        return Volume(self.h - oc.h, self.w - oc.w, self.d - oc.d)\n",
    "    \n",
    "    def __repr__(self):\n",
    "        return 'Volume({}, {}, {})'.format(self.h, self.w, self.d)\n",
    "    \n",
    "    def size(self):\n",
    "        return self.h * self.w * self.d"
   ]
  },
  {
   "cell_type": "markdown",
   "id": "64702c54",
   "metadata": {},
   "source": [
    "**方法重写**: 如果你的父类方法的功能不能满足你的需求，你可以在子类重写你父类的方法"
   ]
  },
  {
   "cell_type": "code",
   "execution_count": 57,
   "id": "3f64adfe",
   "metadata": {},
   "outputs": [
    {
     "data": {
      "text/plain": [
       "(Volume(10, 20, 30), Volume(5, 10, 15))"
      ]
     },
     "execution_count": 57,
     "metadata": {},
     "output_type": "execute_result"
    }
   ],
   "source": [
    "v1 = Volume(10, 20, 30)\n",
    "v2 = Volume(5, 10, 15)\n",
    "\n",
    "v1, v2"
   ]
  },
  {
   "cell_type": "markdown",
   "id": "9440ee71",
   "metadata": {},
   "source": [
    "**Another example**"
   ]
  },
  {
   "cell_type": "markdown",
   "id": "7ccbc233",
   "metadata": {},
   "source": [
    "继承还可以一级一级地继承下来，就好比从爷爷到爸爸、再到儿子这样的关系。"
   ]
  },
  {
   "cell_type": "code",
   "execution_count": 58,
   "id": "06b79adf",
   "metadata": {},
   "outputs": [],
   "source": [
    "class Animal(object):\n",
    "    def run(self):\n",
    "        print('Animal is running...')"
   ]
  },
  {
   "cell_type": "code",
   "execution_count": 59,
   "id": "5cd92e9d",
   "metadata": {},
   "outputs": [],
   "source": [
    "class Dog(Animal):\n",
    "\n",
    "    def run(self):\n",
    "        print('Dog is running...')\n",
    "\n",
    "    def eat(self):\n",
    "        print('Eating meat...')"
   ]
  },
  {
   "cell_type": "code",
   "execution_count": 60,
   "id": "d368dd0c",
   "metadata": {},
   "outputs": [],
   "source": [
    "class Cat(Animal):\n",
    "\n",
    "    def run(self):\n",
    "        print('Cat is running...')"
   ]
  },
  {
   "cell_type": "code",
   "execution_count": 62,
   "id": "3efb1674",
   "metadata": {},
   "outputs": [],
   "source": [
    "a = Animal()\n",
    "b = Dog()\n",
    "c = Cat()"
   ]
  },
  {
   "cell_type": "code",
   "execution_count": 63,
   "id": "3d26f16c",
   "metadata": {},
   "outputs": [
    {
     "name": "stdout",
     "output_type": "stream",
     "text": [
      "Animal is running...\n",
      "Dog is running...\n",
      "Cat is running...\n"
     ]
    }
   ],
   "source": [
    "a.run()\n",
    "b.run()\n",
    "c.run()"
   ]
  },
  {
   "cell_type": "markdown",
   "id": "87c23b09",
   "metadata": {},
   "source": [
    "任何类，最终都可以追溯到根类object，这些继承关系看上去就像一颗倒着的树。比如如下的继承树：\n",
    "\n",
    "![](files/class-inherientance.png)"
   ]
  },
  {
   "cell_type": "markdown",
   "id": "865e77c7",
   "metadata": {},
   "source": [
    "### 获取对象信息"
   ]
  },
  {
   "cell_type": "markdown",
   "id": "ea331695",
   "metadata": {},
   "source": [
    "#### `type()`\n",
    "\n",
    "判断对象类型，使用type()函数"
   ]
  },
  {
   "cell_type": "code",
   "execution_count": 64,
   "id": "7da2d738",
   "metadata": {},
   "outputs": [
    {
     "data": {
      "text/plain": [
       "int"
      ]
     },
     "execution_count": 64,
     "metadata": {},
     "output_type": "execute_result"
    }
   ],
   "source": [
    "type(123)"
   ]
  },
  {
   "cell_type": "code",
   "execution_count": 65,
   "id": "7845e74a",
   "metadata": {},
   "outputs": [
    {
     "data": {
      "text/plain": [
       "str"
      ]
     },
     "execution_count": 65,
     "metadata": {},
     "output_type": "execute_result"
    }
   ],
   "source": [
    "type('str')"
   ]
  },
  {
   "cell_type": "code",
   "execution_count": 66,
   "id": "220b9543",
   "metadata": {},
   "outputs": [
    {
     "data": {
      "text/plain": [
       "NoneType"
      ]
     },
     "execution_count": 66,
     "metadata": {},
     "output_type": "execute_result"
    }
   ],
   "source": [
    "type(None)"
   ]
  },
  {
   "cell_type": "code",
   "execution_count": 67,
   "id": "0592f20a",
   "metadata": {},
   "outputs": [
    {
     "data": {
      "text/plain": [
       "__main__.Animal"
      ]
     },
     "execution_count": 67,
     "metadata": {},
     "output_type": "execute_result"
    }
   ],
   "source": [
    "type(a)"
   ]
  },
  {
   "cell_type": "code",
   "execution_count": 68,
   "id": "ad14f8a7",
   "metadata": {
    "scrolled": true
   },
   "outputs": [
    {
     "data": {
      "text/plain": [
       "__main__.Dog"
      ]
     },
     "execution_count": 68,
     "metadata": {},
     "output_type": "execute_result"
    }
   ],
   "source": [
    "type(b)"
   ]
  },
  {
   "cell_type": "markdown",
   "id": "3c921155",
   "metadata": {},
   "source": [
    "#### `isinstance()`\n",
    "\n",
    "要判断class的类型，可以使用isinstance()函数。"
   ]
  },
  {
   "cell_type": "code",
   "execution_count": 69,
   "id": "404bcb39",
   "metadata": {},
   "outputs": [
    {
     "data": {
      "text/plain": [
       "True"
      ]
     },
     "execution_count": 69,
     "metadata": {},
     "output_type": "execute_result"
    }
   ],
   "source": [
    "isinstance(b, Dog)"
   ]
  },
  {
   "cell_type": "code",
   "execution_count": 70,
   "id": "d464b1d7",
   "metadata": {},
   "outputs": [
    {
     "data": {
      "text/plain": [
       "True"
      ]
     },
     "execution_count": 70,
     "metadata": {},
     "output_type": "execute_result"
    }
   ],
   "source": [
    "isinstance(b, Animal)"
   ]
  },
  {
   "cell_type": "code",
   "execution_count": 71,
   "id": "926d6ea8",
   "metadata": {},
   "outputs": [
    {
     "data": {
      "text/plain": [
       "True"
      ]
     },
     "execution_count": 71,
     "metadata": {},
     "output_type": "execute_result"
    }
   ],
   "source": [
    "isinstance(b, object)"
   ]
  },
  {
   "cell_type": "code",
   "execution_count": 72,
   "id": "5b7a3964",
   "metadata": {},
   "outputs": [
    {
     "data": {
      "text/plain": [
       "False"
      ]
     },
     "execution_count": 72,
     "metadata": {},
     "output_type": "execute_result"
    }
   ],
   "source": [
    "isinstance(b, Cat)"
   ]
  },
  {
   "cell_type": "code",
   "execution_count": 74,
   "id": "a34fd7d1",
   "metadata": {},
   "outputs": [
    {
     "data": {
      "text/plain": [
       "True"
      ]
     },
     "execution_count": 74,
     "metadata": {},
     "output_type": "execute_result"
    }
   ],
   "source": [
    "isinstance(123, int)"
   ]
  },
  {
   "cell_type": "code",
   "execution_count": 75,
   "id": "3e445364",
   "metadata": {},
   "outputs": [
    {
     "data": {
      "text/plain": [
       "True"
      ]
     },
     "execution_count": 75,
     "metadata": {},
     "output_type": "execute_result"
    }
   ],
   "source": [
    "isinstance('123', str)"
   ]
  },
  {
   "cell_type": "markdown",
   "id": "dcd00ef5",
   "metadata": {},
   "source": [
    "#### `dir()`\n",
    "\n",
    "如果要获得一个对象的所有属性和方法，可以使用dir()函数，它返回一个包含字符串的list，比如，获得一个str对象的所有属性和方法："
   ]
  },
  {
   "cell_type": "code",
   "execution_count": 77,
   "id": "456b25c8",
   "metadata": {},
   "outputs": [
    {
     "data": {
      "text/plain": [
       "['__abs__',\n",
       " '__add__',\n",
       " '__and__',\n",
       " '__bool__',\n",
       " '__ceil__',\n",
       " '__class__',\n",
       " '__delattr__',\n",
       " '__dir__',\n",
       " '__divmod__',\n",
       " '__doc__',\n",
       " '__eq__',\n",
       " '__float__',\n",
       " '__floor__',\n",
       " '__floordiv__',\n",
       " '__format__',\n",
       " '__ge__',\n",
       " '__getattribute__',\n",
       " '__getnewargs__',\n",
       " '__gt__',\n",
       " '__hash__',\n",
       " '__index__',\n",
       " '__init__',\n",
       " '__init_subclass__',\n",
       " '__int__',\n",
       " '__invert__',\n",
       " '__le__',\n",
       " '__lshift__',\n",
       " '__lt__',\n",
       " '__mod__',\n",
       " '__mul__',\n",
       " '__ne__',\n",
       " '__neg__',\n",
       " '__new__',\n",
       " '__or__',\n",
       " '__pos__',\n",
       " '__pow__',\n",
       " '__radd__',\n",
       " '__rand__',\n",
       " '__rdivmod__',\n",
       " '__reduce__',\n",
       " '__reduce_ex__',\n",
       " '__repr__',\n",
       " '__rfloordiv__',\n",
       " '__rlshift__',\n",
       " '__rmod__',\n",
       " '__rmul__',\n",
       " '__ror__',\n",
       " '__round__',\n",
       " '__rpow__',\n",
       " '__rrshift__',\n",
       " '__rshift__',\n",
       " '__rsub__',\n",
       " '__rtruediv__',\n",
       " '__rxor__',\n",
       " '__setattr__',\n",
       " '__sizeof__',\n",
       " '__str__',\n",
       " '__sub__',\n",
       " '__subclasshook__',\n",
       " '__truediv__',\n",
       " '__trunc__',\n",
       " '__xor__',\n",
       " 'as_integer_ratio',\n",
       " 'bit_length',\n",
       " 'conjugate',\n",
       " 'denominator',\n",
       " 'from_bytes',\n",
       " 'imag',\n",
       " 'numerator',\n",
       " 'real',\n",
       " 'to_bytes']"
      ]
     },
     "execution_count": 77,
     "metadata": {},
     "output_type": "execute_result"
    }
   ],
   "source": [
    "dir(123)"
   ]
  },
  {
   "cell_type": "code",
   "execution_count": 76,
   "id": "31d09520",
   "metadata": {},
   "outputs": [
    {
     "data": {
      "text/plain": [
       "['__add__',\n",
       " '__class__',\n",
       " '__contains__',\n",
       " '__delattr__',\n",
       " '__dir__',\n",
       " '__doc__',\n",
       " '__eq__',\n",
       " '__format__',\n",
       " '__ge__',\n",
       " '__getattribute__',\n",
       " '__getitem__',\n",
       " '__getnewargs__',\n",
       " '__gt__',\n",
       " '__hash__',\n",
       " '__init__',\n",
       " '__init_subclass__',\n",
       " '__iter__',\n",
       " '__le__',\n",
       " '__len__',\n",
       " '__lt__',\n",
       " '__mod__',\n",
       " '__mul__',\n",
       " '__ne__',\n",
       " '__new__',\n",
       " '__reduce__',\n",
       " '__reduce_ex__',\n",
       " '__repr__',\n",
       " '__rmod__',\n",
       " '__rmul__',\n",
       " '__setattr__',\n",
       " '__sizeof__',\n",
       " '__str__',\n",
       " '__subclasshook__',\n",
       " 'capitalize',\n",
       " 'casefold',\n",
       " 'center',\n",
       " 'count',\n",
       " 'encode',\n",
       " 'endswith',\n",
       " 'expandtabs',\n",
       " 'find',\n",
       " 'format',\n",
       " 'format_map',\n",
       " 'index',\n",
       " 'isalnum',\n",
       " 'isalpha',\n",
       " 'isascii',\n",
       " 'isdecimal',\n",
       " 'isdigit',\n",
       " 'isidentifier',\n",
       " 'islower',\n",
       " 'isnumeric',\n",
       " 'isprintable',\n",
       " 'isspace',\n",
       " 'istitle',\n",
       " 'isupper',\n",
       " 'join',\n",
       " 'ljust',\n",
       " 'lower',\n",
       " 'lstrip',\n",
       " 'maketrans',\n",
       " 'partition',\n",
       " 'replace',\n",
       " 'rfind',\n",
       " 'rindex',\n",
       " 'rjust',\n",
       " 'rpartition',\n",
       " 'rsplit',\n",
       " 'rstrip',\n",
       " 'split',\n",
       " 'splitlines',\n",
       " 'startswith',\n",
       " 'strip',\n",
       " 'swapcase',\n",
       " 'title',\n",
       " 'translate',\n",
       " 'upper',\n",
       " 'zfill']"
      ]
     },
     "execution_count": 76,
     "metadata": {},
     "output_type": "execute_result"
    }
   ],
   "source": [
    "dir('ABC')"
   ]
  },
  {
   "cell_type": "code",
   "execution_count": 78,
   "id": "53a5594f",
   "metadata": {},
   "outputs": [
    {
     "data": {
      "text/plain": [
       "['__class__',\n",
       " '__delattr__',\n",
       " '__dict__',\n",
       " '__dir__',\n",
       " '__doc__',\n",
       " '__eq__',\n",
       " '__format__',\n",
       " '__ge__',\n",
       " '__getattribute__',\n",
       " '__gt__',\n",
       " '__hash__',\n",
       " '__init__',\n",
       " '__init_subclass__',\n",
       " '__le__',\n",
       " '__lt__',\n",
       " '__module__',\n",
       " '__ne__',\n",
       " '__new__',\n",
       " '__reduce__',\n",
       " '__reduce_ex__',\n",
       " '__repr__',\n",
       " '__setattr__',\n",
       " '__sizeof__',\n",
       " '__str__',\n",
       " '__subclasshook__',\n",
       " '__weakref__',\n",
       " 'eat',\n",
       " 'run']"
      ]
     },
     "execution_count": 78,
     "metadata": {},
     "output_type": "execute_result"
    }
   ],
   "source": [
    "dir(b)"
   ]
  },
  {
   "cell_type": "markdown",
   "id": "32a75109",
   "metadata": {},
   "source": [
    "### 实例属性和类属性"
   ]
  },
  {
   "cell_type": "code",
   "execution_count": 81,
   "id": "46e3679c",
   "metadata": {},
   "outputs": [],
   "source": [
    "class Student1(object):\n",
    "    def __init__(self, name):\n",
    "        self.name = name"
   ]
  },
  {
   "cell_type": "code",
   "execution_count": 87,
   "id": "59d87843",
   "metadata": {},
   "outputs": [],
   "source": [
    "s1 = Student1('Bob')\n",
    "s2 = Student1('David')"
   ]
  },
  {
   "cell_type": "code",
   "execution_count": 89,
   "id": "3cf0b88e",
   "metadata": {},
   "outputs": [
    {
     "data": {
      "text/plain": [
       "('Bob', 'David')"
      ]
     },
     "execution_count": 89,
     "metadata": {},
     "output_type": "execute_result"
    }
   ],
   "source": [
    "s1.name, s2.name"
   ]
  },
  {
   "cell_type": "code",
   "execution_count": 90,
   "id": "149c9ff8",
   "metadata": {},
   "outputs": [],
   "source": [
    "s1.name = 'Bob2'"
   ]
  },
  {
   "cell_type": "code",
   "execution_count": 91,
   "id": "1f96cafb",
   "metadata": {},
   "outputs": [
    {
     "data": {
      "text/plain": [
       "('Bob2', 'David')"
      ]
     },
     "execution_count": 91,
     "metadata": {},
     "output_type": "execute_result"
    }
   ],
   "source": [
    "s1.name, s2.name"
   ]
  },
  {
   "cell_type": "code",
   "execution_count": 83,
   "id": "5b5ca9ed",
   "metadata": {},
   "outputs": [],
   "source": [
    "class Student2(object):\n",
    "    name = 'Student'"
   ]
  },
  {
   "cell_type": "code",
   "execution_count": 88,
   "id": "7667a0a9",
   "metadata": {},
   "outputs": [],
   "source": [
    "s3 = Student2()\n",
    "s4 = Student2()"
   ]
  },
  {
   "cell_type": "code",
   "execution_count": 92,
   "id": "0dbccb74",
   "metadata": {},
   "outputs": [
    {
     "data": {
      "text/plain": [
       "('Student', 'Student')"
      ]
     },
     "execution_count": 92,
     "metadata": {},
     "output_type": "execute_result"
    }
   ],
   "source": [
    "s3.name, s4.name"
   ]
  },
  {
   "cell_type": "code",
   "execution_count": 93,
   "id": "9d6aade7",
   "metadata": {},
   "outputs": [],
   "source": [
    "s3.name = 'Student2'"
   ]
  },
  {
   "cell_type": "markdown",
   "id": "4b1c8648",
   "metadata": {},
   "source": [
    "在编写程序的时候，千万不要对实例属性和类属性使用相同的名字，因为相同名称的实例属性将屏蔽掉类属性，但是当你删除实例属性后，再使用相同的名称，访问到的将是类属性。"
   ]
  }
 ],
 "metadata": {
  "kernelspec": {
   "display_name": "Python 3",
   "language": "python",
   "name": "python3"
  },
  "language_info": {
   "codemirror_mode": {
    "name": "ipython",
    "version": 3
   },
   "file_extension": ".py",
   "mimetype": "text/x-python",
   "name": "python",
   "nbconvert_exporter": "python",
   "pygments_lexer": "ipython3",
   "version": "3.8.5"
  },
  "latex_envs": {
   "LaTeX_envs_menu_present": true,
   "autoclose": false,
   "autocomplete": true,
   "bibliofile": "biblio.bib",
   "cite_by": "apalike",
   "current_citInitial": 1,
   "eqLabelWithNumbers": true,
   "eqNumInitial": 1,
   "hotkeys": {
    "equation": "Ctrl-E",
    "itemize": "Ctrl-I"
   },
   "labels_anchors": false,
   "latex_user_defs": false,
   "report_style_numbering": false,
   "user_envs_cfg": false
  },
  "toc": {
   "base_numbering": 1,
   "nav_menu": {},
   "number_sections": false,
   "sideBar": true,
   "skip_h1_title": false,
   "title_cell": "Table of Contents",
   "title_sidebar": "Contents",
   "toc_cell": false,
   "toc_position": {
    "height": "calc(100% - 180px)",
    "left": "10px",
    "top": "150px",
    "width": "243.07px"
   },
   "toc_section_display": true,
   "toc_window_display": true
  }
 },
 "nbformat": 4,
 "nbformat_minor": 5
}
