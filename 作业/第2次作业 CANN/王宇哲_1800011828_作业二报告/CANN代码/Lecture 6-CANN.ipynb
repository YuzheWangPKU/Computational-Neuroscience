{
 "cells": [
  {
   "cell_type": "markdown",
   "id": "767b1c10",
   "metadata": {
    "ExecuteTime": {
     "end_time": "2021-11-09T03:04:45.705642Z",
     "start_time": "2021-11-09T03:04:45.689018Z"
    }
   },
   "source": [
    "#  <center>CANN Implementation with BrainPy</center>\n",
    "   <center>王宇哲 1800011828</center>\n",
    "   <center>College of Chemistry and Molecular Engineering, Peking University</center>"
   ]
  },
  {
   "cell_type": "code",
   "execution_count": 2,
   "id": "4b710da3",
   "metadata": {
    "ExecuteTime": {
     "end_time": "2021-11-15T12:36:40.131463Z",
     "start_time": "2021-11-15T12:36:34.944046Z"
    }
   },
   "outputs": [],
   "source": [
    "import brainpy as bp\n",
    "import brainpy.math as bm\n",
    "import matplotlib.pyplot as plt\n",
    "%matplotlib inline"
   ]
  },
  {
   "cell_type": "markdown",
   "id": "542ce547",
   "metadata": {},
   "source": [
    "The mathematical equation of the Continuous-Attractor Neural Network (CANN) is given by:\n",
    "\n",
    "$$\\tau \\frac{du(x,t)}{dt} = -u(x,t) + \\rho \\int dx' J(x,x') r(x',t)+I_{ext}$$\n",
    "\n",
    "$$r(x,t) = \\frac{u(x,t)^2}{1 + k \\rho \\int dx' u(x',t)^2}$$\n",
    "\n",
    "$$J(x,x') = \\frac{1}{\\sqrt{2\\pi}a}\\exp(-\\frac{|x-x'|^2}{2a^2})$$\n",
    "\n",
    "$$I_{ext} = A\\exp\\left[-\\frac{|x-z(t)|^2}{4a^2}\\right]$$"
   ]
  },
  {
   "cell_type": "code",
   "execution_count": 3,
   "id": "e70022d5",
   "metadata": {
    "ExecuteTime": {
     "end_time": "2021-11-15T12:36:40.217841Z",
     "start_time": "2021-11-15T12:36:40.138784Z"
    }
   },
   "outputs": [],
   "source": [
    "class CANN1D(bp.NeuGroup):\n",
    "    @bp.odeint\n",
    "    def int_u(self, u, t, Iext):\n",
    "        r1 = bp.math.square(u)\n",
    "        r2 = 1.0 + self.k * bp.math.sum(r1)\n",
    "        r = r1 / r2\n",
    "        Irec = bp.math.dot(self.conn_mat, r)\n",
    "        du = (-u + Irec + Iext) / self.tau\n",
    "        return du\n",
    "    \n",
    "    def __init__(self, num, tau=1., k=8.1, a=0.5, A=10., J0=4.,\n",
    "               z_min=-bp.math.pi, z_max=bp.math.pi, **kwargs):\n",
    "        super(CANN1D, self).__init__(size=num, **kwargs)\n",
    "        # parameters\n",
    "        self.tau = tau  # The synaptic time constant\n",
    "        self.k = k  # Degree of the rescaled inhibition\n",
    "        self.a = a  # Half-width of the range of excitatory connections\n",
    "        self.A = A  # Magnitude of the external input\n",
    "        self.J0 = J0  # maximum connection value\n",
    "\n",
    "        # feature space\n",
    "        self.z_min = z_min\n",
    "        self.z_max = z_max\n",
    "        self.z_range = z_max - z_min\n",
    "        self.x = bp.math.linspace(z_min, z_max, num)  # The encoded feature values\n",
    "        self.rho = num / self.z_range  # The neural density\n",
    "        self.dx = self.z_range / num  # The stimulus density\n",
    "\n",
    "        # variables\n",
    "        self.u = bp.math.Variable(bp.math.zeros(num))\n",
    "        self.input = bp.math.Variable(bp.math.zeros(num))\n",
    "\n",
    "        # The connection matrix\n",
    "        self.conn_mat = self.make_conn(self.x)\n",
    "        \n",
    "    def dist(self, d):\n",
    "        d = bp.math.remainder(d, self.z_range)\n",
    "        d = bp.math.where(d > 0.5 * self.z_range, d - self.z_range, d)\n",
    "        return d\n",
    "    \n",
    "    def make_conn(self, x):\n",
    "        assert bp.math.ndim(x) == 1\n",
    "        x_left = bp.math.reshape(x, (-1, 1))\n",
    "        x_right = bp.math.repeat(x.reshape((1, -1)), len(x), axis=0)\n",
    "        d = self.dist(x_left - x_right)\n",
    "        Jxx = self.J0 * bp.math.exp(-0.5 * bp.math.square(d / self.a)) / \\\n",
    "              (bp.math.sqrt(2 * bp.math.pi) * self.a)\n",
    "        return Jxx\n",
    "    \n",
    "    def get_stimulus_by_pos(self, pos):\n",
    "        return self.A * bp.math.exp(-0.25 * bp.math.square(self.dist(self.x - pos) / 0.5))\n",
    "    \n",
    "    def get_stimulus_by_pos_non_gaussian(self, pos):\n",
    "        return self.A  * bp.math.select([self.x>=1,self.x>=-1, self.x<-1], [0.0, 1.0, 0.0])\n",
    "    \n",
    "    def update(self, _t, _dt):\n",
    "        self.u[:] = self.int_u(self.u, _t, self.input)\n",
    "        self.input[:] = 0."
   ]
  },
  {
   "cell_type": "markdown",
   "id": "83f950e9",
   "metadata": {},
   "source": [
    "## 1. Population Coding"
   ]
  },
  {
   "cell_type": "code",
   "execution_count": 4,
   "id": "32657827",
   "metadata": {
    "ExecuteTime": {
     "end_time": "2021-11-15T12:36:41.986245Z",
     "start_time": "2021-11-15T12:36:41.866623Z"
    }
   },
   "outputs": [
    {
     "name": "stdout",
     "output_type": "stream",
     "text": [
      "Compilation used 0.0095 s.\n",
      "Start running ...\n",
      "Run 10.0% used 0.003 s.\n",
      "Run 20.0% used 0.007 s.\n",
      "Run 30.0% used 0.017 s.\n",
      "Run 40.0% used 0.027 s.\n",
      "Run 50.0% used 0.032 s.\n",
      "Run 60.0% used 0.036 s.\n",
      "Run 70.0% used 0.042 s.\n",
      "Run 80.0% used 0.048 s.\n",
      "Run 90.0% used 0.053 s.\n",
      "Run 100.0% used 0.058 s.\n",
      "Simulation is done in 0.059 s.\n",
      "\n"
     ]
    },
    {
     "data": {
      "text/plain": [
       "0.059377431869506836"
      ]
     },
     "execution_count": 4,
     "metadata": {},
     "output_type": "execute_result"
    }
   ],
   "source": [
    "cann = CANN1D(num=512, k=0.1, monitors=['u'])\n",
    "\n",
    "I1 = cann.get_stimulus_by_pos(0.)\n",
    "Iext, duration = bp.inputs.section_input(values=[0., I1, 0.],\n",
    "                                         durations=[1., 8., 8.],\n",
    "                                         return_length=True)\n",
    "cann.run(duration=duration, inputs=('input', Iext, 'iter'), report=0.1)"
   ]
  },
  {
   "cell_type": "code",
   "execution_count": 5,
   "id": "3a5bc637",
   "metadata": {
    "ExecuteTime": {
     "end_time": "2021-11-15T12:37:35.846472Z",
     "start_time": "2021-11-15T12:36:45.146082Z"
    }
   },
   "outputs": [],
   "source": [
    "%%capture\n",
    "fig_1 = bp.visualize.animate_1D(\n",
    "  dynamical_vars=[{'ys': cann.mon.u, 'xs': cann.x, 'legend': 'u'},\n",
    "                  {'ys': Iext, 'xs': cann.x, 'legend': 'Iext'}],\n",
    "  frame_step=1,\n",
    "  frame_delay=100,\n",
    "  show=False,\n",
    "  save_path='cann-encoding.gif'\n",
    ")"
   ]
  },
  {
   "cell_type": "markdown",
   "id": "a67a8eb8",
   "metadata": {},
   "source": [
    "![SegmentLocal](cann-encoding.gif \"segment\")"
   ]
  },
  {
   "cell_type": "markdown",
   "id": "13f186d6",
   "metadata": {},
   "source": [
    "### Discussion 1: Non-gaussian Stimulus"
   ]
  },
  {
   "cell_type": "code",
   "execution_count": 37,
   "id": "9beae45e",
   "metadata": {
    "ExecuteTime": {
     "end_time": "2021-11-14T18:56:15.335102Z",
     "start_time": "2021-11-14T18:56:15.222403Z"
    }
   },
   "outputs": [
    {
     "name": "stdout",
     "output_type": "stream",
     "text": [
      "Compilation used 0.0010 s.\n",
      "Start running ...\n",
      "Run 10.0% used 0.006 s.\n",
      "Run 20.0% used 0.012 s.\n",
      "Run 30.0% used 0.018 s.\n",
      "Run 40.0% used 0.023 s.\n",
      "Run 50.0% used 0.028 s.\n",
      "Run 60.0% used 0.032 s.\n",
      "Run 70.0% used 0.038 s.\n",
      "Run 80.0% used 0.044 s.\n",
      "Run 90.0% used 0.052 s.\n",
      "Run 100.0% used 0.058 s.\n",
      "Simulation is done in 0.058 s.\n",
      "\n"
     ]
    },
    {
     "data": {
      "text/plain": [
       "0.057852745056152344"
      ]
     },
     "execution_count": 37,
     "metadata": {},
     "output_type": "execute_result"
    }
   ],
   "source": [
    "cann = CANN1D(num=512, k=0.1, monitors=['u'])\n",
    "\n",
    "I1 = cann.get_stimulus_by_pos_non_gaussian(0.)\n",
    "Iext, duration = bp.inputs.section_input(values=[0., I1, 0.],\n",
    "                                         durations=[1., 8., 8.],\n",
    "                                         return_length=True)\n",
    "cann.run(duration=duration, inputs=('input', Iext, 'iter'), report=0.1)"
   ]
  },
  {
   "cell_type": "code",
   "execution_count": 38,
   "id": "2515f39c",
   "metadata": {
    "ExecuteTime": {
     "end_time": "2021-11-14T18:57:01.222963Z",
     "start_time": "2021-11-14T18:56:19.928863Z"
    }
   },
   "outputs": [],
   "source": [
    "%%capture\n",
    "fig_1_1 = bp.visualize.animate_1D(\n",
    "  dynamical_vars=[{'ys': cann.mon.u, 'xs': cann.x, 'legend': 'u'},\n",
    "                  {'ys': Iext, 'xs': cann.x, 'legend': 'Iext'}],\n",
    "  frame_step=1,\n",
    "  frame_delay=100,\n",
    "  show=False,\n",
    "  save_path='cann-encoding-non-gaussian.gif'\n",
    ")"
   ]
  },
  {
   "cell_type": "markdown",
   "id": "62e0eed3",
   "metadata": {},
   "source": [
    "![SegmentLocal](cann-encoding-non-gaussian.gif \"segment\")"
   ]
  },
  {
   "cell_type": "markdown",
   "id": "a29aa468",
   "metadata": {},
   "source": [
    "### Discussion 2: Parameters in CANN"
   ]
  },
  {
   "cell_type": "markdown",
   "id": "55114ffd",
   "metadata": {},
   "source": [
    "Parameter: $\\tau$"
   ]
  },
  {
   "cell_type": "code",
   "execution_count": 7,
   "id": "ba471866",
   "metadata": {
    "ExecuteTime": {
     "end_time": "2021-11-15T12:39:54.805658Z",
     "start_time": "2021-11-15T12:39:01.880168Z"
    }
   },
   "outputs": [],
   "source": [
    "%%capture\n",
    "cann = CANN1D(num=512, k=0.1, tau=10.0, monitors=['u'])\n",
    "\n",
    "I1 = cann.get_stimulus_by_pos(0.)\n",
    "Iext, duration = bp.inputs.section_input(values=[0., I1, 0.],\n",
    "                                         durations=[1., 8., 8.],\n",
    "                                         return_length=True)\n",
    "cann.run(duration=duration, inputs=('input', Iext, 'iter'), report=0.1)\n",
    "\n",
    "fig_1_2 = bp.visualize.animate_1D(\n",
    "  dynamical_vars=[{'ys': cann.mon.u, 'xs': cann.x, 'legend': 'u'},\n",
    "                  {'ys': Iext, 'xs': cann.x, 'legend': 'Iext'}],\n",
    "  frame_step=1,\n",
    "  frame_delay=100,\n",
    "  show=False,\n",
    "  save_path='cann-encoding-para-tau.gif'\n",
    ")"
   ]
  },
  {
   "cell_type": "markdown",
   "id": "5405fab8",
   "metadata": {},
   "source": [
    "![SegmentLocal](cann-encoding-para-tau.gif \"segment\")"
   ]
  },
  {
   "cell_type": "markdown",
   "id": "1f733bef",
   "metadata": {},
   "source": [
    "Parameter: $k$"
   ]
  },
  {
   "cell_type": "code",
   "execution_count": 9,
   "id": "c56ed774",
   "metadata": {
    "ExecuteTime": {
     "end_time": "2021-11-15T12:48:45.655607Z",
     "start_time": "2021-11-15T12:47:58.394542Z"
    }
   },
   "outputs": [],
   "source": [
    "%%capture\n",
    "cann = CANN1D(num=512, k=10.0, monitors=['u'])\n",
    "\n",
    "I1 = cann.get_stimulus_by_pos(0.)\n",
    "Iext, duration = bp.inputs.section_input(values=[0., I1, 0.],\n",
    "                                         durations=[1., 8., 8.],\n",
    "                                         return_length=True)\n",
    "cann.run(duration=duration, inputs=('input', Iext, 'iter'), report=0.1)\n",
    "\n",
    "fig_1_3 = bp.visualize.animate_1D(\n",
    "  dynamical_vars=[{'ys': cann.mon.u, 'xs': cann.x, 'legend': 'u'},\n",
    "                  {'ys': Iext, 'xs': cann.x, 'legend': 'Iext'}],\n",
    "  frame_step=1,\n",
    "  frame_delay=100,\n",
    "  show=False,\n",
    "  save_path='cann-encoding-para-k.gif'\n",
    ")"
   ]
  },
  {
   "cell_type": "markdown",
   "id": "e55ad511",
   "metadata": {},
   "source": [
    "![SegmentLocal](cann-encoding-para-k.gif \"segment\")"
   ]
  },
  {
   "cell_type": "markdown",
   "id": "fcd6d15d",
   "metadata": {},
   "source": [
    "Parameter: $a$"
   ]
  },
  {
   "cell_type": "code",
   "execution_count": 45,
   "id": "5d46bcfd",
   "metadata": {
    "ExecuteTime": {
     "end_time": "2021-11-14T19:32:42.662828Z",
     "start_time": "2021-11-14T19:31:59.104891Z"
    }
   },
   "outputs": [],
   "source": [
    "%%capture\n",
    "cann = CANN1D(num=512, k=0.1, a=1.0, monitors=['u'])\n",
    "\n",
    "I1 = cann.get_stimulus_by_pos(0.)\n",
    "Iext, duration = bp.inputs.section_input(values=[0., I1, 0.],\n",
    "                                         durations=[1., 8., 8.],\n",
    "                                         return_length=True)\n",
    "cann.run(duration=duration, inputs=('input', Iext, 'iter'), report=0.1)\n",
    "\n",
    "fig_1_4 = bp.visualize.animate_1D(\n",
    "  dynamical_vars=[{'ys': cann.mon.u, 'xs': cann.x, 'legend': 'u'},\n",
    "                  {'ys': Iext, 'xs': cann.x, 'legend': 'Iext'}],\n",
    "  frame_step=1,\n",
    "  frame_delay=100,\n",
    "  show=False,\n",
    "  save_path='cann-encoding-para-a.gif'\n",
    ")"
   ]
  },
  {
   "cell_type": "markdown",
   "id": "bf4549e4",
   "metadata": {},
   "source": [
    "![SegmentLocal](cann-encoding-para-a.gif \"segment\")"
   ]
  },
  {
   "cell_type": "markdown",
   "id": "865f39f1",
   "metadata": {},
   "source": [
    "Parameter: $J_{0}$"
   ]
  },
  {
   "cell_type": "code",
   "execution_count": 46,
   "id": "6964106e",
   "metadata": {
    "ExecuteTime": {
     "end_time": "2021-11-14T19:34:43.112833Z",
     "start_time": "2021-11-14T19:33:57.878131Z"
    }
   },
   "outputs": [],
   "source": [
    "%%capture\n",
    "cann = CANN1D(num=512, k=0.1, J0=1.0, monitors=['u'])\n",
    "\n",
    "I1 = cann.get_stimulus_by_pos(0.)\n",
    "Iext, duration = bp.inputs.section_input(values=[0., I1, 0.],\n",
    "                                         durations=[1., 8., 8.],\n",
    "                                         return_length=True)\n",
    "cann.run(duration=duration, inputs=('input', Iext, 'iter'), report=0.1)\n",
    "\n",
    "fig_1_5 = bp.visualize.animate_1D(\n",
    "  dynamical_vars=[{'ys': cann.mon.u, 'xs': cann.x, 'legend': 'u'},\n",
    "                  {'ys': Iext, 'xs': cann.x, 'legend': 'Iext'}],\n",
    "  frame_step=1,\n",
    "  frame_delay=100,\n",
    "  show=False,\n",
    "  save_path='cann-encoding-para-J0.gif'\n",
    ")"
   ]
  },
  {
   "cell_type": "markdown",
   "id": "0bc42c14",
   "metadata": {},
   "source": [
    "![SegmentLocal](cann-encoding-para-J0.gif \"segment\")"
   ]
  },
  {
   "cell_type": "markdown",
   "id": "c1ac4807",
   "metadata": {},
   "source": [
    "## 2. Template Matching"
   ]
  },
  {
   "cell_type": "code",
   "execution_count": 25,
   "id": "5ca749bb",
   "metadata": {
    "ExecuteTime": {
     "end_time": "2021-11-09T03:12:13.850711Z",
     "start_time": "2021-11-09T03:12:13.374735Z"
    }
   },
   "outputs": [
    {
     "name": "stdout",
     "output_type": "stream",
     "text": [
      "Compilation used 0.0007 s.\n",
      "Start running ...\n",
      "Run 10.0% used 0.021 s.\n",
      "Run 20.0% used 0.044 s.\n",
      "Run 30.0% used 0.071 s.\n",
      "Run 40.0% used 0.106 s.\n",
      "Run 50.0% used 0.141 s.\n",
      "Run 60.0% used 0.175 s.\n",
      "Run 70.0% used 0.204 s.\n",
      "Run 80.0% used 0.236 s.\n",
      "Run 90.0% used 0.323 s.\n",
      "Run 100.0% used 0.350 s.\n",
      "Simulation is done in 0.351 s.\n",
      "\n"
     ]
    },
    {
     "data": {
      "text/plain": [
       "0.35123682022094727"
      ]
     },
     "execution_count": 25,
     "metadata": {},
     "output_type": "execute_result"
    }
   ],
   "source": [
    "cann = CANN1D(num=512, k=8.1, monitors=['u'])\n",
    "\n",
    "dur1, dur2, dur3 = 10., 30., 0.\n",
    "num1 = int(dur1 / bp.math.get_dt())\n",
    "num2 = int(dur2 / bp.math.get_dt())\n",
    "num3 = int(dur3 / bp.math.get_dt())\n",
    "Iext = bp.math.zeros((num1 + num2 + num3,) + cann.size)\n",
    "Iext[:num1] = cann.get_stimulus_by_pos(0.5)\n",
    "Iext[num1:num1 + num2] = cann.get_stimulus_by_pos(0.)\n",
    "Iext[num1:num1 + num2] += 0.1 * cann.A * bp.math.random.randn(num2, *cann.size)\n",
    "cann.run(duration=dur1 + dur2 + dur3, inputs=('input', Iext, 'iter'), report=0.1)"
   ]
  },
  {
   "cell_type": "code",
   "execution_count": 26,
   "id": "547c2938",
   "metadata": {
    "ExecuteTime": {
     "end_time": "2021-11-09T03:12:40.444467Z",
     "start_time": "2021-11-09T03:12:13.854386Z"
    }
   },
   "outputs": [],
   "source": [
    "%%capture\n",
    "fig_2 = bp.visualize.animate_1D(\n",
    "  dynamical_vars=[{'ys': cann.mon.u, 'xs': cann.x, 'legend': 'u'},\n",
    "                  {'ys': Iext, 'xs': cann.x, 'legend': 'Iext'}],\n",
    "  frame_step=5,\n",
    "  frame_delay=50,\n",
    "  show=False,\n",
    "  save_path='cann-decoding.gif'\n",
    ")"
   ]
  },
  {
   "cell_type": "markdown",
   "id": "58ecc3eb",
   "metadata": {},
   "source": [
    "![SegmentLocal](cann-decoding.gif \"segment\")"
   ]
  },
  {
   "cell_type": "markdown",
   "id": "5c4957c4",
   "metadata": {},
   "source": [
    "## 3. Smooth Tracking"
   ]
  },
  {
   "cell_type": "code",
   "execution_count": 27,
   "id": "b17a8bd6",
   "metadata": {
    "ExecuteTime": {
     "end_time": "2021-11-09T03:12:41.196546Z",
     "start_time": "2021-11-09T03:12:40.448455Z"
    }
   },
   "outputs": [
    {
     "name": "stdout",
     "output_type": "stream",
     "text": [
      "Compilation used 0.0000 s.\n",
      "Start running ...\n",
      "Run 10.0% used 0.118 s.\n",
      "Run 20.0% used 0.185 s.\n",
      "Run 30.0% used 0.230 s.\n",
      "Run 40.0% used 0.302 s.\n",
      "Run 50.0% used 0.369 s.\n",
      "Run 60.0% used 0.396 s.\n",
      "Run 70.0% used 0.447 s.\n",
      "Run 80.0% used 0.498 s.\n",
      "Run 90.0% used 0.550 s.\n",
      "Run 100.0% used 0.574 s.\n",
      "Simulation is done in 0.574 s.\n",
      "\n"
     ]
    },
    {
     "data": {
      "text/plain": [
       "0.5744638442993164"
      ]
     },
     "execution_count": 27,
     "metadata": {},
     "output_type": "execute_result"
    }
   ],
   "source": [
    "cann = CANN1D(num=512, k=8.1, monitors=['u'])\n",
    "\n",
    "dur1, dur2, dur3 = 20., 20., 20.\n",
    "num1 = int(dur1 / bp.math.get_dt())\n",
    "num2 = int(dur2 / bp.math.get_dt())\n",
    "num3 = int(dur3 / bp.math.get_dt())\n",
    "position = bp.math.zeros(num1 + num2 + num3)\n",
    "position[num1: num1 + num2] = bp.math.linspace(0., 12., num2)\n",
    "position[num1 + num2:] = 12.\n",
    "position = position.reshape((-1, 1))\n",
    "Iext = cann.get_stimulus_by_pos(position)\n",
    "cann.run(duration=dur1 + dur2 + dur3, inputs=('input', Iext, 'iter'), report=0.1)"
   ]
  },
  {
   "cell_type": "code",
   "execution_count": 28,
   "id": "b027d80c",
   "metadata": {
    "ExecuteTime": {
     "end_time": "2021-11-09T03:13:19.663925Z",
     "start_time": "2021-11-09T03:12:41.201442Z"
    }
   },
   "outputs": [],
   "source": [
    "%%capture\n",
    "fig_3 = bp.visualize.animate_1D(\n",
    "  dynamical_vars=[{'ys': cann.mon.u, 'xs': cann.x, 'legend': 'u'},\n",
    "                  {'ys': Iext, 'xs': cann.x, 'legend': 'Iext'}],\n",
    "  frame_step=5,\n",
    "  frame_delay=50,\n",
    "  show=False,\n",
    "  save_path='cann-tracking.gif'\n",
    ")"
   ]
  },
  {
   "cell_type": "markdown",
   "id": "774d2d36",
   "metadata": {},
   "source": [
    "![SegmentLocal](cann-tracking.gif \"segment\")"
   ]
  },
  {
   "cell_type": "code",
   "execution_count": null,
   "id": "7a038855",
   "metadata": {},
   "outputs": [],
   "source": []
  }
 ],
 "metadata": {
  "kernelspec": {
   "display_name": "Python [conda env:BrainPy]",
   "language": "python",
   "name": "brainpy"
  },
  "language_info": {
   "codemirror_mode": {
    "name": "ipython",
    "version": 3
   },
   "file_extension": ".py",
   "mimetype": "text/x-python",
   "name": "python",
   "nbconvert_exporter": "python",
   "pygments_lexer": "ipython3",
   "version": "3.6.13"
  },
  "latex_envs": {
   "LaTeX_envs_menu_present": true,
   "autoclose": false,
   "autocomplete": true,
   "bibliofile": "biblio.bib",
   "cite_by": "apalike",
   "current_citInitial": 1,
   "eqLabelWithNumbers": true,
   "eqNumInitial": 1,
   "hotkeys": {
    "equation": "Ctrl-E",
    "itemize": "Ctrl-I"
   },
   "labels_anchors": false,
   "latex_user_defs": false,
   "report_style_numbering": false,
   "user_envs_cfg": false
  }
 },
 "nbformat": 4,
 "nbformat_minor": 5
}
