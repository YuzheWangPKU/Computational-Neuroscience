{
 "cells": [
  {
   "cell_type": "markdown",
   "id": "cfec5599",
   "metadata": {},
   "source": [
    "# _(Si Wu, 2008)_ Continuous-attractor Neural Network"
   ]
  },
  {
   "cell_type": "markdown",
   "id": "9853e1ab",
   "metadata": {},
   "source": [
    "Here we show the implementation of the paper:\n",
    "\n",
    "- Si Wu, Kosuke Hamaguchi, and Shun-ichi Amari. \"Dynamics and computation\n",
    "  of continuous attractors.\" Neural computation 20.4 (2008): 994-1025.\n",
    "\n",
    "Author:\n",
    "\n",
    "- Chaoming Wang (chao.brain@qq.com)"
   ]
  },
  {
   "cell_type": "markdown",
   "id": "aa926f46",
   "metadata": {},
   "source": [
    "The mathematical equation of the Continuous-Attractor Neural Network (CANN) is given by:\n",
    "\n",
    "$$\\tau \\frac{du(x,t)}{dt} = -u(x,t) + \\rho \\int dx' J(x,x') r(x',t)+I_{ext}$$\n",
    "\n",
    "$$r(x,t) = \\frac{u(x,t)^2}{1 + k \\rho \\int dx' u(x',t)^2}$$\n",
    "\n",
    "$$J(x,x') = \\frac{1}{\\sqrt{2\\pi}a}\\exp(-\\frac{|x-x'|^2}{2a^2})$$\n",
    "\n",
    "$$I_{ext} = A\\exp\\left[-\\frac{|x-z(t)|^2}{4a^2}\\right]$$"
   ]
  },
  {
   "cell_type": "code",
   "execution_count": 1,
   "id": "655048d7",
   "metadata": {},
   "outputs": [],
   "source": [
    "import brainpy as bp"
   ]
  },
  {
   "cell_type": "code",
   "execution_count": 2,
   "id": "2dafb4c1",
   "metadata": {},
   "outputs": [],
   "source": [
    "class CANN1D(bp.NeuGroup):\n",
    "  @bp.odeint\n",
    "  def int_u(self, u, t, Iext):\n",
    "    r1 = bp.math.square(u)\n",
    "    r2 = 1.0 + self.k * bp.math.sum(r1)\n",
    "    r = r1 / r2\n",
    "    Irec = bp.math.dot(self.conn_mat, r)\n",
    "    du = (-u + Irec + Iext) / self.tau\n",
    "    return du\n",
    "\n",
    "  def __init__(self, num, tau=1., k=8.1, a=0.5, A=10., J0=4.,\n",
    "               z_min=-bp.math.pi, z_max=bp.math.pi, **kwargs):\n",
    "    super(CANN1D, self).__init__(size=num, **kwargs)\n",
    "\n",
    "    # parameters\n",
    "    self.tau = tau  # The synaptic time constant\n",
    "    self.k = k  # Degree of the rescaled inhibition\n",
    "    self.a = a  # Half-width of the range of excitatory connections\n",
    "    self.A = A  # Magnitude of the external input\n",
    "    self.J0 = J0  # maximum connection value\n",
    "\n",
    "    # feature space\n",
    "    self.z_min = z_min\n",
    "    self.z_max = z_max\n",
    "    self.z_range = z_max - z_min\n",
    "    self.x = bp.math.linspace(z_min, z_max, num)  # The encoded feature values\n",
    "    self.rho = num / self.z_range  # The neural density\n",
    "    self.dx = self.z_range / num  # The stimulus density\n",
    "\n",
    "    # variables\n",
    "    self.u = bp.math.Variable(bp.math.zeros(num))\n",
    "    self.input = bp.math.Variable(bp.math.zeros(num))\n",
    "\n",
    "    # The connection matrix\n",
    "    self.conn_mat = self.make_conn(self.x)\n",
    "\n",
    "  def dist(self, d):\n",
    "    d = bp.math.remainder(d, self.z_range)\n",
    "    d = bp.math.where(d > 0.5 * self.z_range, d - self.z_range, d)\n",
    "    return d\n",
    "\n",
    "  def make_conn(self, x):\n",
    "    assert bp.math.ndim(x) == 1\n",
    "    x_left = bp.math.reshape(x, (-1, 1))\n",
    "    x_right = bp.math.repeat(x.reshape((1, -1)), len(x), axis=0)\n",
    "    d = self.dist(x_left - x_right)\n",
    "    Jxx = self.J0 * bp.math.exp(-0.5 * bp.math.square(d / self.a)) / \\\n",
    "          (bp.math.sqrt(2 * bp.math.pi) * self.a)\n",
    "    return Jxx\n",
    "\n",
    "  def get_stimulus_by_pos(self, pos):\n",
    "    return self.A * bp.math.exp(-0.25 * bp.math.square(self.dist(self.x - pos) / self.a))\n",
    "\n",
    "  def update(self, _t, _dt):\n",
    "    self.u[:] = self.int_u(self.u, _t, self.input)\n",
    "    self.input[:] = 0."
   ]
  },
  {
   "cell_type": "markdown",
   "id": "d83942e7",
   "metadata": {},
   "source": [
    "## Population coding"
   ]
  },
  {
   "cell_type": "code",
   "execution_count": 3,
   "id": "7e6c28ba",
   "metadata": {},
   "outputs": [
    {
     "name": "stdout",
     "output_type": "stream",
     "text": [
      "Compilation used 0.0038 s.\n",
      "Start running ...\n",
      "Run 10.0% used 0.002 s.\n",
      "Run 20.0% used 0.004 s.\n",
      "Run 30.0% used 0.006 s.\n",
      "Run 40.0% used 0.007 s.\n",
      "Run 50.0% used 0.009 s.\n",
      "Run 60.0% used 0.010 s.\n",
      "Run 70.0% used 0.012 s.\n",
      "Run 80.0% used 0.013 s.\n",
      "Run 90.0% used 0.015 s.\n",
      "Run 100.0% used 0.016 s.\n",
      "Simulation is done in 0.016 s.\n",
      "\n"
     ]
    },
    {
     "data": {
      "text/plain": [
       "0.016105175018310547"
      ]
     },
     "execution_count": 3,
     "metadata": {},
     "output_type": "execute_result"
    }
   ],
   "source": [
    "cann = CANN1D(num=512, k=0.1, monitors=['u'])\n",
    "\n",
    "I1 = cann.get_stimulus_by_pos(0.)\n",
    "Iext, duration = bp.inputs.section_input(values=[0., I1, 0.],\n",
    "                                         durations=[1., 8., 8.],\n",
    "                                         return_length=True)\n",
    "cann.run(duration=duration, inputs=('input', Iext, 'iter'), report=0.1)\n",
    "\n",
    "bp.visualize.animate_1D(\n",
    "  dynamical_vars=[{'ys': cann.mon.u, 'xs': cann.x, 'legend': 'u'},\n",
    "                  {'ys': Iext, 'xs': cann.x, 'legend': 'Iext'}],\n",
    "  frame_step=1,\n",
    "  frame_delay=100,\n",
    "  show=True,\n",
    "  # save_path='../../images/cann-encoding.gif'\n",
    ")"
   ]
  },
  {
   "cell_type": "markdown",
   "id": "aa8cb3c4",
   "metadata": {},
   "source": [
    "![](../images/cann-encoding.gif)"
   ]
  },
  {
   "cell_type": "markdown",
   "id": "efb40f33",
   "metadata": {},
   "source": [
    "## Template matching"
   ]
  },
  {
   "cell_type": "markdown",
   "id": "4e7550da",
   "metadata": {},
   "source": [
    "The cann can perform efficient population decoding by achieving template-matching."
   ]
  },
  {
   "cell_type": "code",
   "execution_count": 4,
   "id": "67aaa53f",
   "metadata": {},
   "outputs": [
    {
     "name": "stdout",
     "output_type": "stream",
     "text": [
      "Compilation used 0.0003 s.\n",
      "Start running ...\n",
      "Run 10.0% used 0.003 s.\n",
      "Run 20.0% used 0.007 s.\n",
      "Run 30.0% used 0.011 s.\n",
      "Run 40.0% used 0.014 s.\n",
      "Run 50.0% used 0.017 s.\n",
      "Run 60.0% used 0.020 s.\n",
      "Run 70.0% used 0.024 s.\n",
      "Run 80.0% used 0.028 s.\n",
      "Run 90.0% used 0.032 s.\n",
      "Run 100.0% used 0.037 s.\n",
      "Simulation is done in 0.037 s.\n",
      "\n"
     ]
    },
    {
     "data": {
      "text/plain": [
       "0.036719560623168945"
      ]
     },
     "execution_count": 4,
     "metadata": {},
     "output_type": "execute_result"
    }
   ],
   "source": [
    "cann = CANN1D(num=512, k=8.1, monitors=['u'])\n",
    "\n",
    "dur1, dur2, dur3 = 10., 30., 0.\n",
    "num1 = int(dur1 / bp.math.get_dt())\n",
    "num2 = int(dur2 / bp.math.get_dt())\n",
    "num3 = int(dur3 / bp.math.get_dt())\n",
    "Iext = bp.math.zeros((num1 + num2 + num3,) + cann.size)\n",
    "Iext[:num1] = cann.get_stimulus_by_pos(0.5)\n",
    "Iext[num1:num1 + num2] = cann.get_stimulus_by_pos(0.)\n",
    "Iext[num1:num1 + num2] += 0.1 * cann.A * bp.math.random.randn(num2, *cann.size)\n",
    "cann.run(duration=dur1 + dur2 + dur3, inputs=('input', Iext, 'iter'), report=0.1)\n",
    "\n",
    "bp.visualize.animate_1D(\n",
    "  dynamical_vars=[{'ys': cann.mon.u, 'xs': cann.x, 'legend': 'u'},\n",
    "                  {'ys': Iext, 'xs': cann.x, 'legend': 'Iext'}],\n",
    "  frame_step=5,\n",
    "  frame_delay=50,\n",
    "  show=True,\n",
    "  # save_path='../../images/cann-decoding.gif'\n",
    ")"
   ]
  },
  {
   "cell_type": "markdown",
   "id": "deb96b0b",
   "metadata": {},
   "source": [
    "![](../images/cann-decoding.gif)"
   ]
  },
  {
   "cell_type": "markdown",
   "id": "a373fef3",
   "metadata": {},
   "source": [
    "## Smooth tracking\n",
    "\n",
    "The cann can track moving stimulus."
   ]
  },
  {
   "cell_type": "code",
   "execution_count": 5,
   "id": "42929b22",
   "metadata": {},
   "outputs": [
    {
     "name": "stdout",
     "output_type": "stream",
     "text": [
      "Compilation used 0.0003 s.\n",
      "Start running ...\n",
      "Run 10.0% used 0.005 s.\n",
      "Run 20.0% used 0.010 s.\n",
      "Run 30.0% used 0.015 s.\n",
      "Run 40.0% used 0.020 s.\n",
      "Run 50.0% used 0.025 s.\n",
      "Run 60.0% used 0.031 s.\n",
      "Run 70.0% used 0.035 s.\n",
      "Run 80.0% used 0.042 s.\n",
      "Run 90.0% used 0.048 s.\n",
      "Run 100.0% used 0.054 s.\n",
      "Simulation is done in 0.054 s.\n",
      "\n"
     ]
    },
    {
     "data": {
      "text/plain": [
       "0.05425858497619629"
      ]
     },
     "execution_count": 5,
     "metadata": {},
     "output_type": "execute_result"
    }
   ],
   "source": [
    "cann = CANN1D(num=512, k=8.1, monitors=['u'])\n",
    "\n",
    "dur1, dur2, dur3 = 20., 20., 20.\n",
    "num1 = int(dur1 / bp.math.get_dt())\n",
    "num2 = int(dur2 / bp.math.get_dt())\n",
    "num3 = int(dur3 / bp.math.get_dt())\n",
    "position = bp.math.zeros(num1 + num2 + num3)\n",
    "position[num1: num1 + num2] = bp.math.linspace(0., 12., num2)\n",
    "position[num1 + num2:] = 12.\n",
    "position = position.reshape((-1, 1))\n",
    "Iext = cann.get_stimulus_by_pos(position)\n",
    "cann.run(duration=dur1 + dur2 + dur3, inputs=('input', Iext, 'iter'), report=0.1)\n",
    "\n",
    "bp.visualize.animate_1D(\n",
    "  dynamical_vars=[{'ys': cann.mon.u, 'xs': cann.x, 'legend': 'u'},\n",
    "                  {'ys': Iext, 'xs': cann.x, 'legend': 'Iext'}],\n",
    "  frame_step=5,\n",
    "  frame_delay=50,\n",
    "  show=True,\n",
    "  # save_path='../../images/cann-tracking.gif'\n",
    ")"
   ]
  },
  {
   "cell_type": "markdown",
   "id": "dc4c39bf",
   "metadata": {},
   "source": [
    "![](../images/cann-tracking.gif)"
   ]
  }
 ],
 "metadata": {
  "jupytext": {
   "formats": "ipynb,py:percent"
  },
  "kernelspec": {
   "display_name": "Python 3",
   "language": "python",
   "name": "python3"
  },
  "language_info": {
   "codemirror_mode": {
    "name": "ipython",
    "version": 3
   },
   "file_extension": ".py",
   "mimetype": "text/x-python",
   "name": "python",
   "nbconvert_exporter": "python",
   "pygments_lexer": "ipython3",
   "version": "3.8.5"
  },
  "latex_envs": {
   "LaTeX_envs_menu_present": true,
   "autoclose": false,
   "autocomplete": true,
   "bibliofile": "biblio.bib",
   "cite_by": "apalike",
   "current_citInitial": 1,
   "eqLabelWithNumbers": true,
   "eqNumInitial": 1,
   "hotkeys": {
    "equation": "Ctrl-E",
    "itemize": "Ctrl-I"
   },
   "labels_anchors": false,
   "latex_user_defs": false,
   "report_style_numbering": false,
   "user_envs_cfg": false
  },
  "toc": {
   "base_numbering": 1,
   "nav_menu": {},
   "number_sections": false,
   "sideBar": true,
   "skip_h1_title": false,
   "title_cell": "Table of Contents",
   "title_sidebar": "Contents",
   "toc_cell": false,
   "toc_position": {
    "height": "calc(100% - 180px)",
    "left": "10px",
    "top": "150px",
    "width": "245.76px"
   },
   "toc_section_display": true,
   "toc_window_display": true
  }
 },
 "nbformat": 4,
 "nbformat_minor": 5
}
