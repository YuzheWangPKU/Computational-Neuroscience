{
 "cells": [
  {
   "cell_type": "markdown",
   "id": "d88de07f",
   "metadata": {},
   "source": [
    "# _(Brette, Romain. 2004)_ LIF phase locking "
   ]
  },
  {
   "cell_type": "markdown",
   "id": "4a786b2e",
   "metadata": {},
   "source": [
    "Implementation of the paper:\n",
    "\n",
    "- Brette, Romain. \"Dynamics of one-dimensional spiking neuron models.\" Journal of mathematical biology 48.1 (2004): 38-56.\n",
    "\n",
    "Author:\n",
    "\n",
    "- Chaoming Wang (chao.brain@qq.com)"
   ]
  },
  {
   "cell_type": "code",
   "execution_count": 1,
   "id": "2b7ce7cc",
   "metadata": {},
   "outputs": [],
   "source": [
    "import brainpy as bp"
   ]
  },
  {
   "cell_type": "code",
   "execution_count": 2,
   "id": "5b962198",
   "metadata": {},
   "outputs": [],
   "source": [
    "%matplotlib inline\n",
    "import matplotlib.pyplot as plt"
   ]
  },
  {
   "cell_type": "code",
   "execution_count": 3,
   "id": "ed85d1d9",
   "metadata": {},
   "outputs": [],
   "source": [
    "# set parameters\n",
    "num = 2000\n",
    "tau = 100.  # ms\n",
    "Vth = 1.  # mV\n",
    "Vr = 0.  # mV\n",
    "inputs = bp.math.linspace(2., 4., num)"
   ]
  },
  {
   "cell_type": "code",
   "execution_count": 4,
   "id": "1467b69a",
   "metadata": {},
   "outputs": [],
   "source": [
    "class LIF(bp.NeuGroup):\n",
    "  def __init__(self, size, **kwargs):\n",
    "    super(LIF, self).__init__(size, **kwargs)\n",
    "    \n",
    "    self.V = bp.math.Variable(bp.math.zeros(size))\n",
    "    self.spike = bp.math.Variable(bp.math.zeros(size))\n",
    "\n",
    "  @staticmethod\n",
    "  @bp.odeint\n",
    "  def int_f(V, t):\n",
    "    return (-V + inputs + 2 * bp.math.sin(2 * bp.math.pi * t / tau)) / tau\n",
    "\n",
    "  def update(self, _t, _dt):\n",
    "    V = self.int_f(self.V, _t)\n",
    "    self.spike[:] = bp.math.asarray(V >= Vth, dtype=bp.math.float_)\n",
    "    self.V[:] = bp.math.where(self.spike > 0., Vr, V)"
   ]
  },
  {
   "cell_type": "code",
   "execution_count": 5,
   "id": "89d2a74f",
   "metadata": {},
   "outputs": [],
   "source": [
    "group = LIF(num, monitors=['spike'])\n",
    "group = bp.math.jit(group)"
   ]
  },
  {
   "cell_type": "code",
   "execution_count": 6,
   "id": "44143b20",
   "metadata": {},
   "outputs": [
    {
     "name": "stdout",
     "output_type": "stream",
     "text": [
      "Compilation used 1.0360 s.\n",
      "Start running ...\n",
      "Run 10.0% used 0.137 s.\n",
      "Run 20.0% used 0.248 s.\n",
      "Run 30.0% used 0.339 s.\n",
      "Run 40.0% used 0.432 s.\n",
      "Run 50.0% used 0.535 s.\n",
      "Run 60.0% used 0.626 s.\n",
      "Run 70.0% used 0.727 s.\n",
      "Run 80.0% used 0.824 s.\n",
      "Run 90.0% used 0.915 s.\n",
      "Run 100.0% used 1.003 s.\n",
      "Simulation is done in 1.003 s.\n",
      "\n"
     ]
    },
    {
     "data": {
      "image/png": "[encoded data removed]",
      "text/plain": [
       "<Figure size 432x288 with 1 Axes>"
      ]
     },
     "metadata": {
      "needs_background": "light"
     },
     "output_type": "display_data"
    }
   ],
   "source": [
    "group.run(duration=5 * 1000., report=0.1)\n",
    "\n",
    "indices, times = bp.measure.raster_plot(group.mon.spike, group.mon.ts)\n",
    "plt.plot((times % tau) / tau, inputs[indices], ',')\n",
    "plt.xlabel('Spike phase')\n",
    "plt.ylabel('Parameter (input)')\n",
    "plt.show()"
   ]
  }
 ],
 "metadata": {
  "jupytext": {
   "formats": "ipynb,py:percent"
  },
  "kernelspec": {
   "display_name": "Python 3",
   "language": "python",
   "name": "python3"
  },
  "language_info": {
   "codemirror_mode": {
    "name": "ipython",
    "version": 3
   },
   "file_extension": ".py",
   "mimetype": "text/x-python",
   "name": "python",
   "nbconvert_exporter": "python",
   "pygments_lexer": "ipython3",
   "version": "3.8.5"
  },
  "latex_envs": {
   "LaTeX_envs_menu_present": true,
   "autoclose": false,
   "autocomplete": true,
   "bibliofile": "biblio.bib",
   "cite_by": "apalike",
   "current_citInitial": 1,
   "eqLabelWithNumbers": true,
   "eqNumInitial": 1,
   "hotkeys": {
    "equation": "Ctrl-E",
    "itemize": "Ctrl-I"
   },
   "labels_anchors": false,
   "latex_user_defs": false,
   "report_style_numbering": false,
   "user_envs_cfg": false
  },
  "toc": {
   "base_numbering": 1,
   "nav_menu": {},
   "number_sections": true,
   "sideBar": true,
   "skip_h1_title": false,
   "title_cell": "Table of Contents",
   "title_sidebar": "Contents",
   "toc_cell": false,
   "toc_position": {},
   "toc_section_display": true,
   "toc_window_display": false
  }
 },
 "nbformat": 4,
 "nbformat_minor": 5
}
