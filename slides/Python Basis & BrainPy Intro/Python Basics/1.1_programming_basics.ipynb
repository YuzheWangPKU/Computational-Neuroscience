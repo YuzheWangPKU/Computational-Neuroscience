{
 "cells": [
  {
   "cell_type": "markdown",
   "id": "605239b4",
   "metadata": {},
   "source": [
    "# What is Python?"
   ]
  },
  {
   "cell_type": "markdown",
   "id": "de592c1e",
   "metadata": {},
   "source": [
    "## Python Features "
   ]
  },
  {
   "cell_type": "markdown",
   "id": "328d9841",
   "metadata": {},
   "source": [
    "Characteristics of Python:\n",
    "\n",
    "- **Easy-to-learn** : Python has few keywords, simple structure, and a clearly defined syntax. This allows the student to pick up the language quickly.\n",
    "- **Easy-to-read** : Python code is more clearly defined and visible to the eyes.\n",
    "- **Popularity** : because of Python's popularity, it has now a very large community. With this large community, comes larger support groups in terms of coding solutions.\n",
    "- **Versatility** : you can use Python not only as a programming language, but also to build websites, scrape the web for information, analyze or visualize data.\n",
    "- **Machine Learning and Big Data** : Most platforms today rely on AI and Big Data, which Python supports with its vast libraries."
   ]
  },
  {
   "cell_type": "markdown",
   "id": "f328d4f7",
   "metadata": {},
   "source": [
    "## Install Python"
   ]
  },
  {
   "cell_type": "markdown",
   "id": "59663179",
   "metadata": {},
   "source": [
    "### Official Python\n",
    "\n",
    "- https://www.python.org/downloads/\n",
    "\n",
    "Windows, Linux, MacOS\n"
   ]
  },
  {
   "cell_type": "markdown",
   "id": "1e867306",
   "metadata": {},
   "source": [
    "### Miniconda\n",
    "\n",
    "- https://docs.conda.io/en/latest/miniconda.html\n",
    "\n",
    "Miniconda is a free minimal installer for conda. It is a small, bootstrap version of Anaconda that includes only conda, Python, the packages they depend on, and a small number of other useful packages, including pip, zlib and a few others."
   ]
  },
  {
   "cell_type": "markdown",
   "id": "2453a650",
   "metadata": {},
   "source": [
    "**Benefits of Using Python Anaconda**: \n",
    "\n",
    "- It is free and open-source\n",
    "- It has more than 1500 Python/R data science packages\n",
    "- Anaconda simplifies package management and deployment\n",
    "- It has tools to easily collect data from sources using machine learning and AI\n",
    "- It creates an environment that is easily manageable for deploying any project\n",
    "- Anaconda is the industry standard for developing, testing and training on a single machine\n",
    "- It has good community support- you can ask your questions there.\n",
    "\n",
    "What you get\n",
    "\n",
    "- Download more than 1500 Python/R data science packages\n",
    "- Manage libraries, dependencies, and environments with conda\n",
    "- Build and train ML and deep learning models with scikit-learn, TensorFlow and Theano\n",
    "- Use Dask, NumPy, Pandas and Numba to analyze data scalably and fast\n",
    "- Perform visualization with Matplotlib, Bokeh, Datashader, and Holoviews"
   ]
  },
  {
   "cell_type": "markdown",
   "id": "542ed0c6",
   "metadata": {},
   "source": [
    "## Install packages"
   ]
  },
  {
   "cell_type": "markdown",
   "id": "3ef31147",
   "metadata": {},
   "source": [
    "### pip\n",
    "\n",
    "```bash\n",
    "\n",
    "pip install xxx\n",
    "\n",
    "pip install xxx == 1.3\n",
    "```"
   ]
  },
  {
   "cell_type": "markdown",
   "id": "c63c4c46",
   "metadata": {},
   "source": [
    "### conda\n",
    "\n",
    "```bash\n",
    "\n",
    "conda install xxx \n",
    "\n",
    "conda install xxx=1.3\n",
    "\n",
    "```"
   ]
  },
  {
   "cell_type": "markdown",
   "id": "3195a885",
   "metadata": {},
   "source": [
    "## Basics"
   ]
  },
  {
   "cell_type": "markdown",
   "id": "f89a13d7",
   "metadata": {},
   "source": [
    "### Hello world"
   ]
  },
  {
   "cell_type": "code",
   "execution_count": 1,
   "id": "1e85aea9",
   "metadata": {},
   "outputs": [
    {
     "name": "stdout",
     "output_type": "stream",
     "text": [
      "Hello, World!\n"
     ]
    }
   ],
   "source": [
    "print('Hello, World!')"
   ]
  },
  {
   "cell_type": "markdown",
   "id": "47311cee",
   "metadata": {},
   "source": [
    "Python uses indentation for blocks, instead of curly braces. Both tabs and spaces are supported, but the standard indentation requires standard Python code to use four spaces. For example:"
   ]
  },
  {
   "cell_type": "code",
   "execution_count": 2,
   "id": "f8f28ec8",
   "metadata": {},
   "outputs": [
    {
     "name": "stdout",
     "output_type": "stream",
     "text": [
      "Be careful not to fall off!\n"
     ]
    }
   ],
   "source": [
    "the_world_is_flat = True\n",
    "if the_world_is_flat:\n",
    "    print(\"Be careful not to fall off!\")"
   ]
  },
  {
   "cell_type": "markdown",
   "id": "6b8c6c75",
   "metadata": {},
   "source": [
    "### Assignment"
   ]
  },
  {
   "cell_type": "markdown",
   "id": "8a3fa472",
   "metadata": {},
   "source": [
    "An assignment statement creates a new variable and gives it a value:"
   ]
  },
  {
   "cell_type": "code",
   "execution_count": 3,
   "id": "9289f473",
   "metadata": {},
   "outputs": [],
   "source": [
    "# string\n",
    "my_text = 'And now for something completely different'"
   ]
  },
  {
   "cell_type": "code",
   "execution_count": 4,
   "id": "cda0f0cc",
   "metadata": {},
   "outputs": [],
   "source": [
    "# int\n",
    "x = 17"
   ]
  },
  {
   "cell_type": "code",
   "execution_count": 5,
   "id": "93c003cb",
   "metadata": {},
   "outputs": [],
   "source": [
    "# float\n",
    "pi = 3.1415926535897932"
   ]
  },
  {
   "cell_type": "markdown",
   "id": "23bb7e34",
   "metadata": {},
   "source": [
    "### Variable names"
   ]
  },
  {
   "cell_type": "markdown",
   "id": "747e78dd",
   "metadata": {},
   "source": [
    "The names of variables can be as long as you like. \n",
    "\n",
    "Both letters and numbers may be included, but they can't start with a number. \n",
    "\n",
    "Using upper case letters is legal, but using only lower case for variable names is conventional.\n",
    "\n",
    "The underscore character, `_`, can appear in a name. It is often used in names with multiple words, such as `your_name` or `airspeed_of_unladen_swallow`."
   ]
  },
  {
   "cell_type": "code",
   "execution_count": 6,
   "id": "d206c93f",
   "metadata": {},
   "outputs": [
    {
     "ename": "SyntaxError",
     "evalue": "invalid syntax (<ipython-input-6-ee59a172c534>, line 1)",
     "output_type": "error",
     "traceback": [
      "\u001b[1;36m  File \u001b[1;32m\"<ipython-input-6-ee59a172c534>\"\u001b[1;36m, line \u001b[1;32m1\u001b[0m\n\u001b[1;33m    76trombones = 'big parade'\u001b[0m\n\u001b[1;37m      ^\u001b[0m\n\u001b[1;31mSyntaxError\u001b[0m\u001b[1;31m:\u001b[0m invalid syntax\n"
     ]
    }
   ],
   "source": [
    "76trombones = 'big parade'"
   ]
  },
  {
   "cell_type": "code",
   "execution_count": null,
   "id": "4a4f522a",
   "metadata": {},
   "outputs": [],
   "source": [
    "more@ = 1000000"
   ]
  },
  {
   "cell_type": "code",
   "execution_count": null,
   "id": "7b3ab408",
   "metadata": {},
   "outputs": [],
   "source": [
    "class = 'Advanced Theoretical Zymurgy'"
   ]
  },
  {
   "cell_type": "markdown",
   "id": "b7f63092",
   "metadata": {},
   "source": [
    "`class` is one of Python’s keywords. The interpreter uses keywords to recognize the structure of the program, and they cannot be used as variable names.\n",
    "\n",
    "Python 3 has these keywords:"
   ]
  },
  {
   "cell_type": "markdown",
   "id": "72326a3c",
   "metadata": {},
   "source": [
    "| Keyword  | Description                                                  |\n",
    "| :------- | :----------------------------------------------------------- |\n",
    "| and      | A logical operator                                           |\n",
    "| as       | To create an alias                                           |\n",
    "| assert   | For debugging                                                |\n",
    "| break    | To break out of a loop                                       |\n",
    "| class    | To define a class                                            |\n",
    "| continue | To continue to the next iteration of a loop                  |\n",
    "| def      | To define a function                                         |\n",
    "| del      | To delete an object                                          |\n",
    "| elif     | Used in conditional statements, same as else if              |\n",
    "| else     | Used in conditional statements                               |\n",
    "| except   | Used with exceptions, what to do when an exception occurs    |\n",
    "| False    | Boolean value, result of comparison operations               |\n",
    "| finally  | Used with exceptions, a block of code that will be executed no matter if there is an exception or not |\n",
    "| for      | To create a for loop                                         |\n",
    "| from     | To import specific parts of a module                         |\n",
    "| global   | To declare a global variable                                 |\n",
    "| if       | To make a conditional statement                              |\n",
    "| import   | To import a module                                           |\n",
    "| in       | To check if a value is present in a list, tuple, etc.        |\n",
    "| is       | To test if two variables are equal                           |\n",
    "| lambda   | To create an anonymous function                              |\n",
    "| None     | Represents a null value                                      |\n",
    "| nonlocal | To declare a non-local variable                              |\n",
    "| not      | A logical operator                                           |\n",
    "| or       | A logical operator                                           |\n",
    "| pass     | A null statement, a statement that will do nothing           |\n",
    "| raise    | To raise an exception                                        |\n",
    "| return   | To exit a function and return a value                        |\n",
    "| True     | Boolean value, result of comparison operations               |\n",
    "| try      | To make a try...except statement                             |\n",
    "| while    | To create a while loop                                       |\n",
    "| with     | Used to simplify exception handling                          |\n",
    "| yield    | To end a function, returns a generator                       |\n"
   ]
  },
  {
   "cell_type": "markdown",
   "id": "7b73ce2a",
   "metadata": {},
   "source": [
    "### Multiple assignment"
   ]
  },
  {
   "cell_type": "markdown",
   "id": "8d2ec07e",
   "metadata": {},
   "source": [
    "Python allows you to assign a single value to several variables simultaneously."
   ]
  },
  {
   "cell_type": "code",
   "execution_count": 7,
   "id": "a6cf7be6",
   "metadata": {},
   "outputs": [],
   "source": [
    "a = b = c = 1"
   ]
  },
  {
   "cell_type": "markdown",
   "id": "699be7ec",
   "metadata": {},
   "source": [
    "You can also assign multiple objects to multiple variables. "
   ]
  },
  {
   "cell_type": "code",
   "execution_count": 8,
   "id": "7869f19f",
   "metadata": {},
   "outputs": [],
   "source": [
    "a, b, c = 1, 2, \"john\""
   ]
  },
  {
   "cell_type": "markdown",
   "id": "ddad94b7",
   "metadata": {},
   "source": [
    "### Augmented assignment"
   ]
  },
  {
   "cell_type": "markdown",
   "id": "49042bff",
   "metadata": {},
   "source": [
    "PEP 577 -- Augmented Assignment Expressions\n",
    "\n",
    "- https://www.python.org/dev/peps/pep-0577/"
   ]
  },
  {
   "cell_type": "code",
   "execution_count": 9,
   "id": "971e656b",
   "metadata": {},
   "outputs": [],
   "source": [
    "n = 0"
   ]
  },
  {
   "cell_type": "code",
   "execution_count": 10,
   "id": "f146b921",
   "metadata": {},
   "outputs": [
    {
     "data": {
      "text/plain": [
       "5"
      ]
     },
     "execution_count": 10,
     "metadata": {},
     "output_type": "execute_result"
    }
   ],
   "source": [
    "n += 5\n",
    "n"
   ]
  },
  {
   "cell_type": "code",
   "execution_count": 11,
   "id": "f581abc7",
   "metadata": {},
   "outputs": [
    {
     "data": {
      "text/plain": [
       "3"
      ]
     },
     "execution_count": 11,
     "metadata": {},
     "output_type": "execute_result"
    }
   ],
   "source": [
    "n -= 2\n",
    "n"
   ]
  },
  {
   "cell_type": "code",
   "execution_count": 12,
   "id": "d44b7055",
   "metadata": {},
   "outputs": [
    {
     "data": {
      "text/plain": [
       "9"
      ]
     },
     "execution_count": 12,
     "metadata": {},
     "output_type": "execute_result"
    }
   ],
   "source": [
    "n *= 3\n",
    "n"
   ]
  },
  {
   "cell_type": "markdown",
   "id": "dc783187",
   "metadata": {},
   "source": [
    "| 运算符 | 描述             | 实例                                  |\n",
    "| :----- | :--------------- | :------------------------------------ |\n",
    "| =      | 简单的赋值运算符 | c = a + b 将 a + b 的运算结果赋值为 c |\n",
    "| +=     | 加法赋值运算符   | c += a 等效于 c = c + a               |\n",
    "| -=     | 减法赋值运算符   | c -= a 等效于 c = c - a               |\n",
    "| *=     | 乘法赋值运算符   | c *= a 等效于 c = c * a               |\n",
    "| /=     | 除法赋值运算符   | c /= a 等效于 c = c / a               |\n",
    "| %=     | 取模赋值运算符   | c %= a 等效于 c = c % a               |\n",
    "| **=    | 幂赋值运算符     | c **= a 等效于 c = c ** a             |\n",
    "| //=    | 取整除赋值运算符 | c //= a 等效于 c = c // a             |\n",
    "\n"
   ]
  },
  {
   "cell_type": "markdown",
   "id": "58327b8d",
   "metadata": {},
   "source": [
    "### `if` statements"
   ]
  },
  {
   "cell_type": "markdown",
   "id": "493504f3",
   "metadata": {},
   "source": [
    "if语句用来做判断，并选择要执行的语句分支。基本格式如下：\n",
    "\n",
    "```python\n",
    "\n",
    "if CONDITION1:\n",
    "    code_block(1)\n",
    "elif CONDITION2:\n",
    "    code_block(2)\n",
    "elif CONDITION3:\n",
    "    ...\n",
    "...\n",
    "else:\n",
    "    code_block_else\n",
    "```\n",
    "\n",
    "其中elif是可选的，可以有任意多个，else是可选的，表示全都不满足条件时该执行的分支。"
   ]
  },
  {
   "cell_type": "code",
   "execution_count": 13,
   "id": "39f444d4",
   "metadata": {},
   "outputs": [
    {
     "name": "stdout",
     "output_type": "stream",
     "text": [
      "hello world\n"
     ]
    }
   ],
   "source": [
    "a = 4\n",
    "if a > 3:\n",
    "    print(\"hello world\")"
   ]
  },
  {
   "cell_type": "code",
   "execution_count": 14,
   "id": "778e10a3",
   "metadata": {},
   "outputs": [
    {
     "name": "stdout",
     "output_type": "stream",
     "text": [
      "良好\n"
     ]
    }
   ],
   "source": [
    "score = 77\n",
    "\n",
    "if score >= 90:\n",
    "    print(\"优秀\")\n",
    "elif 70 <= score < 90:\n",
    "    print(\"良好\")\n",
    "elif 60 <= score < 70:\n",
    "    print(\"及格\")\n",
    "else:\n",
    "    print(\"不及格\")"
   ]
  },
  {
   "cell_type": "markdown",
   "id": "bb701f96",
   "metadata": {},
   "source": [
    "### Loop statements"
   ]
  },
  {
   "cell_type": "markdown",
   "id": "7d98e364",
   "metadata": {},
   "source": [
    "#### Iterator\n",
    "\n",
    "迭代是Python最强大的功能之一，是访问集合元素的一种方式。\n",
    "\n",
    "迭代器是一个可以记住遍历的位置的对象。\n",
    "\n",
    "迭代器对象从集合的第一个元素开始访问，直到所有的元素被访问完结束。迭代器只能往前不会后退。\n",
    "\n",
    "迭代器有两个基本的方法：`iter()` 和 `next()`。"
   ]
  },
  {
   "cell_type": "code",
   "execution_count": 19,
   "id": "2a61cdb4",
   "metadata": {},
   "outputs": [],
   "source": [
    "a_string = 'abcde'\n",
    "a_string_iter = iter(a_string)"
   ]
  },
  {
   "cell_type": "code",
   "execution_count": 20,
   "id": "c4be050e",
   "metadata": {},
   "outputs": [
    {
     "data": {
      "text/plain": [
       "'a'"
      ]
     },
     "execution_count": 20,
     "metadata": {},
     "output_type": "execute_result"
    }
   ],
   "source": [
    "next(a_string_iter)"
   ]
  },
  {
   "cell_type": "code",
   "execution_count": 21,
   "id": "f6072e50",
   "metadata": {},
   "outputs": [
    {
     "data": {
      "text/plain": [
       "'b'"
      ]
     },
     "execution_count": 21,
     "metadata": {},
     "output_type": "execute_result"
    }
   ],
   "source": [
    "next(a_string_iter)"
   ]
  },
  {
   "cell_type": "markdown",
   "id": "68e0dd4f",
   "metadata": {},
   "source": [
    "#### `for` statement"
   ]
  },
  {
   "cell_type": "code",
   "execution_count": 23,
   "id": "8130c02b",
   "metadata": {},
   "outputs": [
    {
     "name": "stdout",
     "output_type": "stream",
     "text": [
      "x\n",
      "i\n",
      "a\n",
      "o\n",
      "f\n",
      "a\n",
      "n\n",
      "g\n"
     ]
    }
   ],
   "source": [
    "for i in 'xiaofang':\n",
    "    print(i)"
   ]
  },
  {
   "cell_type": "code",
   "execution_count": 24,
   "id": "9b99b03e",
   "metadata": {},
   "outputs": [
    {
     "name": "stdout",
     "output_type": "stream",
     "text": [
      "a\n",
      "a\n",
      "b\n",
      "b\n",
      "c\n",
      "c\n"
     ]
    }
   ],
   "source": [
    "L = [\"aa\", \"bb\", \"cc\"]\n",
    "\n",
    "for i in L:\n",
    "    for j in i:\n",
    "        print(j)"
   ]
  },
  {
   "cell_type": "markdown",
   "id": "d2c0ab3c",
   "metadata": {},
   "source": [
    "#### `range()`"
   ]
  },
  {
   "cell_type": "code",
   "execution_count": 27,
   "id": "5c4e8bf2",
   "metadata": {},
   "outputs": [
    {
     "name": "stdout",
     "output_type": "stream",
     "text": [
      "0\n",
      "1\n",
      "2\n",
      "3\n",
      "4\n"
     ]
    }
   ],
   "source": [
    "for i in range(5):\n",
    "    print(i)"
   ]
  },
  {
   "cell_type": "code",
   "execution_count": 28,
   "id": "37035a5a",
   "metadata": {},
   "outputs": [
    {
     "name": "stdout",
     "output_type": "stream",
     "text": [
      "1\n",
      "2\n",
      "3\n",
      "4\n"
     ]
    }
   ],
   "source": [
    "for i in range(1, 5):\n",
    "    print(i)"
   ]
  },
  {
   "cell_type": "code",
   "execution_count": 29,
   "id": "ae9fc41b",
   "metadata": {},
   "outputs": [
    {
     "name": "stdout",
     "output_type": "stream",
     "text": [
      "1\n",
      "3\n"
     ]
    }
   ],
   "source": [
    "for i in range(1, 5, 2):\n",
    "    print(i)"
   ]
  },
  {
   "cell_type": "markdown",
   "id": "e830e12b",
   "metadata": {},
   "source": [
    "#### `while` statement"
   ]
  },
  {
   "cell_type": "code",
   "execution_count": 31,
   "id": "7c8f2fd4",
   "metadata": {},
   "outputs": [
    {
     "name": "stdout",
     "output_type": "stream",
     "text": [
      "0\n",
      "1\n",
      "2\n",
      "3\n",
      "4\n",
      "5\n"
     ]
    }
   ],
   "source": [
    "x = 0\n",
    "print(x)\n",
    "\n",
    "while(x<5):\n",
    "    x += 1\n",
    "    print(x)\n"
   ]
  },
  {
   "cell_type": "markdown",
   "id": "85843b5e",
   "metadata": {},
   "source": [
    "#### `break`\n",
    "\n",
    "`break` will let you jump out of the of the loop. This is very useful with along with an `if` to for when you don't know exactly when you want to stop, but you know the condition."
   ]
  },
  {
   "cell_type": "code",
   "execution_count": 32,
   "id": "a0846cd8",
   "metadata": {},
   "outputs": [
    {
     "name": "stdout",
     "output_type": "stream",
     "text": [
      "7\n",
      "21\n"
     ]
    }
   ],
   "source": [
    "#let's sum all integers until the total is more than 20\n",
    "\n",
    "i = 1\n",
    "total = 0\n",
    "\n",
    "while True:\n",
    "    total += i\n",
    "    i += 1\n",
    "    if total > 20:\n",
    "        break\n",
    "        \n",
    "print(i)\n",
    "print(total)"
   ]
  },
  {
   "cell_type": "markdown",
   "id": "cb4a79e9",
   "metadata": {},
   "source": [
    "#### `continue`\n",
    "\n",
    "`continue` allows you to skip the rest of the code within the loop, and jump to the next iteration. This is useful with an `if` statement to skip particular iterations defined by some condition"
   ]
  },
  {
   "cell_type": "code",
   "execution_count": 33,
   "id": "581d941a",
   "metadata": {},
   "outputs": [
    {
     "name": "stdout",
     "output_type": "stream",
     "text": [
      "0\n",
      "3\n",
      "6\n",
      "9\n",
      "12\n",
      "15\n",
      "18\n",
      "\n",
      "\n",
      "127\n"
     ]
    }
   ],
   "source": [
    "# Let's sum all integers less than 20, but skipping multiples of 3\n",
    "\n",
    "total = 0\n",
    "\n",
    "for i in range(20):\n",
    "    if i % 3 == 0:\n",
    "        print(i)\n",
    "        continue\n",
    "    total += i\n",
    "    \n",
    "print('\\n')\n",
    "print(total)"
   ]
  }
 ],
 "metadata": {
  "kernelspec": {
   "display_name": "Python 3",
   "language": "python",
   "name": "python3"
  },
  "language_info": {
   "codemirror_mode": {
    "name": "ipython",
    "version": 3
   },
   "file_extension": ".py",
   "mimetype": "text/x-python",
   "name": "python",
   "nbconvert_exporter": "python",
   "pygments_lexer": "ipython3",
   "version": "3.8.5"
  },
  "latex_envs": {
   "LaTeX_envs_menu_present": true,
   "autoclose": false,
   "autocomplete": true,
   "bibliofile": "biblio.bib",
   "cite_by": "apalike",
   "current_citInitial": 1,
   "eqLabelWithNumbers": true,
   "eqNumInitial": 1,
   "hotkeys": {
    "equation": "Ctrl-E",
    "itemize": "Ctrl-I"
   },
   "labels_anchors": false,
   "latex_user_defs": false,
   "report_style_numbering": false,
   "user_envs_cfg": false
  },
  "toc": {
   "base_numbering": 1,
   "nav_menu": {},
   "number_sections": false,
   "sideBar": true,
   "skip_h1_title": false,
   "title_cell": "Table of Contents",
   "title_sidebar": "Contents",
   "toc_cell": false,
   "toc_position": {},
   "toc_section_display": true,
   "toc_window_display": true
  }
 },
 "nbformat": 4,
 "nbformat_minor": 5
}
