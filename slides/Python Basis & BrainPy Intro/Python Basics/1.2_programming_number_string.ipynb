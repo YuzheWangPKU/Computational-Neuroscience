{
 "cells": [
  {
   "cell_type": "markdown",
   "id": "e9861268",
   "metadata": {},
   "source": [
    "# Standard Data Types"
   ]
  },
  {
   "cell_type": "markdown",
   "id": "0baeb841",
   "metadata": {},
   "source": [
    "The data stored in memory can be of many types. For example, a person's age is stored as a numeric value and his or her address is stored as alphanumeric characters. Python has various standard data types that are used to define the operations possible on them and the storage method for each of them.\n",
    "\n",
    "Python has five standard data types −\n",
    "\n",
    "- Numbers\n",
    "- String\n",
    "- List\n",
    "- Tuple\n",
    "- Dictionary"
   ]
  },
  {
   "cell_type": "markdown",
   "id": "2560edef",
   "metadata": {},
   "source": [
    "## Python Numbers"
   ]
  },
  {
   "cell_type": "markdown",
   "id": "c953b1b4",
   "metadata": {},
   "source": [
    "### 创建Number"
   ]
  },
  {
   "cell_type": "markdown",
   "id": "56cc49f1",
   "metadata": {},
   "source": [
    "Number data types store numeric values. "
   ]
  },
  {
   "cell_type": "code",
   "execution_count": 1,
   "id": "c1dfb180",
   "metadata": {},
   "outputs": [],
   "source": [
    "var1 = 1\n",
    "var2 = 10\n",
    "var3 = 100"
   ]
  },
  {
   "cell_type": "markdown",
   "id": "617bcdc7",
   "metadata": {},
   "source": [
    "You can also delete the reference to a number object by using the `del` statement. "
   ]
  },
  {
   "cell_type": "code",
   "execution_count": 2,
   "id": "1913d9b5",
   "metadata": {},
   "outputs": [],
   "source": [
    "del var1\n",
    "del var2, var3"
   ]
  },
  {
   "cell_type": "markdown",
   "id": "13e7908c",
   "metadata": {},
   "source": [
    "Python supports three different numerical types −\n",
    "\n",
    "- `int` (signed integers)\n",
    "- `float` (floating point real values)\n",
    "- `complex` (complex numbers)\n",
    "\n",
    "All integers in Python3 are represented as `long` integers. Hence, there is no separate number type as long."
   ]
  },
  {
   "cell_type": "markdown",
   "id": "48dce167",
   "metadata": {},
   "source": [
    "**int**"
   ]
  },
  {
   "cell_type": "code",
   "execution_count": 3,
   "id": "0bb7ccb6",
   "metadata": {},
   "outputs": [
    {
     "name": "stdout",
     "output_type": "stream",
     "text": [
      "10\n",
      "<class 'int'>\n"
     ]
    }
   ],
   "source": [
    "x = 10\n",
    "print(x)\n",
    "print(type(x))"
   ]
  },
  {
   "cell_type": "markdown",
   "id": "ca4bddb9",
   "metadata": {},
   "source": [
    "**float**"
   ]
  },
  {
   "cell_type": "code",
   "execution_count": 4,
   "id": "ad89bc74",
   "metadata": {},
   "outputs": [
    {
     "name": "stdout",
     "output_type": "stream",
     "text": [
      "1.0\n",
      "<class 'float'>\n"
     ]
    }
   ],
   "source": [
    "x = 1.0\n",
    "print(x)\n",
    "print(type(x))"
   ]
  },
  {
   "cell_type": "markdown",
   "id": "bdf09acb",
   "metadata": {},
   "source": [
    "Python supports scientific notation"
   ]
  },
  {
   "cell_type": "code",
   "execution_count": 5,
   "id": "e7f5376a",
   "metadata": {},
   "outputs": [
    {
     "data": {
      "text/plain": [
       "0.05"
      ]
     },
     "execution_count": 5,
     "metadata": {},
     "output_type": "execute_result"
    }
   ],
   "source": [
    "x = 5E-2\n",
    "x"
   ]
  },
  {
   "cell_type": "markdown",
   "id": "3ab0011d",
   "metadata": {},
   "source": [
    "Python supports very small numbers, but adding them with big numbers is problematic"
   ]
  },
  {
   "cell_type": "code",
   "execution_count": 6,
   "id": "d9a1473b",
   "metadata": {},
   "outputs": [
    {
     "data": {
      "text/plain": [
       "True"
      ]
     },
     "execution_count": 6,
     "metadata": {},
     "output_type": "execute_result"
    }
   ],
   "source": [
    "b = 1e-16\n",
    "1+b == 1"
   ]
  },
  {
   "cell_type": "markdown",
   "id": "bade5a7d",
   "metadata": {},
   "source": [
    "**complex**"
   ]
  },
  {
   "cell_type": "code",
   "execution_count": 7,
   "id": "6d6684a4",
   "metadata": {},
   "outputs": [
    {
     "name": "stdout",
     "output_type": "stream",
     "text": [
      "9.322e-36j\n",
      "<class 'complex'>\n"
     ]
    }
   ],
   "source": [
    "c = 9.322e-36j\n",
    "print(c)\n",
    "print(type(c))"
   ]
  },
  {
   "cell_type": "code",
   "execution_count": 8,
   "id": "bc0d2aff",
   "metadata": {},
   "outputs": [
    {
     "data": {
      "text/plain": [
       "3.14j"
      ]
     },
     "execution_count": 8,
     "metadata": {},
     "output_type": "execute_result"
    }
   ],
   "source": [
    "d = 3.14j\n",
    "d"
   ]
  },
  {
   "cell_type": "code",
   "execution_count": 9,
   "id": "b8abab88",
   "metadata": {},
   "outputs": [
    {
     "name": "stdout",
     "output_type": "stream",
     "text": [
      "(0.5+0.2j)\n",
      "<class 'complex'>\n"
     ]
    }
   ],
   "source": [
    "e = 0.5 + 0.2j\n",
    "print(e)\n",
    "print(type(e))"
   ]
  },
  {
   "cell_type": "markdown",
   "id": "91c9dd45",
   "metadata": {},
   "source": [
    "**attributes of numbers**"
   ]
  },
  {
   "cell_type": "code",
   "execution_count": 10,
   "id": "c9c19f17",
   "metadata": {},
   "outputs": [
    {
     "data": {
      "text/plain": [
       "0.2"
      ]
     },
     "execution_count": 10,
     "metadata": {},
     "output_type": "execute_result"
    }
   ],
   "source": [
    "e.imag"
   ]
  },
  {
   "cell_type": "code",
   "execution_count": 11,
   "id": "d9464a20",
   "metadata": {},
   "outputs": [
    {
     "data": {
      "text/plain": [
       "0.5"
      ]
     },
     "execution_count": 11,
     "metadata": {},
     "output_type": "execute_result"
    }
   ],
   "source": [
    "e.real"
   ]
  },
  {
   "cell_type": "markdown",
   "id": "3a13215c",
   "metadata": {},
   "source": [
    "### 操作Number"
   ]
  },
  {
   "cell_type": "markdown",
   "id": "d447fffa",
   "metadata": {},
   "source": [
    "#### 数值基本运算"
   ]
  },
  {
   "cell_type": "markdown",
   "id": "e91e641e",
   "metadata": {},
   "source": [
    "支持最基本的数学运算符号：+, -, \\*, /, %, **、取正负`+x`, `-x`，地板除法`//`，除法和取模`divmod(x, y)`. "
   ]
  },
  {
   "cell_type": "code",
   "execution_count": 12,
   "id": "e9829aea",
   "metadata": {},
   "outputs": [
    {
     "data": {
      "text/plain": [
       "468"
      ]
     },
     "execution_count": 12,
     "metadata": {},
     "output_type": "execute_result"
    }
   ],
   "source": [
    "123 + 345"
   ]
  },
  {
   "cell_type": "code",
   "execution_count": 13,
   "id": "c9fa46e5",
   "metadata": {},
   "outputs": [
    {
     "data": {
      "text/plain": [
       "222"
      ]
     },
     "execution_count": 13,
     "metadata": {},
     "output_type": "execute_result"
    }
   ],
   "source": [
    "345 - 123"
   ]
  },
  {
   "cell_type": "code",
   "execution_count": 14,
   "id": "a0eecddb",
   "metadata": {},
   "outputs": [
    {
     "data": {
      "text/plain": [
       "6.0"
      ]
     },
     "execution_count": 14,
     "metadata": {},
     "output_type": "execute_result"
    }
   ],
   "source": [
    "1.5 * 4"
   ]
  },
  {
   "cell_type": "code",
   "execution_count": 15,
   "id": "ddec3790",
   "metadata": {},
   "outputs": [
    {
     "data": {
      "text/plain": [
       "0.4"
      ]
     },
     "execution_count": 15,
     "metadata": {},
     "output_type": "execute_result"
    }
   ],
   "source": [
    "2 / 5"
   ]
  },
  {
   "cell_type": "code",
   "execution_count": 16,
   "id": "4e5139ae",
   "metadata": {},
   "outputs": [
    {
     "data": {
      "text/plain": [
       "0"
      ]
     },
     "execution_count": 16,
     "metadata": {},
     "output_type": "execute_result"
    }
   ],
   "source": [
    "2 // 5"
   ]
  },
  {
   "cell_type": "markdown",
   "id": "05e39175",
   "metadata": {},
   "source": [
    "- `/`：实现的是真除法。在python中，它总是返回浮点数值。\n",
    "- `//`：实现的是floor地板除法，它会去掉除法运算后的小数位，以便得到小于运算结果的最大整数。如果参与运算的有小数，则返回浮点数，否则返回整数"
   ]
  },
  {
   "cell_type": "code",
   "execution_count": 17,
   "id": "91a59a86",
   "metadata": {},
   "outputs": [
    {
     "data": {
      "text/plain": [
       "2"
      ]
     },
     "execution_count": 17,
     "metadata": {},
     "output_type": "execute_result"
    }
   ],
   "source": [
    "2 % 3"
   ]
  },
  {
   "cell_type": "code",
   "execution_count": 18,
   "id": "4a07ad18",
   "metadata": {},
   "outputs": [
    {
     "data": {
      "text/plain": [
       "9"
      ]
     },
     "execution_count": 18,
     "metadata": {},
     "output_type": "execute_result"
    }
   ],
   "source": [
    "3 ** 2"
   ]
  },
  {
   "cell_type": "code",
   "execution_count": 19,
   "id": "3a747b33",
   "metadata": {},
   "outputs": [
    {
     "data": {
      "text/plain": [
       "9.0"
      ]
     },
     "execution_count": 19,
     "metadata": {},
     "output_type": "execute_result"
    }
   ],
   "source": [
    "3.00 ** 2"
   ]
  },
  {
   "cell_type": "code",
   "execution_count": 20,
   "id": "ee99ecd6",
   "metadata": {},
   "outputs": [],
   "source": [
    "a = 3; b = -3"
   ]
  },
  {
   "cell_type": "code",
   "execution_count": 21,
   "id": "591fbe6e",
   "metadata": {},
   "outputs": [
    {
     "data": {
      "text/plain": [
       "(-3, 3)"
      ]
     },
     "execution_count": 21,
     "metadata": {},
     "output_type": "execute_result"
    }
   ],
   "source": [
    "-a, -b"
   ]
  },
  {
   "cell_type": "code",
   "execution_count": 22,
   "id": "f6d780f5",
   "metadata": {},
   "outputs": [
    {
     "data": {
      "text/plain": [
       "(2, 1)"
      ]
     },
     "execution_count": 22,
     "metadata": {},
     "output_type": "execute_result"
    }
   ],
   "source": [
    "divmod(5, 2)"
   ]
  },
  {
   "cell_type": "markdown",
   "id": "dc4d74e4",
   "metadata": {},
   "source": [
    "#### 位运算符"
   ]
  },
  {
   "cell_type": "markdown",
   "id": "3db0dd53",
   "metadata": {},
   "source": [
    "取反(~)、位移(>>)、位与(&)、位异或(^)、逻辑与(and)、逻辑或(or)"
   ]
  },
  {
   "cell_type": "markdown",
   "id": "4ca4273b",
   "metadata": {},
   "source": [
    "| 运算符 | 描述  | 实例   |\n",
    "| :----- | :----------------------------------------------------------- | :----------------------------------------------------------- |\n",
    "| &      | 按位与运算符：参与运算的两个值,如果两个相应位都为1,则该位的结果为1,否则为0 | (a & b) 输出结果 12 ，二进制解释： 0000 1100                 |\n",
    "| \\|     | 按位或运算符：只要对应的二个二进位有一个为1时，结果位就为1。 | (a \\| b) 输出结果 61 ，二进制解释： 0011 1101                |\n",
    "| ^      | 按位异或运算符：当两对应的二进位相异时，结果为1              | (a ^ b) 输出结果 49 ，二进制解释： 0011 0001                 |\n",
    "| ~      | 按位取反运算符：对数据的每个二进制位取反,即把1变为0,把0变为1 。**~x** 类似于 **-x-1** | (~a ) 输出结果 -61 ，二进制解释： 1100 0011，在一个有符号二进制数的补码形式。 |\n",
    "| <<     | 左移动运算符：运算数的各二进位全部左移若干位，由 **<<** 右边的数字指定了移动的位数，高位丢弃，低位补0。 | a << 2 输出结果 240 ，二进制解释： 1111 0000                 |\n",
    "| >>     | 右移动运算符：把\">>\"左边的运算数的各二进位全部右移若干位，**>>** 右边的数字指定了移动的位数 | a >> 2 输出结果 15 ，二进制解释： 0000 1111                  |\n",
    "|        |                                                              |                                                              |\n",
    "|        |                                                              |                                                              |\n"
   ]
  },
  {
   "cell_type": "code",
   "execution_count": 23,
   "id": "0704bb25",
   "metadata": {},
   "outputs": [],
   "source": [
    "a = 60\n",
    "b = 13"
   ]
  },
  {
   "cell_type": "code",
   "execution_count": 24,
   "id": "024afd30",
   "metadata": {},
   "outputs": [
    {
     "data": {
      "text/plain": [
       "('111100', '1101')"
      ]
     },
     "execution_count": 24,
     "metadata": {},
     "output_type": "execute_result"
    }
   ],
   "source": [
    "\"{0:b}\".format(a), \"{0:b}\".format(b)"
   ]
  },
  {
   "cell_type": "code",
   "execution_count": 25,
   "id": "9f174191",
   "metadata": {},
   "outputs": [
    {
     "data": {
      "text/plain": [
       "'1100'"
      ]
     },
     "execution_count": 25,
     "metadata": {},
     "output_type": "execute_result"
    }
   ],
   "source": [
    "\"{0:b}\".format(a&b)"
   ]
  },
  {
   "cell_type": "code",
   "execution_count": 26,
   "id": "183a7847",
   "metadata": {},
   "outputs": [
    {
     "data": {
      "text/plain": [
       "'111101'"
      ]
     },
     "execution_count": 26,
     "metadata": {},
     "output_type": "execute_result"
    }
   ],
   "source": [
    "\"{0:b}\".format(a|b)"
   ]
  },
  {
   "cell_type": "code",
   "execution_count": 27,
   "id": "82c7f237",
   "metadata": {},
   "outputs": [
    {
     "data": {
      "text/plain": [
       "'110001'"
      ]
     },
     "execution_count": 27,
     "metadata": {},
     "output_type": "execute_result"
    }
   ],
   "source": [
    "\"{0:b}\".format(a^b)"
   ]
  },
  {
   "cell_type": "code",
   "execution_count": 28,
   "id": "28bc5223",
   "metadata": {},
   "outputs": [
    {
     "data": {
      "text/plain": [
       "'-111101'"
      ]
     },
     "execution_count": 28,
     "metadata": {},
     "output_type": "execute_result"
    }
   ],
   "source": [
    "\"{0:b}\".format(~a)"
   ]
  },
  {
   "cell_type": "code",
   "execution_count": 29,
   "id": "c1f94e77",
   "metadata": {},
   "outputs": [
    {
     "data": {
      "text/plain": [
       "'1111000'"
      ]
     },
     "execution_count": 29,
     "metadata": {},
     "output_type": "execute_result"
    }
   ],
   "source": [
    "\"{0:b}\".format(a<<1)"
   ]
  },
  {
   "cell_type": "code",
   "execution_count": 30,
   "id": "f6feaedc",
   "metadata": {},
   "outputs": [
    {
     "data": {
      "text/plain": [
       "'11110'"
      ]
     },
     "execution_count": 30,
     "metadata": {},
     "output_type": "execute_result"
    }
   ],
   "source": [
    "\"{0:b}\".format(a>>1)"
   ]
  },
  {
   "cell_type": "markdown",
   "id": "88f746aa",
   "metadata": {},
   "source": [
    "#### 逻辑运算符"
   ]
  },
  {
   "cell_type": "markdown",
   "id": "4b340d57",
   "metadata": {},
   "source": [
    "| 运算符 | 逻辑表达式 | 描述                                                         | 实例                    |\n",
    "| :----- | :--------- | :----------------------------------------------------------- | :---------------------- |\n",
    "| and    | x and y    | 布尔\"与\" - 如果 x 为 False，x and y 返回 False，否则它返回 y 的计算值。 | (a and b) 返回 20。     |\n",
    "| or     | x or y     | 布尔\"或\" - 如果 x 是非 0，它返回 x 的计算值，否则它返回 y 的计算值。 | (a or b) 返回 10。      |\n",
    "| not    | not x      | 布尔\"非\" - 如果 x 为 True，返回 False 。如果 x 为 False，它返回 True。 | not(a and b) 返回 False |\n",
    "\n"
   ]
  },
  {
   "cell_type": "code",
   "execution_count": 31,
   "id": "4ff43bbb",
   "metadata": {},
   "outputs": [],
   "source": [
    "a = 10\n",
    "b = 20"
   ]
  },
  {
   "cell_type": "code",
   "execution_count": 32,
   "id": "d8102b80",
   "metadata": {},
   "outputs": [
    {
     "name": "stdout",
     "output_type": "stream",
     "text": [
      "1 - 变量 a 和 b 都为 true\n",
      "2 - 变量 a 和 b 都为 true，或其中一个变量为 true\n"
     ]
    }
   ],
   "source": [
    "if  a and b :\n",
    "   print(\"1 - 变量 a 和 b 都为 true\")\n",
    "else:\n",
    "   print(\"1 - 变量 a 和 b 有一个不为 true\")\n",
    " \n",
    "if  a or b :\n",
    "   print(\"2 - 变量 a 和 b 都为 true，或其中一个变量为 true\")\n",
    "else:\n",
    "   print(\"2 - 变量 a 和 b 都不为 true\")"
   ]
  },
  {
   "cell_type": "code",
   "execution_count": 33,
   "id": "6613a215",
   "metadata": {},
   "outputs": [
    {
     "name": "stdout",
     "output_type": "stream",
     "text": [
      "3 - 变量 a 和 b 有一个不为 true\n"
     ]
    }
   ],
   "source": [
    "# 修改变量 a 的值\n",
    "a = 0\n",
    "if  a and b :\n",
    "   print(\"3 - 变量 a 和 b 都为 true\")\n",
    "else:\n",
    "   print(\"3 - 变量 a 和 b 有一个不为 true\")"
   ]
  },
  {
   "cell_type": "code",
   "execution_count": 34,
   "id": "52772f7a",
   "metadata": {},
   "outputs": [
    {
     "name": "stdout",
     "output_type": "stream",
     "text": [
      "4 - 变量 a 和 b 都为 true，或其中一个变量为 true\n"
     ]
    }
   ],
   "source": [
    "if  a or b :\n",
    "   print( \"4 - 变量 a 和 b 都为 true，或其中一个变量为 true\")\n",
    "else:\n",
    "   print (\"4 - 变量 a 和 b 都不为 true\")"
   ]
  },
  {
   "cell_type": "code",
   "execution_count": 35,
   "id": "fd8dcb7f",
   "metadata": {},
   "outputs": [
    {
     "name": "stdout",
     "output_type": "stream",
     "text": [
      "5 - 变量 a 和 b 都为 false，或其中一个变量为 false\n"
     ]
    }
   ],
   "source": [
    "if not( a and b ):\n",
    "   print (\"5 - 变量 a 和 b 都为 false，或其中一个变量为 false\")\n",
    "else:\n",
    "   print (\"5 - 变量 a 和 b 都为 true\")"
   ]
  },
  {
   "cell_type": "markdown",
   "id": "57c51df5",
   "metadata": {},
   "source": [
    "#### 内置数学函数"
   ]
  },
  {
   "cell_type": "markdown",
   "id": "c0de3a5c",
   "metadata": {},
   "source": [
    "- `pow()`：求幂，如pow(2,3)=8\n",
    "- `abs()`：求绝对值，如abs(-3)=3\n",
    "- `round()`：四舍五入，如round(3.5)=4\n",
    "- `int()`：取整(截去小数部分)，如int(3.5)=3\n",
    "- `float()`：转换成浮点数，如float(3)=3.0\n",
    "- `oct()`：十进制整数转换成八进制\n",
    "- `hex()`：十进制整数转换成十六进制整数\n",
    "- `bin()`：十进制整数转换成二进制"
   ]
  },
  {
   "cell_type": "markdown",
   "id": "f23f9409",
   "metadata": {},
   "source": [
    "## Python Strings"
   ]
  },
  {
   "cell_type": "markdown",
   "id": "abe36911",
   "metadata": {},
   "source": [
    "Strings in Python are identified as a contiguous set of characters represented in the quotation marks. "
   ]
  },
  {
   "cell_type": "markdown",
   "id": "5e218ba9",
   "metadata": {},
   "source": [
    "### 字符串的创建"
   ]
  },
  {
   "cell_type": "markdown",
   "id": "f5bc46e4",
   "metadata": {},
   "source": [
    "#### Method 1: quotes"
   ]
  },
  {
   "cell_type": "markdown",
   "id": "b1a1f904",
   "metadata": {},
   "source": [
    "Create a string in Python by a pair of single or double quotes:"
   ]
  },
  {
   "cell_type": "code",
   "execution_count": 36,
   "id": "27903410",
   "metadata": {},
   "outputs": [
    {
     "data": {
      "text/plain": [
       "('Hello World!', 'Hello World!')"
      ]
     },
     "execution_count": 36,
     "metadata": {},
     "output_type": "execute_result"
    }
   ],
   "source": [
    "s1 = 'Hello World!'\n",
    "\n",
    "s2 = \"Hello World!\"\n",
    "\n",
    "s1, s2"
   ]
  },
  {
   "cell_type": "markdown",
   "id": "e92e3bbc",
   "metadata": {},
   "source": [
    "#### Method 2: str()"
   ]
  },
  {
   "cell_type": "markdown",
   "id": "54f02958",
   "metadata": {},
   "source": [
    "Create a string by `str()`:"
   ]
  },
  {
   "cell_type": "code",
   "execution_count": 37,
   "id": "f4f6a7f2",
   "metadata": {},
   "outputs": [
    {
     "data": {
      "text/plain": [
       "'123'"
      ]
     },
     "execution_count": 37,
     "metadata": {},
     "output_type": "execute_result"
    }
   ],
   "source": [
    "str(123)"
   ]
  },
  {
   "cell_type": "markdown",
   "id": "353ff96d",
   "metadata": {},
   "source": [
    "#### Method 3: 占位符(%)格式化"
   ]
  },
  {
   "cell_type": "markdown",
   "id": "4ce7dcfb",
   "metadata": {},
   "source": [
    "![](files/string_m1.png)"
   ]
  },
  {
   "cell_type": "code",
   "execution_count": 38,
   "id": "47b989f2",
   "metadata": {},
   "outputs": [
    {
     "name": "stdout",
     "output_type": "stream",
     "text": [
      "my age is 29\n"
     ]
    }
   ],
   "source": [
    "age = 29\n",
    "print(\"my age is %d\" % age)"
   ]
  },
  {
   "cell_type": "code",
   "execution_count": 39,
   "id": "4a3b858e",
   "metadata": {},
   "outputs": [
    {
     "name": "stdout",
     "output_type": "stream",
     "text": [
      "my name is makes\n"
     ]
    }
   ],
   "source": [
    "name = \"makes\"\n",
    "print(\"my name is %s\" % name)"
   ]
  },
  {
   "cell_type": "code",
   "execution_count": 40,
   "id": "53b33763",
   "metadata": {
    "scrolled": true
   },
   "outputs": [
    {
     "name": "stdout",
     "output_type": "stream",
     "text": [
      " 2.300\n",
      "2.300000\n"
     ]
    }
   ],
   "source": [
    "print(\"%6.3f\" % 2.3)\n",
    "\n",
    "print(\"%f\" % 2.3)"
   ]
  },
  {
   "cell_type": "markdown",
   "id": "fdab3bfd",
   "metadata": {},
   "source": [
    "#### Method 4:  format()"
   ]
  },
  {
   "cell_type": "markdown",
   "id": "22d84b54",
   "metadata": {},
   "source": [
    "**位置映射**"
   ]
  },
  {
   "cell_type": "markdown",
   "id": "8218e1a3",
   "metadata": {},
   "source": [
    "![](files/string_m2.png)"
   ]
  },
  {
   "cell_type": "code",
   "execution_count": 41,
   "id": "93405785",
   "metadata": {},
   "outputs": [
    {
     "name": "stdout",
     "output_type": "stream",
     "text": [
      "192.168.0.100:8888\n"
     ]
    }
   ],
   "source": [
    "print(\"{}:{}\".format('192.168.0.100', 8888))"
   ]
  },
  {
   "cell_type": "markdown",
   "id": "b29ab915",
   "metadata": {},
   "source": [
    "**关键字映射**"
   ]
  },
  {
   "cell_type": "markdown",
   "id": "db0bae4d",
   "metadata": {},
   "source": [
    "![](files/string_m3.png)"
   ]
  },
  {
   "cell_type": "code",
   "execution_count": 42,
   "id": "7620f98f",
   "metadata": {},
   "outputs": [
    {
     "name": "stdout",
     "output_type": "stream",
     "text": [
      "Web Server Info :192.168.1.100:8888\n"
     ]
    }
   ],
   "source": [
    "print(\"{server}{1}:{0}\".format(8888, \n",
    "                               '192.168.1.100',\n",
    "                               server='Web Server Info :'))"
   ]
  },
  {
   "cell_type": "markdown",
   "id": "4fed2adb",
   "metadata": {},
   "source": [
    "### 字符串的操作"
   ]
  },
  {
   "cell_type": "markdown",
   "id": "79382d09",
   "metadata": {},
   "source": [
    "#### 大小写转换"
   ]
  },
  {
   "cell_type": "markdown",
   "id": "cd9bf94e",
   "metadata": {},
   "source": [
    "`S.lower()`"
   ]
  },
  {
   "cell_type": "code",
   "execution_count": 43,
   "id": "4df7b90e",
   "metadata": {},
   "outputs": [
    {
     "name": "stdout",
     "output_type": "stream",
     "text": [
      "ab xy\n"
     ]
    }
   ],
   "source": [
    "print('ab XY'.lower())"
   ]
  },
  {
   "cell_type": "markdown",
   "id": "634216a8",
   "metadata": {},
   "source": [
    "`S.upper()`"
   ]
  },
  {
   "cell_type": "code",
   "execution_count": 44,
   "id": "1d374248",
   "metadata": {},
   "outputs": [
    {
     "name": "stdout",
     "output_type": "stream",
     "text": [
      "AB XY\n"
     ]
    }
   ],
   "source": [
    "print('ab XY'.upper())"
   ]
  },
  {
   "cell_type": "markdown",
   "id": "62fb664e",
   "metadata": {},
   "source": [
    "`S.title()`"
   ]
  },
  {
   "cell_type": "code",
   "execution_count": 45,
   "id": "fa8cfb6c",
   "metadata": {},
   "outputs": [
    {
     "name": "stdout",
     "output_type": "stream",
     "text": [
      "Ab Xy Cd\n"
     ]
    }
   ],
   "source": [
    "print('ab XY cd'.title())"
   ]
  },
  {
   "cell_type": "markdown",
   "id": "76a1b648",
   "metadata": {},
   "source": [
    "`S.capitalize()`"
   ]
  },
  {
   "cell_type": "code",
   "execution_count": 46,
   "id": "44a57ff1",
   "metadata": {},
   "outputs": [
    {
     "name": "stdout",
     "output_type": "stream",
     "text": [
      "Abc de\n"
     ]
    }
   ],
   "source": [
    "print('abc DE'.capitalize())"
   ]
  },
  {
   "cell_type": "markdown",
   "id": "b6df9f92",
   "metadata": {},
   "source": [
    "`S.swapcase()`"
   ]
  },
  {
   "cell_type": "code",
   "execution_count": 47,
   "id": "4935066f",
   "metadata": {},
   "outputs": [
    {
     "name": "stdout",
     "output_type": "stream",
     "text": [
      "ABC xyz\n"
     ]
    }
   ],
   "source": [
    "print('abc XYZ'.swapcase())"
   ]
  },
  {
   "cell_type": "markdown",
   "id": "ea9b82bc",
   "metadata": {},
   "source": [
    "#### 判断"
   ]
  },
  {
   "cell_type": "markdown",
   "id": "84a167ce",
   "metadata": {},
   "source": [
    "`S.isdigit()`"
   ]
  },
  {
   "cell_type": "code",
   "execution_count": 48,
   "id": "6ae8a343",
   "metadata": {},
   "outputs": [
    {
     "data": {
      "text/plain": [
       "True"
      ]
     },
     "execution_count": 48,
     "metadata": {},
     "output_type": "execute_result"
    }
   ],
   "source": [
    "'34'.isdigit()"
   ]
  },
  {
   "cell_type": "markdown",
   "id": "a5c740d9",
   "metadata": {},
   "source": [
    "`S.isalpha()`"
   ]
  },
  {
   "cell_type": "code",
   "execution_count": 49,
   "id": "e91cfd43",
   "metadata": {},
   "outputs": [
    {
     "data": {
      "text/plain": [
       "True"
      ]
     },
     "execution_count": 49,
     "metadata": {},
     "output_type": "execute_result"
    }
   ],
   "source": [
    "'abc'.isalpha()"
   ]
  },
  {
   "cell_type": "markdown",
   "id": "9086f713",
   "metadata": {},
   "source": [
    "`S.isalnum()`"
   ]
  },
  {
   "cell_type": "code",
   "execution_count": 50,
   "id": "a6e39aea",
   "metadata": {},
   "outputs": [
    {
     "data": {
      "text/plain": [
       "True"
      ]
     },
     "execution_count": 50,
     "metadata": {},
     "output_type": "execute_result"
    }
   ],
   "source": [
    "'a34'.isalnum()"
   ]
  },
  {
   "cell_type": "markdown",
   "id": "c1de60d0",
   "metadata": {},
   "source": [
    "`S.isidentifier()`"
   ]
  },
  {
   "cell_type": "code",
   "execution_count": 51,
   "id": "ecd565e9",
   "metadata": {},
   "outputs": [
    {
     "data": {
      "text/plain": [
       "True"
      ]
     },
     "execution_count": 51,
     "metadata": {},
     "output_type": "execute_result"
    }
   ],
   "source": [
    "'a34'.isidentifier()"
   ]
  },
  {
   "cell_type": "code",
   "execution_count": 52,
   "id": "a7259608",
   "metadata": {},
   "outputs": [
    {
     "data": {
      "text/plain": [
       "False"
      ]
     },
     "execution_count": 52,
     "metadata": {},
     "output_type": "execute_result"
    }
   ],
   "source": [
    "'23a34'.isidentifier()"
   ]
  },
  {
   "cell_type": "markdown",
   "id": "eaacac68",
   "metadata": {},
   "source": [
    "#### 填充"
   ]
  },
  {
   "cell_type": "markdown",
   "id": "5f10e916",
   "metadata": {},
   "source": [
    "`S.center(width[, fillchar])`"
   ]
  },
  {
   "cell_type": "code",
   "execution_count": 53,
   "id": "63e349a8",
   "metadata": {},
   "outputs": [
    {
     "name": "stdout",
     "output_type": "stream",
     "text": [
      "_ab_\n"
     ]
    }
   ],
   "source": [
    "print('ab'.center(4,'_'))"
   ]
  },
  {
   "cell_type": "code",
   "execution_count": 54,
   "id": "3e3ac560",
   "metadata": {},
   "outputs": [
    {
     "name": "stdout",
     "output_type": "stream",
     "text": [
      " ab \n"
     ]
    }
   ],
   "source": [
    "print('ab'.center(4))"
   ]
  },
  {
   "cell_type": "code",
   "execution_count": 55,
   "id": "09af99e6",
   "metadata": {},
   "outputs": [
    {
     "name": "stdout",
     "output_type": "stream",
     "text": [
      "abcde\n"
     ]
    }
   ],
   "source": [
    "print('abcde'.center(3))"
   ]
  },
  {
   "cell_type": "markdown",
   "id": "c1cef724",
   "metadata": {},
   "source": [
    "`S.ljust(width[, fillchar])`"
   ]
  },
  {
   "cell_type": "code",
   "execution_count": 56,
   "id": "6984ad48",
   "metadata": {},
   "outputs": [
    {
     "name": "stdout",
     "output_type": "stream",
     "text": [
      "xyz__\n"
     ]
    }
   ],
   "source": [
    "print('xyz'.ljust(5,'_'))"
   ]
  },
  {
   "cell_type": "markdown",
   "id": "c7704a91",
   "metadata": {},
   "source": [
    "`S.rjust(width[, fillchar])`"
   ]
  },
  {
   "cell_type": "code",
   "execution_count": 57,
   "id": "40462732",
   "metadata": {},
   "outputs": [
    {
     "name": "stdout",
     "output_type": "stream",
     "text": [
      "__xyz\n"
     ]
    }
   ],
   "source": [
    "print('xyz'.rjust(5,'_'))"
   ]
  },
  {
   "cell_type": "markdown",
   "id": "e91a6d8e",
   "metadata": {},
   "source": [
    "#### 修剪"
   ]
  },
  {
   "cell_type": "markdown",
   "id": "84270e9f",
   "metadata": {},
   "source": [
    "`S.strip([chars])`\n",
    "\n",
    "`S.lstrip([chars])`\n",
    "\n",
    "\n",
    "`S.rstrip([chars])`"
   ]
  },
  {
   "cell_type": "markdown",
   "id": "51e0d490",
   "metadata": {},
   "source": [
    "移除单个字符或空白。"
   ]
  },
  {
   "cell_type": "code",
   "execution_count": 58,
   "id": "a044c050",
   "metadata": {},
   "outputs": [
    {
     "data": {
      "text/plain": [
       "'spacious'"
      ]
     },
     "execution_count": 58,
     "metadata": {},
     "output_type": "execute_result"
    }
   ],
   "source": [
    "'   spacious   '.strip()"
   ]
  },
  {
   "cell_type": "code",
   "execution_count": 59,
   "id": "fde5382c",
   "metadata": {},
   "outputs": [
    {
     "data": {
      "text/plain": [
       "'spacious   '"
      ]
     },
     "execution_count": 59,
     "metadata": {},
     "output_type": "execute_result"
    }
   ],
   "source": [
    "'   spacious   '.lstrip()"
   ]
  },
  {
   "cell_type": "code",
   "execution_count": 60,
   "id": "3871055a",
   "metadata": {},
   "outputs": [
    {
     "data": {
      "text/plain": [
       "'   spacious'"
      ]
     },
     "execution_count": 60,
     "metadata": {},
     "output_type": "execute_result"
    }
   ],
   "source": [
    "'   spacious   '.rstrip()"
   ]
  },
  {
   "cell_type": "markdown",
   "id": "eb44fe9f",
   "metadata": {},
   "source": [
    "移除字符序列中的字符。"
   ]
  },
  {
   "cell_type": "code",
   "execution_count": 61,
   "id": "41a10af3",
   "metadata": {},
   "outputs": [
    {
     "name": "stdout",
     "output_type": "stream",
     "text": [
      "example.com\n"
     ]
    }
   ],
   "source": [
    "print('www.example.com'.lstrip('cmowz.'))"
   ]
  },
  {
   "cell_type": "code",
   "execution_count": 62,
   "id": "f9a876d3",
   "metadata": {},
   "outputs": [
    {
     "name": "stdout",
     "output_type": "stream",
     "text": [
      "example.com\n"
     ]
    }
   ],
   "source": [
    "print('wwwz.example.com'.lstrip('cmowz.'))"
   ]
  },
  {
   "cell_type": "code",
   "execution_count": 63,
   "id": "c765d1c1",
   "metadata": {},
   "outputs": [
    {
     "name": "stdout",
     "output_type": "stream",
     "text": [
      "aw.example.com\n"
     ]
    }
   ],
   "source": [
    "print('wwaw.example.com'.lstrip('cmowz.'))"
   ]
  },
  {
   "cell_type": "code",
   "execution_count": 64,
   "id": "d6a67c3d",
   "metadata": {},
   "outputs": [
    {
     "name": "stdout",
     "output_type": "stream",
     "text": [
      "example\n"
     ]
    }
   ],
   "source": [
    "print('www.example.com'.strip('cmowz.'))"
   ]
  },
  {
   "cell_type": "markdown",
   "id": "9f727010",
   "metadata": {},
   "source": [
    "#### 搜索"
   ]
  },
  {
   "cell_type": "markdown",
   "id": "a1334800",
   "metadata": {},
   "source": [
    "`S.count(sub[, start[, end]])`"
   ]
  },
  {
   "cell_type": "code",
   "execution_count": 65,
   "id": "5f8b5942",
   "metadata": {},
   "outputs": [
    {
     "name": "stdout",
     "output_type": "stream",
     "text": [
      "3\n"
     ]
    }
   ],
   "source": [
    "print('xyabxyxy'.count('xy'))"
   ]
  },
  {
   "cell_type": "code",
   "execution_count": 66,
   "id": "c00f7887",
   "metadata": {},
   "outputs": [
    {
     "name": "stdout",
     "output_type": "stream",
     "text": [
      "2\n"
     ]
    }
   ],
   "source": [
    "# 次数2，因为从index=1算起，即从'y'开始查找，查找的范围为'yabxyxy'\n",
    "\n",
    "print('xyabxyxy'.count('xy', 1))"
   ]
  },
  {
   "cell_type": "code",
   "execution_count": 67,
   "id": "1723cc60",
   "metadata": {},
   "outputs": [
    {
     "name": "stdout",
     "output_type": "stream",
     "text": [
      "1\n"
     ]
    }
   ],
   "source": [
    "# 次数1，因为不包括end，所以查找的范围为'yabxyx'\n",
    "\n",
    "print('xyabxyxy'.count('xy', 1, 7))"
   ]
  },
  {
   "cell_type": "markdown",
   "id": "dadc62c4",
   "metadata": {},
   "source": [
    "`S.endswith(suffix[, start[, end]])`\n",
    "\n",
    "`S.startswith(prefix[, start[, end]])`"
   ]
  },
  {
   "cell_type": "code",
   "execution_count": 68,
   "id": "a00dcb78",
   "metadata": {},
   "outputs": [
    {
     "name": "stdout",
     "output_type": "stream",
     "text": [
      "True\n"
     ]
    }
   ],
   "source": [
    "print('abcxyz'.endswith('xyz'))"
   ]
  },
  {
   "cell_type": "code",
   "execution_count": 69,
   "id": "7a84f740",
   "metadata": {},
   "outputs": [
    {
     "name": "stdout",
     "output_type": "stream",
     "text": [
      "False\n"
     ]
    }
   ],
   "source": [
    "print('abcxyz'.endswith('xyz',4))  # False，因为搜索范围为'yz'"
   ]
  },
  {
   "cell_type": "code",
   "execution_count": 70,
   "id": "7ba6c68c",
   "metadata": {},
   "outputs": [
    {
     "name": "stdout",
     "output_type": "stream",
     "text": [
      "False\n"
     ]
    }
   ],
   "source": [
    "# False，因为搜索范围为'abcxy'\n",
    "print('abcxyz'.endswith('xyz',0,5))"
   ]
  },
  {
   "cell_type": "markdown",
   "id": "05e0db43",
   "metadata": {},
   "source": [
    "#### 替换"
   ]
  },
  {
   "cell_type": "markdown",
   "id": "7a448d9f",
   "metadata": {},
   "source": [
    "`S.replace(old, new[, count])`"
   ]
  },
  {
   "cell_type": "code",
   "execution_count": 71,
   "id": "8b8a74ce",
   "metadata": {},
   "outputs": [
    {
     "name": "stdout",
     "output_type": "stream",
     "text": [
      "abcXYzoXY\n"
     ]
    }
   ],
   "source": [
    "print('abcxyzoxy'.replace('xy','XY'))"
   ]
  },
  {
   "cell_type": "code",
   "execution_count": 72,
   "id": "3819a4cb",
   "metadata": {},
   "outputs": [
    {
     "name": "stdout",
     "output_type": "stream",
     "text": [
      "abcXYzoxy\n"
     ]
    }
   ],
   "source": [
    "print('abcxyzoxy'.replace('xy','XY',1))"
   ]
  },
  {
   "cell_type": "markdown",
   "id": "8cbb596f",
   "metadata": {},
   "source": [
    "#### 分割"
   ]
  },
  {
   "cell_type": "markdown",
   "id": "6e275769",
   "metadata": {},
   "source": [
    "`S.partition(sep)`\n",
    "\n",
    "`S.rpartition(sep)`"
   ]
  },
  {
   "cell_type": "code",
   "execution_count": 73,
   "id": "542b8be8",
   "metadata": {},
   "outputs": [
    {
     "name": "stdout",
     "output_type": "stream",
     "text": [
      "('abc', 'xy', 'zxyopq')\n",
      "('abcxyz', 'xy', 'opq')\n"
     ]
    }
   ],
   "source": [
    "# 搜索到多个sep时，分别从左第一个、右第一个sep分割\n",
    "\n",
    "print('abcxyzxyopq'.partition('xy'))\n",
    "\n",
    "print('abcxyzxyopq'.rpartition('xy'))"
   ]
  },
  {
   "cell_type": "markdown",
   "id": "320ed626",
   "metadata": {},
   "source": [
    "`S.split(sep=None, maxsplit=-1)`\n",
    "\n",
    "`S.rsplit(sep=None, maxsplit=-1)`"
   ]
  },
  {
   "cell_type": "code",
   "execution_count": 74,
   "id": "321d4234",
   "metadata": {},
   "outputs": [
    {
     "data": {
      "text/plain": [
       "['1', '2', '3']"
      ]
     },
     "execution_count": 74,
     "metadata": {},
     "output_type": "execute_result"
    }
   ],
   "source": [
    "'1,2,3'.split(',')"
   ]
  },
  {
   "cell_type": "code",
   "execution_count": 75,
   "id": "f339d97a",
   "metadata": {},
   "outputs": [
    {
     "data": {
      "text/plain": [
       "['1', '2,3']"
      ]
     },
     "execution_count": 75,
     "metadata": {},
     "output_type": "execute_result"
    }
   ],
   "source": [
    "'1,2,3'.split(',',1)  # 只分割了一次"
   ]
  },
  {
   "cell_type": "code",
   "execution_count": 76,
   "id": "9e1db52e",
   "metadata": {},
   "outputs": [
    {
     "data": {
      "text/plain": [
       "['<hello>', '<world>']"
      ]
     },
     "execution_count": 76,
     "metadata": {},
     "output_type": "execute_result"
    }
   ],
   "source": [
    "# sep为多个字符时\n",
    "\n",
    "'<hello><><world>'.split('<>')"
   ]
  },
  {
   "cell_type": "markdown",
   "id": "f1ccf29b",
   "metadata": {},
   "source": [
    "#### 合并"
   ]
  },
  {
   "cell_type": "markdown",
   "id": "c2b365f9",
   "metadata": {},
   "source": [
    "`S.join(iterable)`"
   ]
  },
  {
   "cell_type": "code",
   "execution_count": 77,
   "id": "dc6ec9aa",
   "metadata": {},
   "outputs": [
    {
     "data": {
      "text/plain": [
       "'p_y_t_h_o_n'"
      ]
     },
     "execution_count": 77,
     "metadata": {},
     "output_type": "execute_result"
    }
   ],
   "source": [
    "L='python'\n",
    "'_'.join(L)"
   ]
  },
  {
   "cell_type": "code",
   "execution_count": 78,
   "id": "8987ff64",
   "metadata": {},
   "outputs": [
    {
     "data": {
      "text/plain": [
       "'1_2_3'"
      ]
     },
     "execution_count": 78,
     "metadata": {},
     "output_type": "execute_result"
    }
   ],
   "source": [
    "L1=('1','2','3')\n",
    "'_'.join(L1)"
   ]
  },
  {
   "cell_type": "code",
   "execution_count": 79,
   "id": "8b44523b",
   "metadata": {},
   "outputs": [
    {
     "data": {
      "text/plain": [
       "'py_th_o_n'"
      ]
     },
     "execution_count": 79,
     "metadata": {},
     "output_type": "execute_result"
    }
   ],
   "source": [
    "L2=['py','th','o','n']\n",
    "\n",
    "'_'.join(L2)"
   ]
  },
  {
   "cell_type": "code",
   "execution_count": 80,
   "id": "0739b78b",
   "metadata": {},
   "outputs": [
    {
     "data": {
      "text/plain": [
       "'name_gender_from_age'"
      ]
     },
     "execution_count": 80,
     "metadata": {},
     "output_type": "execute_result"
    }
   ],
   "source": [
    "L3={'name':\"malongshuai\",'gender':'male','from':'China','age':18}\n",
    "\n",
    "'_'.join(L3)"
   ]
  },
  {
   "cell_type": "code",
   "execution_count": 81,
   "id": "37f8ae77",
   "metadata": {},
   "outputs": [
    {
     "ename": "TypeError",
     "evalue": "sequence item 0: expected str instance, int found",
     "output_type": "error",
     "traceback": [
      "\u001b[1;31m---------------------------------------------------------------------------\u001b[0m",
      "\u001b[1;31mTypeError\u001b[0m                                 Traceback (most recent call last)",
      "\u001b[1;32m<ipython-input-81-1d0b0a7e233d>\u001b[0m in \u001b[0;36m<module>\u001b[1;34m\u001b[0m\n\u001b[0;32m      1\u001b[0m \u001b[0mL1\u001b[0m\u001b[1;33m=\u001b[0m\u001b[1;33m(\u001b[0m\u001b[1;36m1\u001b[0m\u001b[1;33m,\u001b[0m\u001b[1;36m2\u001b[0m\u001b[1;33m,\u001b[0m\u001b[1;36m3\u001b[0m\u001b[1;33m)\u001b[0m\u001b[1;33m\u001b[0m\u001b[1;33m\u001b[0m\u001b[0m\n\u001b[0;32m      2\u001b[0m \u001b[1;33m\u001b[0m\u001b[0m\n\u001b[1;32m----> 3\u001b[1;33m \u001b[1;34m'_'\u001b[0m\u001b[1;33m.\u001b[0m\u001b[0mjoin\u001b[0m\u001b[1;33m(\u001b[0m\u001b[0mL1\u001b[0m\u001b[1;33m)\u001b[0m\u001b[1;33m\u001b[0m\u001b[1;33m\u001b[0m\u001b[0m\n\u001b[0m",
      "\u001b[1;31mTypeError\u001b[0m: sequence item 0: expected str instance, int found"
     ]
    }
   ],
   "source": [
    "L1=(1,2,3)\n",
    "\n",
    "'_'.join(L1)"
   ]
  }
 ],
 "metadata": {
  "kernelspec": {
   "display_name": "Python 3",
   "language": "python",
   "name": "python3"
  },
  "language_info": {
   "codemirror_mode": {
    "name": "ipython",
    "version": 3
   },
   "file_extension": ".py",
   "mimetype": "text/x-python",
   "name": "python",
   "nbconvert_exporter": "python",
   "pygments_lexer": "ipython3",
   "version": "3.8.5"
  },
  "latex_envs": {
   "LaTeX_envs_menu_present": true,
   "autoclose": false,
   "autocomplete": true,
   "bibliofile": "biblio.bib",
   "cite_by": "apalike",
   "current_citInitial": 1,
   "eqLabelWithNumbers": true,
   "eqNumInitial": 1,
   "hotkeys": {
    "equation": "Ctrl-E",
    "itemize": "Ctrl-I"
   },
   "labels_anchors": false,
   "latex_user_defs": false,
   "report_style_numbering": false,
   "user_envs_cfg": false
  },
  "toc": {
   "base_numbering": 1,
   "nav_menu": {},
   "number_sections": false,
   "sideBar": true,
   "skip_h1_title": false,
   "title_cell": "Table of Contents",
   "title_sidebar": "Contents",
   "toc_cell": false,
   "toc_position": {
    "height": "calc(100% - 180px)",
    "left": "10px",
    "top": "150px",
    "width": "243.07px"
   },
   "toc_section_display": true,
   "toc_window_display": true
  }
 },
 "nbformat": 4,
 "nbformat_minor": 5
}
