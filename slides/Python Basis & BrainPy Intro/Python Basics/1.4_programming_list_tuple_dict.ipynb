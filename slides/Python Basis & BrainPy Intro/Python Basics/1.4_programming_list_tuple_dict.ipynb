{
 "cells": [
  {
   "cell_type": "markdown",
   "id": "e0ebcd8f",
   "metadata": {},
   "source": [
    "# `list` (列表)"
   ]
  },
  {
   "cell_type": "markdown",
   "id": "99e8121d",
   "metadata": {},
   "source": [
    "## 创建列表"
   ]
  },
  {
   "cell_type": "markdown",
   "id": "2b0f79c6",
   "metadata": {},
   "source": [
    "列表类型是一个容器，它里面可以存放任意数量、任意类型的数据。\n",
    "\n",
    "例如下面的几个列表中，有存储数值的、字符串的、内嵌列表的。不仅如此，还可以存储其他任意类型。"
   ]
  },
  {
   "cell_type": "markdown",
   "id": "a991e77e",
   "metadata": {},
   "source": [
    "### 中括号`[]`"
   ]
  },
  {
   "cell_type": "code",
   "execution_count": 1,
   "id": "40f0bf2b",
   "metadata": {},
   "outputs": [],
   "source": [
    "L = [1, 2, 3, 4]"
   ]
  },
  {
   "cell_type": "code",
   "execution_count": 2,
   "id": "56f2ff96",
   "metadata": {},
   "outputs": [],
   "source": [
    "L = [\"a\", \"b\", \"c\", \"d\"]"
   ]
  },
  {
   "cell_type": "code",
   "execution_count": 3,
   "id": "5156a558",
   "metadata": {},
   "outputs": [],
   "source": [
    "L = [1, 2, \"c\", \"d\"]"
   ]
  },
  {
   "cell_type": "code",
   "execution_count": 4,
   "id": "ad45ba45",
   "metadata": {},
   "outputs": [],
   "source": [
    "L = [[1, 2, 3], \"a\", \"b\", [4, \"c\"]]"
   ]
  },
  {
   "cell_type": "markdown",
   "id": "26e05cb9",
   "metadata": {},
   "source": [
    "### `list()`"
   ]
  },
  {
   "cell_type": "code",
   "execution_count": 5,
   "id": "69da9cf3",
   "metadata": {},
   "outputs": [
    {
     "data": {
      "text/plain": [
       "['a', 'b', 'c', 'd', 'e']"
      ]
     },
     "execution_count": 5,
     "metadata": {},
     "output_type": "execute_result"
    }
   ],
   "source": [
    "list('abcde')"
   ]
  },
  {
   "cell_type": "code",
   "execution_count": 6,
   "id": "f72b7424",
   "metadata": {},
   "outputs": [
    {
     "data": {
      "text/plain": [
       "[0, 1, 2, 3]"
      ]
     },
     "execution_count": 6,
     "metadata": {},
     "output_type": "execute_result"
    }
   ],
   "source": [
    "list(range(0, 4))"
   ]
  },
  {
   "cell_type": "markdown",
   "id": "5a34b6c8",
   "metadata": {},
   "source": [
    "## 操作列表"
   ]
  },
  {
   "cell_type": "markdown",
   "id": "45127d2f",
   "metadata": {},
   "source": [
    "python中的列表是一个序列，其内元素是按索引顺序进行存储的，可以进行索引取值、切片等操作。"
   ]
  },
  {
   "cell_type": "markdown",
   "id": "883c3a81",
   "metadata": {},
   "source": [
    "### 索引切片"
   ]
  },
  {
   "cell_type": "markdown",
   "id": "c76cba7f",
   "metadata": {},
   "source": [
    "**列表元素不是直接存在列表范围内的，而是以地址的形式保存在列表中。**\n",
    "\n",
    "![](files/list_m1.png)"
   ]
  },
  {
   "cell_type": "markdown",
   "id": "5e4acfc5",
   "metadata": {},
   "source": [
    "分片操作用于从序列中取出子序列，它会创建新的内存块来保存取出来的序列对象。\n",
    "\n",
    "- `S[i:j]`：从索引位i取到索引位j，不包括j\n",
    "- `S[i:]`：从索引位i开始取到最结尾\n",
    "- `S[:j]`：从最开头取到索引位j，不包括j\n",
    "- `S[:]`：从头取到尾，相当于拷贝了序列，但得到的是新序列\n",
    "- `S[i:j:k]`：k表示取元素时的步进间隔，默认为1，表示每个元素都取，如果为2，则表示取一个跳过一个\n",
    "\n",
    "分片的区间是左闭右开的，所以不会包括j的索引位。i和j可以是负数，负数表示从尾部开始计算索引位。例如，-1表示最后一个元素，-2表示倒数第二个元素。"
   ]
  },
  {
   "cell_type": "markdown",
   "id": "f67147c8",
   "metadata": {},
   "source": [
    "列表是序列，序列类型的每个元素都是按索引位置进行存放的，所以可以通过索引的方式取得列表元素："
   ]
  },
  {
   "cell_type": "code",
   "execution_count": 7,
   "id": "0b9521c2",
   "metadata": {},
   "outputs": [],
   "source": [
    "L = [1,2,3,4,5]"
   ]
  },
  {
   "cell_type": "code",
   "execution_count": 8,
   "id": "5043ddc6",
   "metadata": {},
   "outputs": [
    {
     "data": {
      "text/plain": [
       "1"
      ]
     },
     "execution_count": 8,
     "metadata": {},
     "output_type": "execute_result"
    }
   ],
   "source": [
    "L[0]"
   ]
  },
  {
   "cell_type": "code",
   "execution_count": 50,
   "id": "9f37e1cb",
   "metadata": {},
   "outputs": [
    {
     "data": {
      "text/plain": [
       "1"
      ]
     },
     "execution_count": 50,
     "metadata": {},
     "output_type": "execute_result"
    }
   ],
   "source": [
    "L.__getitem__(0)"
   ]
  },
  {
   "cell_type": "code",
   "execution_count": 9,
   "id": "8ea4bf00",
   "metadata": {},
   "outputs": [
    {
     "data": {
      "text/plain": [
       "[2, 3, 4]"
      ]
     },
     "execution_count": 9,
     "metadata": {},
     "output_type": "execute_result"
    }
   ],
   "source": [
    "L[1:4]"
   ]
  },
  {
   "cell_type": "code",
   "execution_count": 51,
   "id": "5b084168",
   "metadata": {},
   "outputs": [
    {
     "data": {
      "text/plain": [
       "[2, 3, 4]"
      ]
     },
     "execution_count": 51,
     "metadata": {},
     "output_type": "execute_result"
    }
   ],
   "source": [
    "L.__getitem__(slice(1, 4))"
   ]
  },
  {
   "cell_type": "markdown",
   "id": "8894541e",
   "metadata": {},
   "source": [
    "### 常见序列操作"
   ]
  },
  {
   "cell_type": "markdown",
   "id": "82f9f7da",
   "metadata": {},
   "source": [
    "**测试元素是否存在**\n",
    "\n",
    "`x in S`和`x not in S`，返回True或False。\n"
   ]
  },
  {
   "cell_type": "code",
   "execution_count": 10,
   "id": "130a2653",
   "metadata": {},
   "outputs": [
    {
     "data": {
      "text/plain": [
       "True"
      ]
     },
     "execution_count": 10,
     "metadata": {},
     "output_type": "execute_result"
    }
   ],
   "source": [
    "'a' in \"abcd\""
   ]
  },
  {
   "cell_type": "code",
   "execution_count": 11,
   "id": "7ae35eae",
   "metadata": {},
   "outputs": [
    {
     "data": {
      "text/plain": [
       "False"
      ]
     },
     "execution_count": 11,
     "metadata": {},
     "output_type": "execute_result"
    }
   ],
   "source": [
    "'aa' in \"abcd\""
   ]
  },
  {
   "cell_type": "markdown",
   "id": "67262c5c",
   "metadata": {},
   "source": [
    "**加法和乘法符号**\n",
    "\n",
    "`S1 + S2`或`S * N`或`N * S`，其中`S1`和`S2`是同一种序列类型，N表示序列的重复次数。"
   ]
  },
  {
   "cell_type": "code",
   "execution_count": 12,
   "id": "ab025e64",
   "metadata": {},
   "outputs": [
    {
     "data": {
      "text/plain": [
       "[1, 2, 3, 4]"
      ]
     },
     "execution_count": 12,
     "metadata": {},
     "output_type": "execute_result"
    }
   ],
   "source": [
    "[1,2] + [3,4]"
   ]
  },
  {
   "cell_type": "code",
   "execution_count": 13,
   "id": "fe668804",
   "metadata": {},
   "outputs": [
    {
     "data": {
      "text/plain": [
       "[1, 2, 1, 2, 1, 2]"
      ]
     },
     "execution_count": 13,
     "metadata": {},
     "output_type": "execute_result"
    }
   ],
   "source": [
    "[1,2] * 3"
   ]
  },
  {
   "cell_type": "code",
   "execution_count": 14,
   "id": "e8488695",
   "metadata": {
    "scrolled": true
   },
   "outputs": [
    {
     "data": {
      "text/plain": [
       "[1, 2, 1, 2, 1, 2]"
      ]
     },
     "execution_count": 14,
     "metadata": {},
     "output_type": "execute_result"
    }
   ],
   "source": [
    "3 * [1, 2]"
   ]
  },
  {
   "cell_type": "markdown",
   "id": "f0b0b009",
   "metadata": {},
   "source": [
    "**len()、max()和min()函数**\n",
    "\n",
    "`len()`返回序列的元素个数，也就是序列的长度。\n",
    "\n",
    "`min()`和`max()`分别返回序列中最小、最大的元素。"
   ]
  },
  {
   "cell_type": "code",
   "execution_count": 55,
   "id": "49d46335",
   "metadata": {},
   "outputs": [
    {
     "data": {
      "text/plain": [
       "5"
      ]
     },
     "execution_count": 55,
     "metadata": {},
     "output_type": "execute_result"
    }
   ],
   "source": [
    "len(L)"
   ]
  },
  {
   "cell_type": "code",
   "execution_count": 52,
   "id": "bc465d79",
   "metadata": {},
   "outputs": [
    {
     "data": {
      "text/plain": [
       "5"
      ]
     },
     "execution_count": 52,
     "metadata": {},
     "output_type": "execute_result"
    }
   ],
   "source": [
    "L.__len__()"
   ]
  },
  {
   "cell_type": "code",
   "execution_count": 54,
   "id": "dc5b0213",
   "metadata": {},
   "outputs": [
    {
     "data": {
      "text/plain": [
       "(1, 5)"
      ]
     },
     "execution_count": 54,
     "metadata": {},
     "output_type": "execute_result"
    }
   ],
   "source": [
    "min(L), max(L)"
   ]
  },
  {
   "cell_type": "markdown",
   "id": "68a792c6",
   "metadata": {},
   "source": [
    "### 可变序列操作"
   ]
  },
  {
   "cell_type": "markdown",
   "id": "3cd5312f",
   "metadata": {},
   "source": [
    "**替换元素**"
   ]
  },
  {
   "cell_type": "code",
   "execution_count": 16,
   "id": "b7cae504",
   "metadata": {},
   "outputs": [
    {
     "data": {
      "text/plain": [
       "[0, 1, 2, 3, 4, 5, 6, 7, 8, 9]"
      ]
     },
     "execution_count": 16,
     "metadata": {},
     "output_type": "execute_result"
    }
   ],
   "source": [
    "s = list(range(10))\n",
    "\n",
    "s"
   ]
  },
  {
   "cell_type": "markdown",
   "id": "f8b1b3d3",
   "metadata": {},
   "source": [
    "- `s[i] = x`、`s[i:j] = t`将序列中的元素替换成x或可迭代对象t"
   ]
  },
  {
   "cell_type": "code",
   "execution_count": 17,
   "id": "b619a67a",
   "metadata": {},
   "outputs": [
    {
     "data": {
      "text/plain": [
       "[-1, 1, 2, 3, 4, 5, 6, 7, 8, 9]"
      ]
     },
     "execution_count": 17,
     "metadata": {},
     "output_type": "execute_result"
    }
   ],
   "source": [
    "s[0] = -1\n",
    "\n",
    "s"
   ]
  },
  {
   "cell_type": "code",
   "execution_count": 56,
   "id": "c8c6f125",
   "metadata": {},
   "outputs": [
    {
     "data": {
      "text/plain": [
       "[-2, -100, 0, 0, 0, 0, 0, 0, 0, 0, 2, 2, 3, 3, 4, 4, 5, 5, 6, 6, 7, 7, 8, 8]"
      ]
     },
     "execution_count": 56,
     "metadata": {},
     "output_type": "execute_result"
    }
   ],
   "source": [
    "s.__setitem__(0, -2)\n",
    "\n",
    "s"
   ]
  },
  {
   "cell_type": "code",
   "execution_count": 18,
   "id": "adb2cda3",
   "metadata": {},
   "outputs": [
    {
     "data": {
      "text/plain": [
       "[-3, -2, -1, 3, 4, 5, 6, 7, 8, 9]"
      ]
     },
     "execution_count": 18,
     "metadata": {},
     "output_type": "execute_result"
    }
   ],
   "source": [
    "s[0: 3] = [-3, -2, -1]\n",
    "\n",
    "s"
   ]
  },
  {
   "cell_type": "markdown",
   "id": "eeb4d5f8",
   "metadata": {},
   "source": [
    "- `s[i:j:K] = t`将序列中的元素替换成可迭代对象t，t的长度必须和`s[i:j:k]`的长度一样"
   ]
  },
  {
   "cell_type": "code",
   "execution_count": 19,
   "id": "90d11971",
   "metadata": {},
   "outputs": [
    {
     "data": {
      "text/plain": [
       "[-3, 0, -1, 0, 4, 5, 6, 7, 8, 9]"
      ]
     },
     "execution_count": 19,
     "metadata": {},
     "output_type": "execute_result"
    }
   ],
   "source": [
    "s[1: 5: 2] = [0, 0]\n",
    "\n",
    "s"
   ]
  },
  {
   "cell_type": "markdown",
   "id": "900d6226",
   "metadata": {},
   "source": [
    "**删除元素**"
   ]
  },
  {
   "cell_type": "markdown",
   "id": "73b1becf",
   "metadata": {},
   "source": [
    "- `del s[i]、del s[i:j]`删除序列中的元素，等价于`s[i:i+1] = []`、`s[i:j] = []`"
   ]
  },
  {
   "cell_type": "code",
   "execution_count": 20,
   "id": "33b44f01",
   "metadata": {},
   "outputs": [
    {
     "data": {
      "text/plain": [
       "[0, -1, 0, 4, 5, 6, 7, 8, 9]"
      ]
     },
     "execution_count": 20,
     "metadata": {},
     "output_type": "execute_result"
    }
   ],
   "source": [
    "s[0: 1] = []\n",
    "\n",
    "s"
   ]
  },
  {
   "cell_type": "markdown",
   "id": "8621cefa",
   "metadata": {},
   "source": [
    "- `del s[i:j:k]`删除序列中的某些元素，k为步进值"
   ]
  },
  {
   "cell_type": "markdown",
   "id": "0917cb9d",
   "metadata": {},
   "source": [
    "- `s.remove(x)`：移除第一次出现的元素x"
   ]
  },
  {
   "cell_type": "code",
   "execution_count": 21,
   "id": "35e1a24a",
   "metadata": {},
   "outputs": [
    {
     "data": {
      "text/plain": [
       "[-1, 0, 4, 5, 6, 7, 8, 9]"
      ]
     },
     "execution_count": 21,
     "metadata": {},
     "output_type": "execute_result"
    }
   ],
   "source": [
    "s.remove(0)\n",
    "\n",
    "s"
   ]
  },
  {
   "cell_type": "markdown",
   "id": "9cd3bb6e",
   "metadata": {},
   "source": [
    "- `s.clear()`表示清空序列中的所有元素，等价于`del s[:]`"
   ]
  },
  {
   "cell_type": "code",
   "execution_count": 22,
   "id": "3e7cb5cf",
   "metadata": {},
   "outputs": [
    {
     "data": {
      "text/plain": [
       "[]"
      ]
     },
     "execution_count": 22,
     "metadata": {},
     "output_type": "execute_result"
    }
   ],
   "source": [
    "s.clear()\n",
    "\n",
    "s"
   ]
  },
  {
   "cell_type": "markdown",
   "id": "17307545",
   "metadata": {},
   "source": [
    "- `s.pop([i])`表示移除序列s中的第i个元素并返回这个元素，中括号表示可选，如果没有参数，默认移除最后一个元素"
   ]
  },
  {
   "cell_type": "code",
   "execution_count": 23,
   "id": "73ff406a",
   "metadata": {},
   "outputs": [
    {
     "data": {
      "text/plain": [
       "9"
      ]
     },
     "execution_count": 23,
     "metadata": {},
     "output_type": "execute_result"
    }
   ],
   "source": [
    "s = list(range(10))\n",
    "\n",
    "s.pop()"
   ]
  },
  {
   "cell_type": "code",
   "execution_count": 24,
   "id": "494560e7",
   "metadata": {},
   "outputs": [
    {
     "data": {
      "text/plain": [
       "1"
      ]
     },
     "execution_count": 24,
     "metadata": {},
     "output_type": "execute_result"
    }
   ],
   "source": [
    "s.pop(1)"
   ]
  },
  {
   "cell_type": "code",
   "execution_count": 25,
   "id": "10110138",
   "metadata": {},
   "outputs": [
    {
     "data": {
      "text/plain": [
       "8"
      ]
     },
     "execution_count": 25,
     "metadata": {},
     "output_type": "execute_result"
    }
   ],
   "source": [
    "s.pop(-1)"
   ]
  },
  {
   "cell_type": "markdown",
   "id": "3bc83fcd",
   "metadata": {},
   "source": [
    "**添加元素**"
   ]
  },
  {
   "cell_type": "markdown",
   "id": "d07a052b",
   "metadata": {},
   "source": [
    "- `s.append(x)`向序列的尾部追加元素x，等价于`s[len(s):len(s)] = [x]`"
   ]
  },
  {
   "cell_type": "code",
   "execution_count": 26,
   "id": "52a74bd7",
   "metadata": {},
   "outputs": [
    {
     "name": "stdout",
     "output_type": "stream",
     "text": [
      "[0, 2, 3, 4, 5, 6, 7]\n",
      "[0, 2, 3, 4, 5, 6, 7, 8]\n"
     ]
    }
   ],
   "source": [
    "print(s)\n",
    "\n",
    "s.append(8)\n",
    "\n",
    "print(s)"
   ]
  },
  {
   "cell_type": "markdown",
   "id": "97ed49a6",
   "metadata": {},
   "source": [
    "- `s.extend(t)`或`s += t`表示将t扩展到序列s的尾部，等价于`s[len(s):len(s)] = t`"
   ]
  },
  {
   "cell_type": "code",
   "execution_count": 27,
   "id": "b82232c7",
   "metadata": {},
   "outputs": [
    {
     "name": "stdout",
     "output_type": "stream",
     "text": [
      "[0, 2, 3, 4, 5, 6, 7, 8, 0, 0, 0]\n",
      "[0, 2, 3, 4, 5, 6, 7, 8, 0, 0, 0]\n"
     ]
    }
   ],
   "source": [
    "s1 = s[:]\n",
    "s1.extend([0, 0, 0])\n",
    "print(s1)\n",
    "\n",
    "s[len(s): len(s)] = [0, 0, 0]\n",
    "print(s)"
   ]
  },
  {
   "cell_type": "markdown",
   "id": "4f12f119",
   "metadata": {},
   "source": [
    "- `s.insert(i,x)`表示将x插入到序列中的i索引位置处，等价于`s[i:i] = [x]`"
   ]
  },
  {
   "cell_type": "code",
   "execution_count": 28,
   "id": "a4a345f9",
   "metadata": {},
   "outputs": [
    {
     "data": {
      "text/plain": [
       "[-100, 0, 2, 3, 4, 5, 6, 7, 8, 0, 0, 0]"
      ]
     },
     "execution_count": 28,
     "metadata": {},
     "output_type": "execute_result"
    }
   ],
   "source": [
    "s.insert(0, -100)\n",
    "\n",
    "s"
   ]
  },
  {
   "cell_type": "markdown",
   "id": "48735633",
   "metadata": {},
   "source": [
    "- `s *= n`表示将序列n的元素重复n次追加到s的尾部"
   ]
  },
  {
   "cell_type": "code",
   "execution_count": 29,
   "id": "67a7ed97",
   "metadata": {},
   "outputs": [
    {
     "data": {
      "text/plain": [
       "[-100, 0, 2, 3, 4, 5, 6, 7, 8, 0, 0, 0, -100, 0, 2, 3, 4, 5, 6, 7, 8, 0, 0, 0]"
      ]
     },
     "execution_count": 29,
     "metadata": {},
     "output_type": "execute_result"
    }
   ],
   "source": [
    "s *= 2\n",
    "\n",
    "s"
   ]
  },
  {
   "cell_type": "markdown",
   "id": "a04a4a90",
   "metadata": {},
   "source": [
    "**其它**"
   ]
  },
  {
   "cell_type": "markdown",
   "id": "ce83efaf",
   "metadata": {},
   "source": [
    "- `s.copy()`表示拷贝序列得到一个新的序列副本，等价于`s[:]`"
   ]
  },
  {
   "cell_type": "code",
   "execution_count": 30,
   "id": "6db6ea80",
   "metadata": {},
   "outputs": [
    {
     "data": {
      "text/plain": [
       "[-100, 0, 2, 3, 4, 5, 6, 7, 8, 0, 0, 0, -100, 0, 2, 3, 4, 5, 6, 7, 8, 0, 0, 0]"
      ]
     },
     "execution_count": 30,
     "metadata": {},
     "output_type": "execute_result"
    }
   ],
   "source": [
    "s.copy()"
   ]
  },
  {
   "cell_type": "markdown",
   "id": "cd1ee255",
   "metadata": {},
   "source": [
    "- `s.reverse()`原地反转序列s，为了节约内存空间，所以是原地反转，不会返回反转后的序列"
   ]
  },
  {
   "cell_type": "code",
   "execution_count": 31,
   "id": "dbafa0bb",
   "metadata": {},
   "outputs": [
    {
     "data": {
      "text/plain": [
       "[0, 0, 0, 8, 7, 6, 5, 4, 3, 2, 0, -100, 0, 0, 0, 8, 7, 6, 5, 4, 3, 2, 0, -100]"
      ]
     },
     "execution_count": 31,
     "metadata": {},
     "output_type": "execute_result"
    }
   ],
   "source": [
    "s.reverse()\n",
    "\n",
    "s"
   ]
  },
  {
   "cell_type": "markdown",
   "id": "cd68d5a6",
   "metadata": {},
   "source": [
    "### 列表排序"
   ]
  },
  {
   "cell_type": "code",
   "execution_count": 36,
   "id": "3bc16397",
   "metadata": {},
   "outputs": [
    {
     "name": "stdout",
     "output_type": "stream",
     "text": [
      "Help on method_descriptor:\n",
      "\n",
      "sort(self, /, *, key=None, reverse=False)\n",
      "    Sort the list in ascending order and return None.\n",
      "    \n",
      "    The sort is in-place (i.e. the list itself is modified) and stable (i.e. the\n",
      "    order of two equal elements is maintained).\n",
      "    \n",
      "    If a key function is given, apply it once to each list item and sort them,\n",
      "    ascending or descending, according to their function values.\n",
      "    \n",
      "    The reverse flag can be set to sort in descending order.\n",
      "\n"
     ]
    }
   ],
   "source": [
    "help(list.sort)"
   ]
  },
  {
   "cell_type": "code",
   "execution_count": 35,
   "id": "3ff3e2c8",
   "metadata": {},
   "outputs": [
    {
     "data": {
      "text/plain": [
       "[-100, -100, 0, 0, 0, 0, 0, 0, 0, 0, 2, 2, 3, 3, 4, 4, 5, 5, 6, 6, 7, 7, 8, 8]"
      ]
     },
     "execution_count": 35,
     "metadata": {},
     "output_type": "execute_result"
    }
   ],
   "source": [
    "s.copy().sort()\n",
    "\n",
    "s"
   ]
  },
  {
   "cell_type": "code",
   "execution_count": 37,
   "id": "a1e41b60",
   "metadata": {},
   "outputs": [
    {
     "name": "stdout",
     "output_type": "stream",
     "text": [
      "Help on built-in function sorted in module builtins:\n",
      "\n",
      "sorted(iterable, /, *, key=None, reverse=False)\n",
      "    Return a new list containing all items from the iterable in ascending order.\n",
      "    \n",
      "    A custom key function can be supplied to customize the sort order, and the\n",
      "    reverse flag can be set to request the result in descending order.\n",
      "\n"
     ]
    }
   ],
   "source": [
    "help(sorted)"
   ]
  },
  {
   "cell_type": "code",
   "execution_count": 38,
   "id": "6c56e495",
   "metadata": {},
   "outputs": [
    {
     "data": {
      "text/plain": [
       "[-100, -100, 0, 0, 0, 0, 0, 0, 0, 0, 2, 2, 3, 3, 4, 4, 5, 5, 6, 6, 7, 7, 8, 8]"
      ]
     },
     "execution_count": 38,
     "metadata": {},
     "output_type": "execute_result"
    }
   ],
   "source": [
    "sorted(s)"
   ]
  },
  {
   "cell_type": "markdown",
   "id": "60b9cc87",
   "metadata": {},
   "source": [
    "# `tuple` (元组)"
   ]
  },
  {
   "cell_type": "markdown",
   "id": "71ea79f6",
   "metadata": {},
   "source": [
    "元组和列表一样，都是容器型的数据结构，且都是序列，所以容器中的元素都是按照索引位置有序存放的。\n",
    "\n",
    "不同的是，元组是不可变序列，无法原处修改，意味着修改元组必须创建新的元组对象。"
   ]
  },
  {
   "cell_type": "markdown",
   "id": "c403255b",
   "metadata": {},
   "source": [
    "![](files/tuple_m1.png)"
   ]
  },
  {
   "cell_type": "markdown",
   "id": "7f3c623e",
   "metadata": {},
   "source": [
    "## 创建元组"
   ]
  },
  {
   "cell_type": "markdown",
   "id": "e97e334a",
   "metadata": {},
   "source": [
    "### 小括号 `()`"
   ]
  },
  {
   "cell_type": "code",
   "execution_count": 39,
   "id": "f60b8ffa",
   "metadata": {},
   "outputs": [],
   "source": [
    "T = (1111,2222,3333,4444)"
   ]
  },
  {
   "cell_type": "markdown",
   "id": "f51ed9af",
   "metadata": {},
   "source": [
    "### `tuple()`"
   ]
  },
  {
   "cell_type": "code",
   "execution_count": 40,
   "id": "f48659dc",
   "metadata": {},
   "outputs": [],
   "source": [
    "T = tuple([1111, 2222, 3333, 4444])"
   ]
  },
  {
   "cell_type": "markdown",
   "id": "80fca0e1",
   "metadata": {},
   "source": [
    "### 其它"
   ]
  },
  {
   "cell_type": "markdown",
   "id": "b2592251",
   "metadata": {},
   "source": [
    "需要注意的是，python中很多地方隐式地自动构造元组。它的隐式构造规则是这样的：如果没有指定括号，又有多个值，那么就使用元组作为容器。"
   ]
  },
  {
   "cell_type": "code",
   "execution_count": 41,
   "id": "a20c72ed",
   "metadata": {},
   "outputs": [
    {
     "data": {
      "text/plain": [
       "1"
      ]
     },
     "execution_count": 41,
     "metadata": {},
     "output_type": "execute_result"
    }
   ],
   "source": [
    "1"
   ]
  },
  {
   "cell_type": "code",
   "execution_count": 42,
   "id": "325c1bd0",
   "metadata": {},
   "outputs": [
    {
     "data": {
      "text/plain": [
       "(1, 2)"
      ]
     },
     "execution_count": 42,
     "metadata": {},
     "output_type": "execute_result"
    }
   ],
   "source": [
    "1,2"
   ]
  },
  {
   "cell_type": "code",
   "execution_count": 43,
   "id": "3a585daf",
   "metadata": {},
   "outputs": [
    {
     "data": {
      "text/plain": [
       "(1,)"
      ]
     },
     "execution_count": 43,
     "metadata": {},
     "output_type": "execute_result"
    }
   ],
   "source": [
    "1,"
   ]
  },
  {
   "cell_type": "markdown",
   "id": "bcc510d2",
   "metadata": {},
   "source": [
    "## 操作元组"
   ]
  },
  {
   "cell_type": "markdown",
   "id": "7707033c",
   "metadata": {},
   "source": [
    "元组是不可变对象，所以修改元组数据会报错。也就是说，元组中的保存的引用地址是不可变的。"
   ]
  },
  {
   "cell_type": "code",
   "execution_count": 44,
   "id": "5822c991",
   "metadata": {},
   "outputs": [
    {
     "ename": "TypeError",
     "evalue": "'tuple' object does not support item assignment",
     "output_type": "error",
     "traceback": [
      "\u001b[1;31m---------------------------------------------------------------------------\u001b[0m",
      "\u001b[1;31mTypeError\u001b[0m                                 Traceback (most recent call last)",
      "\u001b[1;32m<ipython-input-44-0a109a9fc4fd>\u001b[0m in \u001b[0;36m<module>\u001b[1;34m\u001b[0m\n\u001b[1;32m----> 1\u001b[1;33m \u001b[0mT\u001b[0m\u001b[1;33m[\u001b[0m\u001b[1;36m0\u001b[0m\u001b[1;33m]\u001b[0m \u001b[1;33m=\u001b[0m \u001b[1;33m-\u001b[0m\u001b[1;36m111\u001b[0m\u001b[1;33m\u001b[0m\u001b[1;33m\u001b[0m\u001b[0m\n\u001b[0m",
      "\u001b[1;31mTypeError\u001b[0m: 'tuple' object does not support item assignment"
     ]
    }
   ],
   "source": [
    "T[0] = -111"
   ]
  },
  {
   "cell_type": "markdown",
   "id": "4eb21a41",
   "metadata": {},
   "source": [
    "序列的通用操作元组都可以使用，不可变序列意味着那些序列的修改行为都不能用"
   ]
  },
  {
   "cell_type": "markdown",
   "id": "b528e741",
   "metadata": {},
   "source": [
    "**索引、切片**"
   ]
  },
  {
   "cell_type": "code",
   "execution_count": 48,
   "id": "b5e44b51",
   "metadata": {},
   "outputs": [
    {
     "data": {
      "text/plain": [
       "1111"
      ]
     },
     "execution_count": 48,
     "metadata": {},
     "output_type": "execute_result"
    }
   ],
   "source": [
    "T[0]"
   ]
  },
  {
   "cell_type": "code",
   "execution_count": 49,
   "id": "efaf1c3a",
   "metadata": {},
   "outputs": [
    {
     "data": {
      "text/plain": [
       "(2222, 3333, 4444)"
      ]
     },
     "execution_count": 49,
     "metadata": {},
     "output_type": "execute_result"
    }
   ],
   "source": [
    "T[1:]"
   ]
  },
  {
   "cell_type": "markdown",
   "id": "73d1f8a0",
   "metadata": {},
   "source": [
    "**支持`+, *`符号操作**"
   ]
  },
  {
   "cell_type": "code",
   "execution_count": 45,
   "id": "c69ee8fc",
   "metadata": {},
   "outputs": [],
   "source": [
    "T1 = ('a','b','c')"
   ]
  },
  {
   "cell_type": "code",
   "execution_count": 46,
   "id": "bd8d1967",
   "metadata": {},
   "outputs": [
    {
     "data": {
      "text/plain": [
       "(1111, 2222, 3333, 4444, 'a', 'b', 'c')"
      ]
     },
     "execution_count": 46,
     "metadata": {},
     "output_type": "execute_result"
    }
   ],
   "source": [
    "T + T1"
   ]
  },
  {
   "cell_type": "markdown",
   "id": "4803afdf",
   "metadata": {},
   "source": [
    "**二元赋值`+=`**"
   ]
  },
  {
   "cell_type": "code",
   "execution_count": 47,
   "id": "7ccaea34",
   "metadata": {},
   "outputs": [
    {
     "data": {
      "text/plain": [
       "(1, 2, 3, 4, 5, 6)"
      ]
     },
     "execution_count": 47,
     "metadata": {},
     "output_type": "execute_result"
    }
   ],
   "source": [
    "T1 = (1,2,3)\n",
    "T2 = (4,5,6)\n",
    "\n",
    "T1 += T2\n",
    "T1 "
   ]
  },
  {
   "cell_type": "markdown",
   "id": "36b89b3e",
   "metadata": {},
   "source": [
    "# `dict` (字典)"
   ]
  },
  {
   "cell_type": "markdown",
   "id": "a03ea70e",
   "metadata": {},
   "source": [
    "字典(dict)是存储key/value数据的容器，也就是所谓的map、hash、关联数组。无论是什么称呼，都是键值对存储的方式。"
   ]
  },
  {
   "cell_type": "markdown",
   "id": "319d49a8",
   "metadata": {},
   "source": [
    "## 创建字典"
   ]
  },
  {
   "cell_type": "markdown",
   "id": "db7f1be7",
   "metadata": {},
   "source": [
    "### 大括号`{}`"
   ]
  },
  {
   "cell_type": "code",
   "execution_count": 58,
   "id": "47a8d54e",
   "metadata": {},
   "outputs": [
    {
     "data": {
      "text/plain": [
       "{'key1': 'value1', 'key2': 'value2', 'key3': 'value3'}"
      ]
     },
     "execution_count": 58,
     "metadata": {},
     "output_type": "execute_result"
    }
   ],
   "source": [
    "D = {\"key1\": \"value1\",\n",
    "     \"key2\": \"value2\",\n",
    "     \"key3\": \"value3\"}\n",
    "\n",
    "D"
   ]
  },
  {
   "cell_type": "code",
   "execution_count": 60,
   "id": "cd95798a",
   "metadata": {},
   "outputs": [
    {
     "data": {
      "text/plain": [
       "{'key1': 'value1', 'key2': 'value2', 'key3': 'value3', 'key4': 'value4'}"
      ]
     },
     "execution_count": 60,
     "metadata": {},
     "output_type": "execute_result"
    }
   ],
   "source": [
    "D['key4'] = 'value4'\n",
    "\n",
    "D"
   ]
  },
  {
   "cell_type": "markdown",
   "id": "4540379e",
   "metadata": {},
   "source": [
    "### `dict()`"
   ]
  },
  {
   "cell_type": "code",
   "execution_count": 61,
   "id": "d5fc9861",
   "metadata": {},
   "outputs": [
    {
     "data": {
      "text/plain": [
       "{'one': 1, 'two': 2, 'three': 3}"
      ]
     },
     "execution_count": 61,
     "metadata": {},
     "output_type": "execute_result"
    }
   ],
   "source": [
    "a = dict(one=1, two=2, three=3)\n",
    "\n",
    "a"
   ]
  },
  {
   "cell_type": "code",
   "execution_count": 62,
   "id": "e997725e",
   "metadata": {},
   "outputs": [
    {
     "data": {
      "text/plain": [
       "{'two': 2, 'one': 1, 'three': 3}"
      ]
     },
     "execution_count": 62,
     "metadata": {},
     "output_type": "execute_result"
    }
   ],
   "source": [
    "dict([('two', 2), ('one', 1), ('three', 3)])"
   ]
  },
  {
   "cell_type": "code",
   "execution_count": 63,
   "id": "b20b845c",
   "metadata": {},
   "outputs": [
    {
     "data": {
      "text/plain": [
       "{'three': 3, 'one': 1, 'two': 2}"
      ]
     },
     "execution_count": 63,
     "metadata": {},
     "output_type": "execute_result"
    }
   ],
   "source": [
    "dict({'three': 3, 'one': 1, 'two': 2})"
   ]
  },
  {
   "cell_type": "code",
   "execution_count": 64,
   "id": "9fceee58",
   "metadata": {},
   "outputs": [
    {
     "data": {
      "text/plain": [
       "{'two': 2, 'one': 1, 'three': 3, 'four': 4, 'five': 5}"
      ]
     },
     "execution_count": 64,
     "metadata": {},
     "output_type": "execute_result"
    }
   ],
   "source": [
    "dict([('two', 2), ('one', 1), ('three', 3)], four=4, five=5)"
   ]
  },
  {
   "cell_type": "markdown",
   "id": "333a0b62",
   "metadata": {},
   "source": [
    "### `dict.copy()`"
   ]
  },
  {
   "cell_type": "code",
   "execution_count": 65,
   "id": "6af669b1",
   "metadata": {},
   "outputs": [
    {
     "data": {
      "text/plain": [
       "{'one': 1, 'two': 2, 'three': 3, 'four': 4}"
      ]
     },
     "execution_count": 65,
     "metadata": {},
     "output_type": "execute_result"
    }
   ],
   "source": [
    "d = {'one': 1, 'two': 2, 'three': 3, 'four': 4}\n",
    "\n",
    "d.copy()"
   ]
  },
  {
   "cell_type": "markdown",
   "id": "0db03175",
   "metadata": {},
   "source": [
    "## 操作字典"
   ]
  },
  {
   "cell_type": "markdown",
   "id": "7eec2d16",
   "metadata": {},
   "source": [
    "### 检索"
   ]
  },
  {
   "cell_type": "code",
   "execution_count": 66,
   "id": "a543479c",
   "metadata": {},
   "outputs": [
    {
     "data": {
      "text/plain": [
       "1"
      ]
     },
     "execution_count": 66,
     "metadata": {},
     "output_type": "execute_result"
    }
   ],
   "source": [
    "d[\"one\"]"
   ]
  },
  {
   "cell_type": "code",
   "execution_count": 68,
   "id": "3ca8e6d2",
   "metadata": {},
   "outputs": [
    {
     "data": {
      "text/plain": [
       "{'one': 1, 'two': 2, 'three': 3, 'four': -4}"
      ]
     },
     "execution_count": 68,
     "metadata": {},
     "output_type": "execute_result"
    }
   ],
   "source": [
    "d[\"four\"] = -4\n",
    "\n",
    "d"
   ]
  },
  {
   "cell_type": "code",
   "execution_count": 69,
   "id": "16c40fed",
   "metadata": {},
   "outputs": [
    {
     "ename": "KeyError",
     "evalue": "'ten'",
     "output_type": "error",
     "traceback": [
      "\u001b[1;31m---------------------------------------------------------------------------\u001b[0m",
      "\u001b[1;31mKeyError\u001b[0m                                  Traceback (most recent call last)",
      "\u001b[1;32m<ipython-input-69-4dd04bf3ecda>\u001b[0m in \u001b[0;36m<module>\u001b[1;34m\u001b[0m\n\u001b[1;32m----> 1\u001b[1;33m \u001b[0md\u001b[0m\u001b[1;33m[\u001b[0m\u001b[1;34m\"ten\"\u001b[0m\u001b[1;33m]\u001b[0m\u001b[1;33m\u001b[0m\u001b[1;33m\u001b[0m\u001b[0m\n\u001b[0m",
      "\u001b[1;31mKeyError\u001b[0m: 'ten'"
     ]
    }
   ],
   "source": [
    "d[\"ten\"]"
   ]
  },
  {
   "cell_type": "markdown",
   "id": "0c41a96d",
   "metadata": {},
   "source": [
    "对于dict类型，检索不存在的key时会报错。但如果自己去定义dict的子类，那么可以自己重写`__missing__()`方法来决定检索的key不存在时的行为。例如，对于不存在的键总是返回None。"
   ]
  },
  {
   "cell_type": "code",
   "execution_count": 70,
   "id": "b8cfc335",
   "metadata": {},
   "outputs": [],
   "source": [
    "class mydict(dict):\n",
    "    def __missing__(self, key):\n",
    "        return None"
   ]
  },
  {
   "cell_type": "code",
   "execution_count": 72,
   "id": "a4d8f2a2",
   "metadata": {},
   "outputs": [
    {
     "data": {
      "text/plain": [
       "{'one': 1, 'two': 2, 'three': 3, 'four': -4}"
      ]
     },
     "execution_count": 72,
     "metadata": {},
     "output_type": "execute_result"
    }
   ],
   "source": [
    "dd = mydict(d)\n",
    "\n",
    "dd"
   ]
  },
  {
   "cell_type": "code",
   "execution_count": 74,
   "id": "ef4e66c8",
   "metadata": {},
   "outputs": [
    {
     "name": "stdout",
     "output_type": "stream",
     "text": [
      "None\n"
     ]
    }
   ],
   "source": [
    "print(dd[\"ten\"])"
   ]
  },
  {
   "cell_type": "markdown",
   "id": "248c4a8e",
   "metadata": {},
   "source": [
    "`get(key,default)`方法检索dict中的元素，如果元素存在，则返回对应的value，否则返回指定的default值，如果没有指定default，且检索的key又不存在，则返回None。这正好是上面自定义dict子类的功能。"
   ]
  },
  {
   "cell_type": "code",
   "execution_count": 75,
   "id": "3026739c",
   "metadata": {},
   "outputs": [
    {
     "data": {
      "text/plain": [
       "2"
      ]
     },
     "execution_count": 75,
     "metadata": {},
     "output_type": "execute_result"
    }
   ],
   "source": [
    "d.get(\"two\")"
   ]
  },
  {
   "cell_type": "code",
   "execution_count": 76,
   "id": "a2b021c4",
   "metadata": {},
   "outputs": [
    {
     "data": {
      "text/plain": [
       "'not exists'"
      ]
     },
     "execution_count": 76,
     "metadata": {},
     "output_type": "execute_result"
    }
   ],
   "source": [
    "d.get(\"six\",\"not exists\")"
   ]
  },
  {
   "cell_type": "markdown",
   "id": "f630aa8d",
   "metadata": {},
   "source": [
    "`len()`函数可以用来查看字典有多少个元素："
   ]
  },
  {
   "cell_type": "code",
   "execution_count": 77,
   "id": "a9d767f7",
   "metadata": {},
   "outputs": [
    {
     "data": {
      "text/plain": [
       "4"
      ]
     },
     "execution_count": 77,
     "metadata": {},
     "output_type": "execute_result"
    }
   ],
   "source": [
    "len(d)"
   ]
  },
  {
   "cell_type": "markdown",
   "id": "5aabf892",
   "metadata": {},
   "source": [
    "### 删除"
   ]
  },
  {
   "cell_type": "markdown",
   "id": "0c25e6b6",
   "metadata": {},
   "source": [
    "`del D[KEY]`可以用来根据key删除字典D中给定的元素，如果元素不存在则报错。"
   ]
  },
  {
   "cell_type": "code",
   "execution_count": 78,
   "id": "dc3a8819",
   "metadata": {},
   "outputs": [
    {
     "data": {
      "text/plain": [
       "{'one': 1, 'two': 2, 'three': 3, 'four': -4}"
      ]
     },
     "execution_count": 78,
     "metadata": {},
     "output_type": "execute_result"
    }
   ],
   "source": [
    "d"
   ]
  },
  {
   "cell_type": "code",
   "execution_count": 79,
   "id": "393b3d63",
   "metadata": {},
   "outputs": [
    {
     "data": {
      "text/plain": [
       "{'one': 1, 'two': 2, 'three': 3}"
      ]
     },
     "execution_count": 79,
     "metadata": {},
     "output_type": "execute_result"
    }
   ],
   "source": [
    "del d[\"four\"]\n",
    "\n",
    "d"
   ]
  },
  {
   "cell_type": "code",
   "execution_count": 80,
   "id": "ba692d57",
   "metadata": {},
   "outputs": [
    {
     "ename": "KeyError",
     "evalue": "'five'",
     "output_type": "error",
     "traceback": [
      "\u001b[1;31m---------------------------------------------------------------------------\u001b[0m",
      "\u001b[1;31mKeyError\u001b[0m                                  Traceback (most recent call last)",
      "\u001b[1;32m<ipython-input-80-db2b2783c9bc>\u001b[0m in \u001b[0;36m<module>\u001b[1;34m\u001b[0m\n\u001b[1;32m----> 1\u001b[1;33m \u001b[1;32mdel\u001b[0m \u001b[0md\u001b[0m\u001b[1;33m[\u001b[0m\u001b[1;34m\"five\"\u001b[0m\u001b[1;33m]\u001b[0m\u001b[1;33m\u001b[0m\u001b[1;33m\u001b[0m\u001b[0m\n\u001b[0m",
      "\u001b[1;31mKeyError\u001b[0m: 'five'"
     ]
    }
   ],
   "source": [
    "del d[\"five\"]"
   ]
  },
  {
   "cell_type": "markdown",
   "id": "7aad1cf6",
   "metadata": {},
   "source": [
    "`pop(key,default)`用来移除给定的元素并返回移除的元素。但如果元素不存在，则返回default，如果不存在且没有给定default，则报错。"
   ]
  },
  {
   "cell_type": "code",
   "execution_count": 81,
   "id": "38505aeb",
   "metadata": {},
   "outputs": [
    {
     "data": {
      "text/plain": [
       "1"
      ]
     },
     "execution_count": 81,
     "metadata": {},
     "output_type": "execute_result"
    }
   ],
   "source": [
    "d.pop(\"one\")"
   ]
  },
  {
   "cell_type": "code",
   "execution_count": 83,
   "id": "4a1f99c4",
   "metadata": {},
   "outputs": [
    {
     "ename": "KeyError",
     "evalue": "'five'",
     "output_type": "error",
     "traceback": [
      "\u001b[1;31m---------------------------------------------------------------------------\u001b[0m",
      "\u001b[1;31mKeyError\u001b[0m                                  Traceback (most recent call last)",
      "\u001b[1;32m<ipython-input-83-88266fe5c25b>\u001b[0m in \u001b[0;36m<module>\u001b[1;34m\u001b[0m\n\u001b[1;32m----> 1\u001b[1;33m \u001b[0md\u001b[0m\u001b[1;33m.\u001b[0m\u001b[0mpop\u001b[0m\u001b[1;33m(\u001b[0m\u001b[1;34m\"five\"\u001b[0m\u001b[1;33m)\u001b[0m\u001b[1;33m\u001b[0m\u001b[1;33m\u001b[0m\u001b[0m\n\u001b[0m",
      "\u001b[1;31mKeyError\u001b[0m: 'five'"
     ]
    }
   ],
   "source": [
    "d.pop(\"five\")"
   ]
  },
  {
   "cell_type": "code",
   "execution_count": 82,
   "id": "5ad1b47b",
   "metadata": {},
   "outputs": [
    {
     "data": {
      "text/plain": [
       "'hello world'"
      ]
     },
     "execution_count": 82,
     "metadata": {},
     "output_type": "execute_result"
    }
   ],
   "source": [
    "d.pop(\"five\",\"hello world\")"
   ]
  },
  {
   "cell_type": "markdown",
   "id": "badf3630",
   "metadata": {},
   "source": [
    "`clear()`方法用来删除字典中所有元素。"
   ]
  },
  {
   "cell_type": "code",
   "execution_count": 85,
   "id": "4ea2da38",
   "metadata": {},
   "outputs": [
    {
     "data": {
      "text/plain": [
       "{}"
      ]
     },
     "execution_count": 85,
     "metadata": {},
     "output_type": "execute_result"
    }
   ],
   "source": [
    "d.clear()\n",
    "\n",
    "d"
   ]
  },
  {
   "cell_type": "markdown",
   "id": "ab9bfd53",
   "metadata": {},
   "source": [
    "### 视图"
   ]
  },
  {
   "cell_type": "markdown",
   "id": "a8380749",
   "metadata": {},
   "source": [
    "- `keys()`:返回字典中所有的key组成的视图对象；"
   ]
  },
  {
   "cell_type": "code",
   "execution_count": 86,
   "id": "00abb138",
   "metadata": {},
   "outputs": [],
   "source": [
    "d = {'three': 3, 'four': 4, 'two': 2, 'one': 1}"
   ]
  },
  {
   "cell_type": "code",
   "execution_count": 87,
   "id": "fce58170",
   "metadata": {},
   "outputs": [
    {
     "data": {
      "text/plain": [
       "dict_keys(['three', 'four', 'two', 'one'])"
      ]
     },
     "execution_count": 87,
     "metadata": {},
     "output_type": "execute_result"
    }
   ],
   "source": [
    "d.keys()"
   ]
  },
  {
   "cell_type": "code",
   "execution_count": 88,
   "id": "4f2da6f1",
   "metadata": {},
   "outputs": [
    {
     "data": {
      "text/plain": [
       "['three', 'four', 'two', 'one']"
      ]
     },
     "execution_count": 88,
     "metadata": {},
     "output_type": "execute_result"
    }
   ],
   "source": [
    "list(d.keys())"
   ]
  },
  {
   "cell_type": "code",
   "execution_count": 92,
   "id": "c37a209f",
   "metadata": {},
   "outputs": [
    {
     "name": "stdout",
     "output_type": "stream",
     "text": [
      "three\n",
      "four\n",
      "two\n",
      "one\n"
     ]
    }
   ],
   "source": [
    "for i in d.keys():\n",
    "    print(i)"
   ]
  },
  {
   "cell_type": "markdown",
   "id": "0f5a6a81",
   "metadata": {},
   "source": [
    "- `values()`: 返回字典中所有value组成的视图对象；"
   ]
  },
  {
   "cell_type": "code",
   "execution_count": 89,
   "id": "184aca23",
   "metadata": {},
   "outputs": [
    {
     "data": {
      "text/plain": [
       "dict_values([3, 4, 2, 1])"
      ]
     },
     "execution_count": 89,
     "metadata": {},
     "output_type": "execute_result"
    }
   ],
   "source": [
    "d.values()"
   ]
  },
  {
   "cell_type": "code",
   "execution_count": 93,
   "id": "db9753a3",
   "metadata": {},
   "outputs": [
    {
     "name": "stdout",
     "output_type": "stream",
     "text": [
      "3\n",
      "4\n",
      "2\n",
      "1\n"
     ]
    }
   ],
   "source": [
    "for i in d.values():\n",
    "    print(i)"
   ]
  },
  {
   "cell_type": "markdown",
   "id": "6e7623f7",
   "metadata": {},
   "source": [
    "- `items()`: 返回字典中所有(key,value)元组对组成的视图对象；"
   ]
  },
  {
   "cell_type": "code",
   "execution_count": 91,
   "id": "ed8c725b",
   "metadata": {},
   "outputs": [
    {
     "data": {
      "text/plain": [
       "dict_items([('three', 3), ('four', 4), ('two', 2), ('one', 1)])"
      ]
     },
     "execution_count": 91,
     "metadata": {},
     "output_type": "execute_result"
    }
   ],
   "source": [
    "d.items()"
   ]
  },
  {
   "cell_type": "code",
   "execution_count": 94,
   "id": "2f1b272c",
   "metadata": {},
   "outputs": [
    {
     "name": "stdout",
     "output_type": "stream",
     "text": [
      "three --> 3\n",
      "four --> 4\n",
      "two --> 2\n",
      "one --> 1\n"
     ]
    }
   ],
   "source": [
    "for (key,value) in d.items():\n",
    "    print(key,\"-->\",value)"
   ]
  }
 ],
 "metadata": {
  "kernelspec": {
   "display_name": "Python 3",
   "language": "python",
   "name": "python3"
  },
  "language_info": {
   "codemirror_mode": {
    "name": "ipython",
    "version": 3
   },
   "file_extension": ".py",
   "mimetype": "text/x-python",
   "name": "python",
   "nbconvert_exporter": "python",
   "pygments_lexer": "ipython3",
   "version": "3.8.5"
  },
  "latex_envs": {
   "LaTeX_envs_menu_present": true,
   "autoclose": false,
   "autocomplete": true,
   "bibliofile": "biblio.bib",
   "cite_by": "apalike",
   "current_citInitial": 1,
   "eqLabelWithNumbers": true,
   "eqNumInitial": 1,
   "hotkeys": {
    "equation": "Ctrl-E",
    "itemize": "Ctrl-I"
   },
   "labels_anchors": false,
   "latex_user_defs": false,
   "report_style_numbering": false,
   "user_envs_cfg": false
  },
  "toc": {
   "base_numbering": 1,
   "nav_menu": {},
   "number_sections": false,
   "sideBar": true,
   "skip_h1_title": false,
   "title_cell": "Table of Contents",
   "title_sidebar": "Contents",
   "toc_cell": false,
   "toc_position": {
    "height": "calc(100% - 180px)",
    "left": "10px",
    "top": "150px",
    "width": "245.76px"
   },
   "toc_section_display": true,
   "toc_window_display": true
  }
 },
 "nbformat": 4,
 "nbformat_minor": 5
}
