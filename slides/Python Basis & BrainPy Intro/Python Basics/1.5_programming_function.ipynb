{
 "cells": [
  {
   "cell_type": "markdown",
   "id": "f0054421",
   "metadata": {},
   "source": [
    "# `function` (函数)"
   ]
  },
  {
   "cell_type": "markdown",
   "id": "1dc05ed8",
   "metadata": {},
   "source": [
    "函数是组织好的，可重复使用的，用来实现单一，或相关联功能的代码段。\n",
    "\n",
    "函数能提高应用的模块性，和代码的重复利用率。\n",
    "\n",
    "Python提供了许多内建函数，比如`print()`。但用户也可以自己创建函数，这被叫做用户自定义函数。"
   ]
  },
  {
   "cell_type": "markdown",
   "id": "ac390777",
   "metadata": {},
   "source": [
    "## 创建函数"
   ]
  },
  {
   "cell_type": "markdown",
   "id": "ba8c4caa",
   "metadata": {},
   "source": [
    "### `def`关键字"
   ]
  },
  {
   "cell_type": "markdown",
   "id": "8b64fae6",
   "metadata": {},
   "source": [
    "Python中使用def关键字来声明函数，声明函数的格式为：\n",
    "\n",
    "```python\n",
    "\n",
    "def func_name(args):\n",
    "    ...body...\n",
    "    [return ...]\n",
    "```\n",
    "\n",
    "\n",
    "有3个需要注意的地方：\n",
    "\n",
    "- 函数名后面必须加冒号\n",
    "- 如果函数体和def不在同一行，则必须缩进\n",
    "- return指定函数返回值，用来结束函数\n",
    "\n",
    "但return语句是可有可无的，如果不给return，则等价于加上了`return None`，即函数默认返回None结构"
   ]
  },
  {
   "cell_type": "markdown",
   "id": "7bdd9a46",
   "metadata": {},
   "source": [
    "#### 函数参数"
   ]
  },
  {
   "cell_type": "markdown",
   "id": "d6ff6fc9",
   "metadata": {},
   "source": [
    "**必需参数**\n",
    "\n",
    "必需参数须以正确的顺序传入函数。调用时的数量必须和声明时的一样。\n",
    "\n",
    "调用 printme() 函数，你必须传入一个参数，不然会出现语法错误："
   ]
  },
  {
   "cell_type": "code",
   "execution_count": 12,
   "id": "d27c4d23",
   "metadata": {},
   "outputs": [],
   "source": [
    "def print1( a ):\n",
    "   print(a)"
   ]
  },
  {
   "cell_type": "code",
   "execution_count": 14,
   "id": "60152d02",
   "metadata": {},
   "outputs": [
    {
     "data": {
      "text/plain": [
       "function"
      ]
     },
     "execution_count": 14,
     "metadata": {},
     "output_type": "execute_result"
    }
   ],
   "source": [
    "type(print1)"
   ]
  },
  {
   "cell_type": "code",
   "execution_count": 13,
   "id": "d9cc8198",
   "metadata": {},
   "outputs": [
    {
     "data": {
      "text/plain": [
       "['__annotations__',\n",
       " '__call__',\n",
       " '__class__',\n",
       " '__closure__',\n",
       " '__code__',\n",
       " '__defaults__',\n",
       " '__delattr__',\n",
       " '__dict__',\n",
       " '__dir__',\n",
       " '__doc__',\n",
       " '__eq__',\n",
       " '__format__',\n",
       " '__ge__',\n",
       " '__get__',\n",
       " '__getattribute__',\n",
       " '__globals__',\n",
       " '__gt__',\n",
       " '__hash__',\n",
       " '__init__',\n",
       " '__init_subclass__',\n",
       " '__kwdefaults__',\n",
       " '__le__',\n",
       " '__lt__',\n",
       " '__module__',\n",
       " '__name__',\n",
       " '__ne__',\n",
       " '__new__',\n",
       " '__qualname__',\n",
       " '__reduce__',\n",
       " '__reduce_ex__',\n",
       " '__repr__',\n",
       " '__setattr__',\n",
       " '__sizeof__',\n",
       " '__str__',\n",
       " '__subclasshook__']"
      ]
     },
     "execution_count": 13,
     "metadata": {},
     "output_type": "execute_result"
    }
   ],
   "source": [
    "dir(print1)"
   ]
  },
  {
   "cell_type": "code",
   "execution_count": 3,
   "id": "2a1996f6",
   "metadata": {},
   "outputs": [
    {
     "name": "stdout",
     "output_type": "stream",
     "text": [
      "hhhhhh\n"
     ]
    }
   ],
   "source": [
    "print1('hhhhhh')"
   ]
  },
  {
   "cell_type": "code",
   "execution_count": 4,
   "id": "ff8a30e0",
   "metadata": {},
   "outputs": [
    {
     "ename": "TypeError",
     "evalue": "printme() missing 1 required positional argument: 'a'",
     "output_type": "error",
     "traceback": [
      "\u001b[1;31m---------------------------------------------------------------------------\u001b[0m",
      "\u001b[1;31mTypeError\u001b[0m                                 Traceback (most recent call last)",
      "\u001b[1;32m<ipython-input-4-19c689ae8a3e>\u001b[0m in \u001b[0;36m<module>\u001b[1;34m\u001b[0m\n\u001b[1;32m----> 1\u001b[1;33m \u001b[0mprintme\u001b[0m\u001b[1;33m(\u001b[0m\u001b[1;33m)\u001b[0m\u001b[1;33m\u001b[0m\u001b[1;33m\u001b[0m\u001b[0m\n\u001b[0m",
      "\u001b[1;31mTypeError\u001b[0m: printme() missing 1 required positional argument: 'a'"
     ]
    }
   ],
   "source": [
    "print1()"
   ]
  },
  {
   "cell_type": "markdown",
   "id": "09047c2e",
   "metadata": {},
   "source": [
    "#### 关键字参数"
   ]
  },
  {
   "cell_type": "code",
   "execution_count": 5,
   "id": "395f1c2d",
   "metadata": {},
   "outputs": [],
   "source": [
    "def print2( name, age ):\n",
    "   print (\"名字: \", name)\n",
    "   print (\"年龄: \", age)"
   ]
  },
  {
   "cell_type": "code",
   "execution_count": 6,
   "id": "a39d2804",
   "metadata": {},
   "outputs": [
    {
     "name": "stdout",
     "output_type": "stream",
     "text": [
      "名字:  runoob\n",
      "年龄:  50\n"
     ]
    }
   ],
   "source": [
    "print2(age=50, name=\"runoob\" )"
   ]
  },
  {
   "cell_type": "code",
   "execution_count": 7,
   "id": "cce9221f",
   "metadata": {},
   "outputs": [
    {
     "name": "stdout",
     "output_type": "stream",
     "text": [
      "名字:  runoob\n",
      "年龄:  50\n"
     ]
    }
   ],
   "source": [
    "print2( name=\"runoob\", age=50,  )"
   ]
  },
  {
   "cell_type": "markdown",
   "id": "de366b3b",
   "metadata": {},
   "source": [
    "#### 默认参数\n",
    "\n",
    "调用函数时，如果没有传递参数，则会使用默认参数。以下实例中如果没有传入 age 参数，则使用默认值："
   ]
  },
  {
   "cell_type": "code",
   "execution_count": 8,
   "id": "28c02905",
   "metadata": {},
   "outputs": [],
   "source": [
    "def print3( name, age = 35 ):\n",
    "   print (\"名字: \", name)\n",
    "   print (\"年龄: \", age)"
   ]
  },
  {
   "cell_type": "code",
   "execution_count": 9,
   "id": "a4ec5bcc",
   "metadata": {},
   "outputs": [
    {
     "name": "stdout",
     "output_type": "stream",
     "text": [
      "名字:  runoob\n",
      "年龄:  50\n",
      "------------------------\n",
      "名字:  runoob\n",
      "年龄:  35\n"
     ]
    }
   ],
   "source": [
    "print3( age=50, name=\"runoob\" )\n",
    "print (\"------------------------\")\n",
    "print3( name=\"runoob\" )"
   ]
  },
  {
   "cell_type": "markdown",
   "id": "e9d17dc5",
   "metadata": {},
   "source": [
    "#### 不定长参数\n",
    "\n",
    "你可能需要一个函数能处理比当初声明时更多的参数。这些参数叫做不定长参数，和上述 2 种参数不同，声明时不会命名。基本语法如下：`*args`\n",
    "\n",
    "加了星号 `*` 的参数会以元组(tuple)的形式导入，存放所有未命名的变量参数。"
   ]
  },
  {
   "cell_type": "code",
   "execution_count": 15,
   "id": "5b9034fe",
   "metadata": {},
   "outputs": [],
   "source": [
    "def print4( arg1, *vartuple ):\n",
    "   print (\"输出: \")\n",
    "   print (arg1)\n",
    "   print (vartuple)"
   ]
  },
  {
   "cell_type": "code",
   "execution_count": 16,
   "id": "9432b927",
   "metadata": {},
   "outputs": [
    {
     "name": "stdout",
     "output_type": "stream",
     "text": [
      "输出: \n",
      "70\n",
      "(60, 50)\n"
     ]
    }
   ],
   "source": [
    "print4( 70, 60, 50 )"
   ]
  },
  {
   "cell_type": "markdown",
   "id": "67b96f81",
   "metadata": {},
   "source": [
    "如果在函数调用时没有指定参数，它就是一个空元组。我们也可以不向函数传递未命名的变量。如下实例："
   ]
  },
  {
   "cell_type": "code",
   "execution_count": 17,
   "id": "b3ccb47e",
   "metadata": {},
   "outputs": [
    {
     "name": "stdout",
     "output_type": "stream",
     "text": [
      "输出: \n",
      "70\n",
      "()\n"
     ]
    }
   ],
   "source": [
    "print4( 70, )"
   ]
  },
  {
   "cell_type": "markdown",
   "id": "0e8c7d9e",
   "metadata": {},
   "source": [
    "#### 命名关键字参数\n",
    "\n",
    "加了两个星号 `**` 的参数会以字典的形式导入。"
   ]
  },
  {
   "cell_type": "code",
   "execution_count": 20,
   "id": "a3edca7c",
   "metadata": {},
   "outputs": [],
   "source": [
    "def print5( arg1, **vardict ):\n",
    "   print (\"输出: \")\n",
    "   print (arg1)\n",
    "   print (vardict)"
   ]
  },
  {
   "cell_type": "code",
   "execution_count": 21,
   "id": "9cc49053",
   "metadata": {},
   "outputs": [
    {
     "name": "stdout",
     "output_type": "stream",
     "text": [
      "输出: \n",
      "1\n",
      "{'a': 2, 'b': 3}\n"
     ]
    }
   ],
   "source": [
    "print5(1, a=2,b=3)"
   ]
  },
  {
   "cell_type": "code",
   "execution_count": 22,
   "id": "9e12ee83",
   "metadata": {},
   "outputs": [
    {
     "name": "stdout",
     "output_type": "stream",
     "text": [
      "输出: \n",
      "1\n",
      "{}\n"
     ]
    }
   ],
   "source": [
    "print5(1)"
   ]
  },
  {
   "cell_type": "markdown",
   "id": "581b4a19",
   "metadata": {},
   "source": [
    "#### return语句"
   ]
  },
  {
   "cell_type": "markdown",
   "id": "33a9c1c5",
   "metadata": {},
   "source": [
    "`return [表达式]` 语句用于退出函数，选择性地向调用方返回一个表达式。不带参数值的return语句返回None。"
   ]
  },
  {
   "cell_type": "code",
   "execution_count": 24,
   "id": "6fa65f7a",
   "metadata": {},
   "outputs": [],
   "source": [
    "def sum1( a, b ):\n",
    "    return a + b"
   ]
  },
  {
   "cell_type": "code",
   "execution_count": 25,
   "id": "5e397591",
   "metadata": {},
   "outputs": [
    {
     "data": {
      "text/plain": [
       "3"
      ]
     },
     "execution_count": 25,
     "metadata": {},
     "output_type": "execute_result"
    }
   ],
   "source": [
    "sum1(1, 2)"
   ]
  },
  {
   "cell_type": "code",
   "execution_count": 27,
   "id": "ee16bdd5",
   "metadata": {},
   "outputs": [],
   "source": [
    "def sum2( a, b ):\n",
    "    return a + b, a "
   ]
  },
  {
   "cell_type": "code",
   "execution_count": 28,
   "id": "971e4387",
   "metadata": {},
   "outputs": [
    {
     "data": {
      "text/plain": [
       "(3, 1)"
      ]
     },
     "execution_count": 28,
     "metadata": {},
     "output_type": "execute_result"
    }
   ],
   "source": [
    "sum2( 1, 2)"
   ]
  },
  {
   "cell_type": "code",
   "execution_count": 29,
   "id": "729d2c74",
   "metadata": {},
   "outputs": [],
   "source": [
    "def sum3( a, b ):\n",
    "    return a + b,  "
   ]
  },
  {
   "cell_type": "code",
   "execution_count": 30,
   "id": "91d68306",
   "metadata": {},
   "outputs": [
    {
     "data": {
      "text/plain": [
       "(3,)"
      ]
     },
     "execution_count": 30,
     "metadata": {},
     "output_type": "execute_result"
    }
   ],
   "source": [
    "sum3( 1, 2)"
   ]
  },
  {
   "cell_type": "markdown",
   "id": "34500dcd",
   "metadata": {},
   "source": [
    "### `lambda`匿名函数"
   ]
  },
  {
   "cell_type": "markdown",
   "id": "ccf152bf",
   "metadata": {},
   "source": [
    "在python中使用`lambda`关键字声明匿名函数，python中的`lambda`是一个表达式而不是一个语句，这意味着某些语句环境下可能无法使用def声明函数，但却可以使用lambda声明匿名函数。当然，匿名函数能实现的功能，命名函数也以一样都能实现，只不过有时候可能会比较复杂，可读性会更差。\n",
    "\n",
    "lambda声明匿名函数的方式很简单，lambda关键字后面跟上参数列表，然后一个冒号，冒号后跟一个表达式。\n",
    "\n",
    "```python\n",
    "lambda argl, arg2,... argN :expression statement\n",
    "```"
   ]
  },
  {
   "cell_type": "code",
   "execution_count": 31,
   "id": "d80aebea",
   "metadata": {},
   "outputs": [
    {
     "data": {
      "text/plain": [
       "<function __main__.<lambda>(x, y, z)>"
      ]
     },
     "execution_count": 31,
     "metadata": {},
     "output_type": "execute_result"
    }
   ],
   "source": [
    "f = lambda x,y,z: x+y+z\n",
    "\n",
    "f"
   ]
  },
  {
   "cell_type": "code",
   "execution_count": 32,
   "id": "9979c6e0",
   "metadata": {},
   "outputs": [
    {
     "data": {
      "text/plain": [
       "9"
      ]
     },
     "execution_count": 32,
     "metadata": {},
     "output_type": "execute_result"
    }
   ],
   "source": [
    "f(2,3,4)"
   ]
  },
  {
   "cell_type": "markdown",
   "id": "a0e7ff3e",
   "metadata": {},
   "source": [
    "## 使用函数"
   ]
  },
  {
   "cell_type": "markdown",
   "id": "25041da1",
   "metadata": {},
   "source": [
    "### 函数调用"
   ]
  },
  {
   "cell_type": "markdown",
   "id": "904ed657",
   "metadata": {},
   "source": [
    "如上所述。"
   ]
  },
  {
   "cell_type": "markdown",
   "id": "a2ca06a5",
   "metadata": {},
   "source": [
    "### 函数变量"
   ]
  },
  {
   "cell_type": "markdown",
   "id": "7f813b9b",
   "metadata": {},
   "source": [
    "python是解释性语言，读一行解释一行，解释一行忘记一行。而函数是一种代码块，代码块是一个解释单元，是一个整体。在代码块范围内不会忘记读取过的行，也不会读一行就立即解释一行，而是读取完所有代码块内的行，然后统筹安排地进行解释。\n",
    "\n",
    "一个函数声明语句有一个属于自己的代码块范围。"
   ]
  },
  {
   "cell_type": "code",
   "execution_count": 35,
   "id": "97b0ace9",
   "metadata": {},
   "outputs": [],
   "source": [
    "x1 = 3\n",
    "x2 = 5\n",
    "\n",
    "def myfunc(a, x2):\n",
    "    x3 = 10\n",
    "    print('a =', a)\n",
    "    print('x1 =', x1)\n",
    "    print('x2 =', x2)\n",
    "    print('x3 =', x3)"
   ]
  },
  {
   "cell_type": "code",
   "execution_count": 36,
   "id": "812e3778",
   "metadata": {},
   "outputs": [
    {
     "name": "stdout",
     "output_type": "stream",
     "text": [
      "a= 5\n",
      "x1= 3\n",
      "x2= 6\n",
      "x3= 10\n"
     ]
    }
   ],
   "source": [
    "myfunc(5, 6)"
   ]
  },
  {
   "cell_type": "markdown",
   "id": "f27f34f7",
   "metadata": {},
   "source": [
    "- 全局变量: `x1`, `x2`\n",
    "- 本地变量: `a`, `x2`, `x3`"
   ]
  },
  {
   "cell_type": "markdown",
   "id": "5464797f",
   "metadata": {},
   "source": [
    "当在某个范围引用某个变量的时候，将从它所在的层次开始搜索变量是否存在，不存在则向外层继续搜索。搜索到了，则立即停止。"
   ]
  },
  {
   "cell_type": "markdown",
   "id": "b7d7fd7b",
   "metadata": {},
   "source": [
    "#### `global`关键字\n",
    "\n",
    "如果想要在def的内部修改全局变量，就需要使用global关键字声明变量："
   ]
  },
  {
   "cell_type": "code",
   "execution_count": 37,
   "id": "4476e24e",
   "metadata": {},
   "outputs": [],
   "source": [
    "x=2\n",
    "def f():\n",
    "    global x\n",
    "    x=3\n",
    "    print(x)"
   ]
  },
  {
   "cell_type": "code",
   "execution_count": 38,
   "id": "faadc82e",
   "metadata": {},
   "outputs": [
    {
     "name": "stdout",
     "output_type": "stream",
     "text": [
      "3\n",
      "3\n"
     ]
    }
   ],
   "source": [
    "f()     \n",
    "\n",
    "x"
   ]
  },
  {
   "cell_type": "markdown",
   "id": "74af0d5c",
   "metadata": {},
   "source": [
    "global可以声明一个或多个变量为全局变量，多个变量使用逗号隔开，也可以声明事先不存在的变量为全局变量："
   ]
  },
  {
   "cell_type": "code",
   "execution_count": 45,
   "id": "6138e781",
   "metadata": {},
   "outputs": [],
   "source": [
    "x=2\n",
    "def f():\n",
    "    \"\"\"Function usage can be documented here.\"\"\"\n",
    "    global x,y\n",
    "    x,y = 3,4\n",
    "    print(x,y)"
   ]
  },
  {
   "cell_type": "code",
   "execution_count": 41,
   "id": "f38d3237",
   "metadata": {},
   "outputs": [
    {
     "name": "stdout",
     "output_type": "stream",
     "text": [
      "3 4\n"
     ]
    },
    {
     "data": {
      "text/plain": [
       "(3, 4)"
      ]
     },
     "execution_count": 41,
     "metadata": {},
     "output_type": "execute_result"
    }
   ],
   "source": [
    "f()\n",
    "\n",
    "x, y"
   ]
  },
  {
   "cell_type": "markdown",
   "id": "f2268dd8",
   "metadata": {},
   "source": [
    "不能global中直接赋值。所以下面的是错的：\n",
    "\n",
    "```python\n",
    "\n",
    "global x=2\n",
    "```"
   ]
  },
  {
   "cell_type": "markdown",
   "id": "867388ec",
   "metadata": {},
   "source": [
    "### 函数属性"
   ]
  },
  {
   "cell_type": "code",
   "execution_count": 42,
   "id": "532c5377",
   "metadata": {},
   "outputs": [],
   "source": [
    "f.var1 = 'abc'"
   ]
  },
  {
   "cell_type": "code",
   "execution_count": 43,
   "id": "167e2d87",
   "metadata": {},
   "outputs": [
    {
     "data": {
      "text/plain": [
       "'abc'"
      ]
     },
     "execution_count": 43,
     "metadata": {},
     "output_type": "execute_result"
    }
   ],
   "source": [
    "f.var1"
   ]
  },
  {
   "cell_type": "code",
   "execution_count": 44,
   "id": "73aedcea",
   "metadata": {},
   "outputs": [
    {
     "data": {
      "text/plain": [
       "'f'"
      ]
     },
     "execution_count": 44,
     "metadata": {},
     "output_type": "execute_result"
    }
   ],
   "source": [
    "f.__name__"
   ]
  },
  {
   "cell_type": "code",
   "execution_count": 46,
   "id": "b8e2ae5f",
   "metadata": {},
   "outputs": [
    {
     "data": {
      "text/plain": [
       "'Function usage can be documented here.'"
      ]
     },
     "execution_count": 46,
     "metadata": {},
     "output_type": "execute_result"
    }
   ],
   "source": [
    "f.__doc__"
   ]
  },
  {
   "cell_type": "code",
   "execution_count": 47,
   "id": "4689901d",
   "metadata": {},
   "outputs": [
    {
     "data": {
      "text/plain": [
       "<code object f at 0x000001B8036DD660, file \"<ipython-input-45-d846d48b1905>\", line 2>"
      ]
     },
     "execution_count": 47,
     "metadata": {},
     "output_type": "execute_result"
    }
   ],
   "source": [
    "f.__code__"
   ]
  },
  {
   "cell_type": "code",
   "execution_count": 48,
   "id": "efc7d9a7",
   "metadata": {},
   "outputs": [
    {
     "name": "stdout",
     "output_type": "stream",
     "text": [
      "co_argcount: 0\n",
      "co_cellvars: ()\n",
      "co_code: b'd\\x01\\\\\\x02a\\x00a\\x01t\\x02t\\x00t\\x01\\x83\\x02\\x01\\x00d\\x02S\\x00'\n",
      "co_consts: ('Function usage can be documented here.', (3, 4), None)\n",
      "co_filename: <ipython-input-45-d846d48b1905>\n",
      "co_firstlineno: 2\n",
      "co_flags: 67\n",
      "co_freevars: ()\n",
      "co_kwonlyargcount: 0\n",
      "co_lnotab: b'\\x00\\x03\\x08\\x01'\n",
      "co_name: f\n",
      "co_names: ('x', 'y', 'print')\n",
      "co_nlocals: 0\n",
      "co_posonlyargcount: 0\n",
      "co_stacksize: 3\n",
      "co_varnames: ()\n"
     ]
    }
   ],
   "source": [
    "for i in dir(f.__code__):\n",
    "    if i.startswith(\"co\"):\n",
    "        print(i+\":\",eval(\"f.__code__.\"+i))"
   ]
  },
  {
   "cell_type": "markdown",
   "id": "ed5009b9",
   "metadata": {},
   "source": [
    "下面将根据上面查看的结果解释各属性：\n",
    "\n",
    "`co_name`: \n",
    "函数的名称。\n",
    "\n",
    "上例中该属性的值为外层函数f和闭包函数g，注意不是f1。\n",
    "\n",
    "`co_filename`: \n",
    "函数定义在哪个文件名中。\n",
    "\n",
    "`co_firstlineno`: \n",
    "函数声明语句在文件中的第几行。即def关键字所在的行号。\n",
    "\n",
    "`co_consts`: \n",
    "该函数中使用的常量有哪些。python中并没有专门的常量概念，所有字面意义的数据都是常量。\n",
    "\n",
    "..."
   ]
  },
  {
   "cell_type": "markdown",
   "id": "66ef987a",
   "metadata": {},
   "source": [
    "### object => function"
   ]
  },
  {
   "cell_type": "markdown",
   "id": "a2570e6d",
   "metadata": {},
   "source": [
    "`__call__()`"
   ]
  },
  {
   "cell_type": "code",
   "execution_count": 53,
   "id": "aeefa7f8",
   "metadata": {},
   "outputs": [],
   "source": [
    "class MyFunc(object):\n",
    "    def __init__(self, a):\n",
    "        self.a = a\n",
    "        \n",
    "    def __call__(self, b):\n",
    "        return self.a + b"
   ]
  },
  {
   "cell_type": "code",
   "execution_count": 54,
   "id": "84c960d3",
   "metadata": {},
   "outputs": [
    {
     "data": {
      "text/plain": [
       "<__main__.MyFunc at 0x1b8036e8b20>"
      ]
     },
     "execution_count": 54,
     "metadata": {},
     "output_type": "execute_result"
    }
   ],
   "source": [
    "f2 = MyFunc(10)\n",
    "\n",
    "f2"
   ]
  },
  {
   "cell_type": "code",
   "execution_count": 55,
   "id": "d2ef675b",
   "metadata": {},
   "outputs": [
    {
     "data": {
      "text/plain": [
       "30"
      ]
     },
     "execution_count": 55,
     "metadata": {},
     "output_type": "execute_result"
    }
   ],
   "source": [
    "f2(20)"
   ]
  },
  {
   "cell_type": "markdown",
   "id": "24c7fd87",
   "metadata": {},
   "source": [
    "### 嵌套函数 ==> decorator"
   ]
  },
  {
   "cell_type": "markdown",
   "id": "2c2fac37",
   "metadata": {},
   "source": [
    "函数内部可以嵌套函数。一般来说，在函数嵌套时，内层函数会作为外层函数的返回值(当然，并非必须)。"
   ]
  },
  {
   "cell_type": "code",
   "execution_count": 57,
   "id": "88234591",
   "metadata": {},
   "outputs": [],
   "source": [
    "def augment(f):\n",
    "    def new_f(a, b):\n",
    "        return f(a, b) + 10\n",
    "    return new_f"
   ]
  },
  {
   "cell_type": "code",
   "execution_count": 58,
   "id": "71b5f83a",
   "metadata": {},
   "outputs": [],
   "source": [
    "@augment\n",
    "def f_add(a, b):\n",
    "    return a + b"
   ]
  },
  {
   "cell_type": "code",
   "execution_count": 59,
   "id": "6db6e0ea",
   "metadata": {},
   "outputs": [
    {
     "data": {
      "text/plain": [
       "20"
      ]
     },
     "execution_count": 59,
     "metadata": {},
     "output_type": "execute_result"
    }
   ],
   "source": [
    "f_add(5, 5)"
   ]
  }
 ],
 "metadata": {
  "kernelspec": {
   "display_name": "Python 3",
   "language": "python",
   "name": "python3"
  },
  "language_info": {
   "codemirror_mode": {
    "name": "ipython",
    "version": 3
   },
   "file_extension": ".py",
   "mimetype": "text/x-python",
   "name": "python",
   "nbconvert_exporter": "python",
   "pygments_lexer": "ipython3",
   "version": "3.8.5"
  },
  "latex_envs": {
   "LaTeX_envs_menu_present": true,
   "autoclose": false,
   "autocomplete": true,
   "bibliofile": "biblio.bib",
   "cite_by": "apalike",
   "current_citInitial": 1,
   "eqLabelWithNumbers": true,
   "eqNumInitial": 1,
   "hotkeys": {
    "equation": "Ctrl-E",
    "itemize": "Ctrl-I"
   },
   "labels_anchors": false,
   "latex_user_defs": false,
   "report_style_numbering": false,
   "user_envs_cfg": false
  },
  "toc": {
   "base_numbering": 1,
   "nav_menu": {},
   "number_sections": true,
   "sideBar": true,
   "skip_h1_title": false,
   "title_cell": "Table of Contents",
   "title_sidebar": "Contents",
   "toc_cell": false,
   "toc_position": {},
   "toc_section_display": true,
   "toc_window_display": true
  }
 },
 "nbformat": 4,
 "nbformat_minor": 5
}
