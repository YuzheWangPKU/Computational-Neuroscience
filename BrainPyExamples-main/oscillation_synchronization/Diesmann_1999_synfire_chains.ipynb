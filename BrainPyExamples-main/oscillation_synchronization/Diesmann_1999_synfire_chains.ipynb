{
 "cells": [
  {
   "cell_type": "markdown",
   "metadata": {},
   "source": [
    "# _(Diesmann, et, al., 1999)_ Synfire Chains"
   ]
  },
  {
   "cell_type": "markdown",
   "metadata": {
    "lines_to_next_cell": 0
   },
   "source": [
    "Implementation of the paper:\n",
    "\n",
    "- Diesmann, Markus, Marc-Oliver Gewaltig, and Ad Aertsen. \"Stable propagation of synchronous spiking in cortical neural networks.\" Nature 402.6761 (1999): 529-533.\n",
    "\n",
    "Author:\n",
    "\n",
    "- Chaoming Wang (chao.brain@qq.com)"
   ]
  },
  {
   "cell_type": "code",
   "execution_count": 1,
   "metadata": {
    "ExecuteTime": {
     "end_time": "2021-03-28T08:35:52.655161Z",
     "start_time": "2021-03-28T08:35:51.047426Z"
    }
   },
   "outputs": [],
   "source": [
    "import brainpy as bp"
   ]
  },
  {
   "cell_type": "code",
   "execution_count": 2,
   "metadata": {
    "ExecuteTime": {
     "end_time": "2021-03-28T08:35:52.671054Z",
     "start_time": "2021-03-28T08:35:52.658049Z"
    },
    "lines_to_next_cell": 2
   },
   "outputs": [],
   "source": [
    "duration = 100.  # ms\n",
    "\n",
    "# Neuron model parameters\n",
    "Vr = -70.  # mV\n",
    "Vt = -55.  # mV\n",
    "tau_m = 10.  # ms\n",
    "tau_ref = 1.  # ms\n",
    "tau_psp = 0.325  # ms\n",
    "weight = 4.86  # mV\n",
    "noise = 39.24  # mV\n",
    "\n",
    "# Neuron groups\n",
    "n_groups = 10\n",
    "group_size = 100\n",
    "spike_sigma = 1.\n",
    "\n",
    "# Synapse parameter\n",
    "delay = 5.0  # ms"
   ]
  },
  {
   "cell_type": "code",
   "execution_count": 3,
   "metadata": {
    "ExecuteTime": {
     "end_time": "2021-03-28T08:35:52.719134Z",
     "start_time": "2021-03-28T08:35:52.683054Z"
    }
   },
   "outputs": [],
   "source": [
    "# neuron model\n",
    "# ------------\n",
    "\n",
    "\n",
    "class Groups(bp.NeuGroup):\n",
    "  def __init__(self, size, **kwargs):\n",
    "    super(Groups, self).__init__(size, **kwargs)\n",
    "\n",
    "    self.V = bp.math.Variable(Vr + bp.math.random.random(self.num) * (Vt - Vr))\n",
    "    self.x = bp.math.Variable(bp.math.zeros(self.num))\n",
    "    self.y = bp.math.Variable(bp.math.zeros(self.num))\n",
    "    self.spike = bp.math.Variable(bp.math.zeros(self.num))\n",
    "    self.not_ref = bp.math.Variable(bp.math.ones(self.num))\n",
    "    self.t_last_spike = bp.math.Variable(bp.math.ones(self.num) * -1e7)\n",
    "\n",
    "  @bp.odeint\n",
    "  def int_V(self, V, t, x):\n",
    "    return (-(V - Vr) + x) / tau_m\n",
    "\n",
    "  @bp.odeint\n",
    "  def int_x(self, x, t, y):\n",
    "    return (-x + y) / tau_psp\n",
    "\n",
    "  @staticmethod\n",
    "  @bp.sdeint(g=lambda y, t: noise)\n",
    "  def int_y(y, t):\n",
    "    df = -y / tau_psp + 25.27\n",
    "    return df\n",
    "\n",
    "  def update(self, _t, _dt):\n",
    "    self.x[:] = self.int_x(self.x, _t, self.y)\n",
    "    self.y[:] = self.int_y(self.y, _t)\n",
    "\n",
    "    for i in range(self.num):\n",
    "      self.spike[i] = False\n",
    "      self.not_ref[i] = 0.\n",
    "      if _t - self.t_last_spike[i] >= tau_ref:\n",
    "        V = self.int_V(self.V[i], _t, self.x[i])\n",
    "        if V > Vt:\n",
    "          self.spike[i] = True\n",
    "          self.t_last_spike[i] = _t\n",
    "          self.V[i] = Vr\n",
    "        else:\n",
    "          self.V[i] = V\n",
    "          self.not_ref[i] = 1."
   ]
  },
  {
   "cell_type": "code",
   "execution_count": 4,
   "metadata": {
    "ExecuteTime": {
     "end_time": "2021-03-28T08:35:52.735051Z",
     "start_time": "2021-03-28T08:35:52.723050Z"
    }
   },
   "outputs": [],
   "source": [
    "# synaptic  model\n",
    "# ---------------\n",
    "\n",
    "class SynBetweenGroups(bp.TwoEndConn):\n",
    "  def __init__(self, group, ext_group, **kwargs):\n",
    "    super(SynBetweenGroups, self).__init__(group, group, **kwargs)\n",
    "\n",
    "    self.group = group\n",
    "    self.ext = ext_group\n",
    "\n",
    "    # connections\n",
    "    self.mat1 = bp.math.ones((ext_group.num, group_size))\n",
    "    self.mat2 = bp.math.ones((group_size, group_size))\n",
    "\n",
    "    # variables\n",
    "    self.g = self.register_constant_delay('g', size=group.num, delay=delay)\n",
    "\n",
    "  def update(self, _t, _dt):\n",
    "    # synapse model between external and group 1\n",
    "    g = bp.math.zeros(self.group.num)\n",
    "    g[:group_size] = weight * bp.math.dot(self.ext.spike, self.mat1)\n",
    "    # feed-forward connection\n",
    "    for i in range(1, n_groups):\n",
    "      s1 = (i - 1) * group_size\n",
    "      s2 = i * group_size\n",
    "      s3 = (i + 1) * group_size\n",
    "      g[s2: s3] = weight * bp.math.dot(self.group.spike[s1: s2], self.mat2)\n",
    "    # delay push\n",
    "    self.g.push(g)\n",
    "    # delay pull\n",
    "    self.group.y += self.g.pull()"
   ]
  },
  {
   "cell_type": "code",
   "execution_count": 5,
   "metadata": {
    "ExecuteTime": {
     "end_time": "2021-03-28T08:35:52.751050Z",
     "start_time": "2021-03-28T08:35:52.740051Z"
    }
   },
   "outputs": [],
   "source": [
    "# Spike time group\n",
    "# ----------------\n",
    "\n",
    "class SpikeTimeInput(bp.NeuGroup):\n",
    "  target_backend = 'numpy'\n",
    "\n",
    "  def __init__(self, size, times, indices, need_sort=1., **kwargs):\n",
    "    super(SpikeTimeInput, self).__init__(size=size, **kwargs)\n",
    "\n",
    "    if len(indices) != len(times):\n",
    "      raise ValueError(f'The length of \"indices\" and \"times\" must be the same. '\n",
    "                       f'However, we got {len(indices)} != {len(times)}.')\n",
    "\n",
    "    # data about times and indices\n",
    "    self.idx = bp.math.Variable([0])\n",
    "    self.times = bp.math.asarray(times, dtype=bp.math.float_)\n",
    "    self.indices = bp.math.asarray(indices, dtype=bp.math.int_)\n",
    "    self.num_times = len(times)\n",
    "    if need_sort:\n",
    "      sort_idx = bp.math.argsort(times)\n",
    "      self.indices = self.indices[sort_idx]\n",
    "    self.spike = bp.math.Variable(bp.math.zeros(self.num, dtype=bool))\n",
    "\n",
    "  def update(self, _t, _dt):\n",
    "    self.spike[:] = False\n",
    "    while self.idx[0] < self.num_times and _t >= self.times[self.idx[0]]:\n",
    "      idx = self.indices[self.idx[0]]\n",
    "      self.spike[idx] = True\n",
    "      self.idx[:] += 1"
   ]
  },
  {
   "cell_type": "code",
   "execution_count": 6,
   "metadata": {
    "ExecuteTime": {
     "end_time": "2021-03-28T08:35:52.767051Z",
     "start_time": "2021-03-28T08:35:52.755049Z"
    }
   },
   "outputs": [],
   "source": [
    "# network running\n",
    "# ---------------\n",
    "\n",
    "def run_network(spike_num=48):\n",
    "  times = bp.math.random.randn(spike_num) * spike_sigma + 20\n",
    "  ext_group = SpikeTimeInput(spike_num, times=times, indices=bp.math.arange(spike_num))\n",
    "  group = Groups(size=n_groups * group_size, monitors=['spike'])\n",
    "  syn_conn = SynBetweenGroups(group, ext_group)\n",
    "\n",
    "  net = bp.Network(group, ext_group, syn_conn)\n",
    "  net.run(duration, report=0.2)\n",
    "\n",
    "  bp.visualize.raster_plot(group.mon.ts, group.mon.spike, xlim=(0, duration), show=True)"
   ]
  },
  {
   "cell_type": "markdown",
   "metadata": {},
   "source": [
    "When external spike num is 51, there exists \"synfire chain\"."
   ]
  },
  {
   "cell_type": "code",
   "execution_count": 7,
   "metadata": {
    "ExecuteTime": {
     "end_time": "2021-03-28T08:35:59.203722Z",
     "start_time": "2021-03-28T08:35:52.773051Z"
    }
   },
   "outputs": [
    {
     "name": "stdout",
     "output_type": "stream",
     "text": [
      "Compilation used 0.0025 s.\n",
      "Start running ...\n",
      "Run 20.0% used 1.116 s.\n",
      "Run 40.0% used 2.220 s.\n",
      "Run 60.0% used 3.651 s.\n",
      "Run 80.0% used 4.745 s.\n",
      "Run 100.0% used 5.844 s.\n",
      "Simulation is done in 5.845 s.\n",
      "\n"
     ]
    },
    {
     "data": {
      "image/png": "[encoded data removed]",
      "text/plain": [
       "<Figure size 432x288 with 1 Axes>"
      ]
     },
     "metadata": {
      "needs_background": "light"
     },
     "output_type": "display_data"
    }
   ],
   "source": [
    "run_network(spike_num=51)"
   ]
  },
  {
   "cell_type": "markdown",
   "metadata": {},
   "source": [
    "When external spike num is 44, the synchronous excitation disperses and eventually dies out."
   ]
  },
  {
   "cell_type": "code",
   "execution_count": 9,
   "metadata": {
    "ExecuteTime": {
     "end_time": "2021-03-28T08:36:02.069981Z",
     "start_time": "2021-03-28T08:35:59.211741Z"
    }
   },
   "outputs": [
    {
     "name": "stdout",
     "output_type": "stream",
     "text": [
      "Compilation used 0.0032 s.\n",
      "Start running ...\n",
      "Run 20.0% used 1.107 s.\n",
      "Run 40.0% used 2.175 s.\n",
      "Run 60.0% used 3.216 s.\n",
      "Run 80.0% used 4.311 s.\n",
      "Run 100.0% used 5.365 s.\n",
      "Simulation is done in 5.365 s.\n",
      "\n"
     ]
    },
    {
     "data": {
      "image/png": "[encoded data removed]",
      "text/plain": [
       "<Figure size 432x288 with 1 Axes>"
      ]
     },
     "metadata": {
      "needs_background": "light"
     },
     "output_type": "display_data"
    }
   ],
   "source": [
    "run_network(spike_num=44)"
   ]
  }
 ],
 "metadata": {
  "hide_input": false,
  "jupytext": {
   "formats": "ipynb,py:percent"
  },
  "kernelspec": {
   "display_name": "brainpy",
   "language": "python",
   "name": "brainpy"
  },
  "language_info": {
   "codemirror_mode": {
    "name": "ipython",
    "version": 3
   },
   "file_extension": ".py",
   "mimetype": "text/x-python",
   "name": "python",
   "nbconvert_exporter": "python",
   "pygments_lexer": "ipython3",
   "version": "3.8.11"
  },
  "latex_envs": {
   "LaTeX_envs_menu_present": true,
   "autoclose": false,
   "autocomplete": true,
   "bibliofile": "biblio.bib",
   "cite_by": "apalike",
   "current_citInitial": 1,
   "eqLabelWithNumbers": true,
   "eqNumInitial": 1,
   "hotkeys": {
    "equation": "Ctrl-E",
    "itemize": "Ctrl-I"
   },
   "labels_anchors": false,
   "latex_user_defs": false,
   "report_style_numbering": false,
   "user_envs_cfg": false
  },
  "toc": {
   "base_numbering": 1,
   "nav_menu": {},
   "number_sections": false,
   "sideBar": true,
   "skip_h1_title": false,
   "title_cell": "Table of Contents",
   "title_sidebar": "Contents",
   "toc_cell": false,
   "toc_position": {},
   "toc_section_display": true,
   "toc_window_display": false
  },
  "varInspector": {
   "cols": {
    "lenName": 16,
    "lenType": 16,
    "lenVar": 40
   },
   "kernels_config": {
    "python": {
     "delete_cmd_postfix": "",
     "delete_cmd_prefix": "del ",
     "library": "var_list.py",
     "varRefreshCmd": "print(var_dic_list())"
    },
    "r": {
     "delete_cmd_postfix": ") ",
     "delete_cmd_prefix": "rm(",
     "library": "var_list.r",
     "varRefreshCmd": "cat(var_dic_list()) "
    }
   },
   "types_to_exclude": [
    "module",
    "function",
    "builtin_function_or_method",
    "instance",
    "_Feature"
   ],
   "window_display": false
  }
 },
 "nbformat": 4,
 "nbformat_minor": 4
}
